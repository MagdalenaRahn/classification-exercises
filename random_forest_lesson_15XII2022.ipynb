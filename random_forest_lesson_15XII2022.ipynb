{
 "cells": [
  {
   "cell_type": "markdown",
   "id": "3af036c0",
   "metadata": {},
   "source": [
    "## Random Forests Lesson  \n",
    "\n",
    "**Ensemble :**  \n",
    "The random forest is made up of many models. There can be many types of ensembles. A model that is an amagamation of many models (decision tree classifiers), combining many models to make predictions.  \n",
    "\n",
    "**Bootstrapping :**  \n",
    "For any given tree in my model, I want it to be focussed on / trained on a given pc of all observations. This takes a random sample of the entire train dataset and then uses different random samples to train all the trees in the forest. This helps to prevent overfitting.  \n",
    "Random sampling of the training dataset and using different samples to train each tree.  \n",
    "\n",
    "**Aggregation :**   \n",
    "After all the prediction-trees have been made, aggregate the trees. Use this to help determine outcomes. If there are enough trees, and each one's just-ok results are aggregated, the one final prediction should be quite acceptable.  \n",
    "\n",
    "**Bagging :**  \n",
    "Bootstrapping + Aggregation. Aggregating of the predictions of all the random predictions. "
   ]
  },
  {
   "cell_type": "code",
   "execution_count": null,
   "id": "660c9c19",
   "metadata": {},
   "outputs": [],
   "source": []
  },
  {
   "cell_type": "code",
   "execution_count": 3,
   "id": "5bb5cd03",
   "metadata": {},
   "outputs": [],
   "source": [
    "import numpy as np\n",
    "import pandas as pd\n",
    "import matplotlib.pyplot as plt\n",
    "import sklearn\n",
    "from sklearn.model_selection import train_test_split\n",
    "from sklearn.tree import DecisionTreeClassifier, plot_tree\n",
    "from sklearn.metrics import classification_report, confusion_matrix, plot_confusion_matrix\n",
    "from sklearn.ensemble import RandomForestClassifier\n",
    "\n",
    "import env\n",
    "import acquire"
   ]
  },
  {
   "cell_type": "code",
   "execution_count": 4,
   "id": "c07da891",
   "metadata": {},
   "outputs": [],
   "source": [
    "rf = RandomForestClassifier(max_depth = 3, random_state = 23\n",
    "                           max_samples = 0.5)        \n",
    "                            # 50pc of all observations will be placed into each random sample\n",
    "\n",
    "\n",
    "\n",
    "# https://scikit-learn.org/stable/modules/generated/sklearn.ensemble.RandomForestClassifier.html"
   ]
  },
  {
   "cell_type": "code",
   "execution_count": null,
   "id": "548d4d70",
   "metadata": {},
   "outputs": [],
   "source": [
    "rf.fit(X_train, y_train)"
   ]
  }
 ],
 "metadata": {
  "kernelspec": {
   "display_name": "Python 3 (ipykernel)",
   "language": "python",
   "name": "python3"
  },
  "language_info": {
   "codemirror_mode": {
    "name": "ipython",
    "version": 3
   },
   "file_extension": ".py",
   "mimetype": "text/x-python",
   "name": "python",
   "nbconvert_exporter": "python",
   "pygments_lexer": "ipython3",
   "version": "3.9.13"
  }
 },
 "nbformat": 4,
 "nbformat_minor": 5
}
