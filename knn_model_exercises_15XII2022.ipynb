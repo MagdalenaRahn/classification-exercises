{
 "cells": [
  {
   "cell_type": "markdown",
   "id": "60a7fd58",
   "metadata": {},
   "source": [
    "<h1 style=\"background-color:Tomato;\">K-Nearest Neighbour Exercises"
   ]
  },
  {
   "cell_type": "code",
   "execution_count": 58,
   "id": "0495f678",
   "metadata": {},
   "outputs": [],
   "source": [
    "import numpy as np\n",
    "import pandas as pd\n",
    "import matplotlib.pyplot as plt\n",
    "%matplotlib inline\n",
    "import seaborn as sns\n",
    "\n",
    "import sklearn\n",
    "from sklearn.model_selection import train_test_split\n",
    "from sklearn.tree import DecisionTreeClassifier, plot_tree\n",
    "from sklearn.metrics import classification_report, confusion_matrix, plot_confusion_matrix\n",
    "\n",
    "import prepare\n",
    "import acquire\n",
    "\n",
    "import warnings\n",
    "warnings.filterwarnings(\"ignore\")\n",
    "\n",
    "from sklearn.neighbors import KNeighborsClassifier\n",
    "\n",
    "from pydataset import data"
   ]
  },
  {
   "cell_type": "markdown",
   "id": "5a276320",
   "metadata": {},
   "source": [
    "### 1 / Fit a K-Nearest Neighbors classifier to your training sample and transform (i.e, make predictions on the training sample).\n",
    "Use Titanic."
   ]
  },
  {
   "cell_type": "code",
   "execution_count": 2,
   "id": "48dbdc8e",
   "metadata": {},
   "outputs": [
    {
     "data": {
      "text/html": [
       "<div>\n",
       "<style scoped>\n",
       "    .dataframe tbody tr th:only-of-type {\n",
       "        vertical-align: middle;\n",
       "    }\n",
       "\n",
       "    .dataframe tbody tr th {\n",
       "        vertical-align: top;\n",
       "    }\n",
       "\n",
       "    .dataframe thead th {\n",
       "        text-align: right;\n",
       "    }\n",
       "</style>\n",
       "<table border=\"1\" class=\"dataframe\">\n",
       "  <thead>\n",
       "    <tr style=\"text-align: right;\">\n",
       "      <th></th>\n",
       "      <th>Unnamed: 0</th>\n",
       "      <th>passenger_id</th>\n",
       "      <th>survived</th>\n",
       "      <th>pclass</th>\n",
       "      <th>sex</th>\n",
       "      <th>age</th>\n",
       "      <th>sibsp</th>\n",
       "      <th>parch</th>\n",
       "      <th>fare</th>\n",
       "      <th>embarked</th>\n",
       "      <th>class</th>\n",
       "      <th>deck</th>\n",
       "      <th>embark_town</th>\n",
       "      <th>alone</th>\n",
       "    </tr>\n",
       "  </thead>\n",
       "  <tbody>\n",
       "    <tr>\n",
       "      <th>0</th>\n",
       "      <td>0</td>\n",
       "      <td>0</td>\n",
       "      <td>0</td>\n",
       "      <td>3</td>\n",
       "      <td>male</td>\n",
       "      <td>22.0</td>\n",
       "      <td>1</td>\n",
       "      <td>0</td>\n",
       "      <td>7.2500</td>\n",
       "      <td>S</td>\n",
       "      <td>Third</td>\n",
       "      <td>NaN</td>\n",
       "      <td>Southampton</td>\n",
       "      <td>0</td>\n",
       "    </tr>\n",
       "    <tr>\n",
       "      <th>1</th>\n",
       "      <td>1</td>\n",
       "      <td>1</td>\n",
       "      <td>1</td>\n",
       "      <td>1</td>\n",
       "      <td>female</td>\n",
       "      <td>38.0</td>\n",
       "      <td>1</td>\n",
       "      <td>0</td>\n",
       "      <td>71.2833</td>\n",
       "      <td>C</td>\n",
       "      <td>First</td>\n",
       "      <td>C</td>\n",
       "      <td>Cherbourg</td>\n",
       "      <td>0</td>\n",
       "    </tr>\n",
       "    <tr>\n",
       "      <th>2</th>\n",
       "      <td>2</td>\n",
       "      <td>2</td>\n",
       "      <td>1</td>\n",
       "      <td>3</td>\n",
       "      <td>female</td>\n",
       "      <td>26.0</td>\n",
       "      <td>0</td>\n",
       "      <td>0</td>\n",
       "      <td>7.9250</td>\n",
       "      <td>S</td>\n",
       "      <td>Third</td>\n",
       "      <td>NaN</td>\n",
       "      <td>Southampton</td>\n",
       "      <td>1</td>\n",
       "    </tr>\n",
       "    <tr>\n",
       "      <th>3</th>\n",
       "      <td>3</td>\n",
       "      <td>3</td>\n",
       "      <td>1</td>\n",
       "      <td>1</td>\n",
       "      <td>female</td>\n",
       "      <td>35.0</td>\n",
       "      <td>1</td>\n",
       "      <td>0</td>\n",
       "      <td>53.1000</td>\n",
       "      <td>S</td>\n",
       "      <td>First</td>\n",
       "      <td>C</td>\n",
       "      <td>Southampton</td>\n",
       "      <td>0</td>\n",
       "    </tr>\n",
       "    <tr>\n",
       "      <th>4</th>\n",
       "      <td>4</td>\n",
       "      <td>4</td>\n",
       "      <td>0</td>\n",
       "      <td>3</td>\n",
       "      <td>male</td>\n",
       "      <td>35.0</td>\n",
       "      <td>0</td>\n",
       "      <td>0</td>\n",
       "      <td>8.0500</td>\n",
       "      <td>S</td>\n",
       "      <td>Third</td>\n",
       "      <td>NaN</td>\n",
       "      <td>Southampton</td>\n",
       "      <td>1</td>\n",
       "    </tr>\n",
       "  </tbody>\n",
       "</table>\n",
       "</div>"
      ],
      "text/plain": [
       "   Unnamed: 0  passenger_id  survived  pclass     sex   age  sibsp  parch  \\\n",
       "0           0             0         0       3    male  22.0      1      0   \n",
       "1           1             1         1       1  female  38.0      1      0   \n",
       "2           2             2         1       3  female  26.0      0      0   \n",
       "3           3             3         1       1  female  35.0      1      0   \n",
       "4           4             4         0       3    male  35.0      0      0   \n",
       "\n",
       "      fare embarked  class deck  embark_town  alone  \n",
       "0   7.2500        S  Third  NaN  Southampton      0  \n",
       "1  71.2833        C  First    C    Cherbourg      0  \n",
       "2   7.9250        S  Third  NaN  Southampton      1  \n",
       "3  53.1000        S  First    C  Southampton      0  \n",
       "4   8.0500        S  Third  NaN  Southampton      1  "
      ]
     },
     "execution_count": 2,
     "metadata": {},
     "output_type": "execute_result"
    }
   ],
   "source": [
    "tati = pd.read_csv('titanic.csv')\n",
    "tati.head()"
   ]
  },
  {
   "cell_type": "code",
   "execution_count": 3,
   "id": "006a6a2c",
   "metadata": {},
   "outputs": [],
   "source": [
    "to_drop = ['deck', 'Unnamed: 0', 'age', 'embarked', 'passenger_id', 'class']\n",
    "\n",
    "# indicating which unnecessary or superfluous columns to drop"
   ]
  },
  {
   "cell_type": "code",
   "execution_count": 4,
   "id": "c611db96",
   "metadata": {},
   "outputs": [],
   "source": [
    "tati.drop(columns = to_drop, inplace = True)\n",
    "\n",
    "# dropping unnecessary or superfluous columns "
   ]
  },
  {
   "cell_type": "code",
   "execution_count": 5,
   "id": "6d309baf",
   "metadata": {},
   "outputs": [
    {
     "name": "stdout",
     "output_type": "stream",
     "text": [
      "<class 'pandas.core.frame.DataFrame'>\n",
      "Int64Index: 889 entries, 0 to 890\n",
      "Data columns (total 8 columns):\n",
      " #   Column       Non-Null Count  Dtype  \n",
      "---  ------       --------------  -----  \n",
      " 0   survived     889 non-null    int64  \n",
      " 1   pclass       889 non-null    int64  \n",
      " 2   sex          889 non-null    object \n",
      " 3   sibsp        889 non-null    int64  \n",
      " 4   parch        889 non-null    int64  \n",
      " 5   fare         889 non-null    float64\n",
      " 6   embark_town  889 non-null    object \n",
      " 7   alone        889 non-null    int64  \n",
      "dtypes: float64(1), int64(5), object(2)\n",
      "memory usage: 62.5+ KB\n"
     ]
    }
   ],
   "source": [
    "tati = tati.dropna()\n",
    "tati.info()\n",
    "\n",
    "#  drop rows with nulls"
   ]
  },
  {
   "cell_type": "code",
   "execution_count": 6,
   "id": "5911081f",
   "metadata": {},
   "outputs": [
    {
     "data": {
      "text/html": [
       "<div>\n",
       "<style scoped>\n",
       "    .dataframe tbody tr th:only-of-type {\n",
       "        vertical-align: middle;\n",
       "    }\n",
       "\n",
       "    .dataframe tbody tr th {\n",
       "        vertical-align: top;\n",
       "    }\n",
       "\n",
       "    .dataframe thead th {\n",
       "        text-align: right;\n",
       "    }\n",
       "</style>\n",
       "<table border=\"1\" class=\"dataframe\">\n",
       "  <thead>\n",
       "    <tr style=\"text-align: right;\">\n",
       "      <th></th>\n",
       "      <th>survived</th>\n",
       "      <th>pclass</th>\n",
       "      <th>sex</th>\n",
       "      <th>sibsp</th>\n",
       "      <th>parch</th>\n",
       "      <th>fare</th>\n",
       "      <th>embark_town</th>\n",
       "      <th>alone</th>\n",
       "    </tr>\n",
       "  </thead>\n",
       "  <tbody>\n",
       "    <tr>\n",
       "      <th>0</th>\n",
       "      <td>0</td>\n",
       "      <td>3</td>\n",
       "      <td>male</td>\n",
       "      <td>1</td>\n",
       "      <td>0</td>\n",
       "      <td>7.2500</td>\n",
       "      <td>Southampton</td>\n",
       "      <td>0</td>\n",
       "    </tr>\n",
       "    <tr>\n",
       "      <th>1</th>\n",
       "      <td>1</td>\n",
       "      <td>1</td>\n",
       "      <td>female</td>\n",
       "      <td>1</td>\n",
       "      <td>0</td>\n",
       "      <td>71.2833</td>\n",
       "      <td>Cherbourg</td>\n",
       "      <td>0</td>\n",
       "    </tr>\n",
       "    <tr>\n",
       "      <th>2</th>\n",
       "      <td>1</td>\n",
       "      <td>3</td>\n",
       "      <td>female</td>\n",
       "      <td>0</td>\n",
       "      <td>0</td>\n",
       "      <td>7.9250</td>\n",
       "      <td>Southampton</td>\n",
       "      <td>1</td>\n",
       "    </tr>\n",
       "    <tr>\n",
       "      <th>3</th>\n",
       "      <td>1</td>\n",
       "      <td>1</td>\n",
       "      <td>female</td>\n",
       "      <td>1</td>\n",
       "      <td>0</td>\n",
       "      <td>53.1000</td>\n",
       "      <td>Southampton</td>\n",
       "      <td>0</td>\n",
       "    </tr>\n",
       "    <tr>\n",
       "      <th>4</th>\n",
       "      <td>0</td>\n",
       "      <td>3</td>\n",
       "      <td>male</td>\n",
       "      <td>0</td>\n",
       "      <td>0</td>\n",
       "      <td>8.0500</td>\n",
       "      <td>Southampton</td>\n",
       "      <td>1</td>\n",
       "    </tr>\n",
       "  </tbody>\n",
       "</table>\n",
       "</div>"
      ],
      "text/plain": [
       "   survived  pclass     sex  sibsp  parch     fare  embark_town  alone\n",
       "0         0       3    male      1      0   7.2500  Southampton      0\n",
       "1         1       1  female      1      0  71.2833    Cherbourg      0\n",
       "2         1       3  female      0      0   7.9250  Southampton      1\n",
       "3         1       1  female      1      0  53.1000  Southampton      0\n",
       "4         0       3    male      0      0   8.0500  Southampton      1"
      ]
     },
     "execution_count": 6,
     "metadata": {},
     "output_type": "execute_result"
    }
   ],
   "source": [
    "# baseline for survival is to die (ie, ['survived'] == '0').\n",
    "\n",
    "tati[tati.survived == 0]\n",
    "\n",
    "tati.head()"
   ]
  },
  {
   "cell_type": "code",
   "execution_count": 7,
   "id": "dbc6b036",
   "metadata": {},
   "outputs": [],
   "source": [
    "tati['survival_baseline'] = 0\n"
   ]
  },
  {
   "cell_type": "code",
   "execution_count": 8,
   "id": "1f923a4f",
   "metadata": {},
   "outputs": [
    {
     "name": "stdout",
     "output_type": "stream",
     "text": [
      "The baseline survival rate is 0.6175478065241845.\n"
     ]
    }
   ],
   "source": [
    "# Boolean baseline (T = 1, F = 0)\n",
    "\n",
    "bline = (tati['survival_baseline'] == tati['survived']).mean()\n",
    "\n",
    "print(f\"The baseline survival rate is {bline}.\")"
   ]
  },
  {
   "cell_type": "code",
   "execution_count": 9,
   "id": "c0700cd4",
   "metadata": {},
   "outputs": [],
   "source": [
    "# creating dummies in order to help machine learning\n",
    "\n",
    "tatdum = pd.get_dummies(tati[['embark_town', 'sex']], drop_first = True)\n"
   ]
  },
  {
   "cell_type": "code",
   "execution_count": 10,
   "id": "198e0b1b",
   "metadata": {},
   "outputs": [
    {
     "data": {
      "text/html": [
       "<div>\n",
       "<style scoped>\n",
       "    .dataframe tbody tr th:only-of-type {\n",
       "        vertical-align: middle;\n",
       "    }\n",
       "\n",
       "    .dataframe tbody tr th {\n",
       "        vertical-align: top;\n",
       "    }\n",
       "\n",
       "    .dataframe thead th {\n",
       "        text-align: right;\n",
       "    }\n",
       "</style>\n",
       "<table border=\"1\" class=\"dataframe\">\n",
       "  <thead>\n",
       "    <tr style=\"text-align: right;\">\n",
       "      <th></th>\n",
       "      <th>survived</th>\n",
       "      <th>pclass</th>\n",
       "      <th>sex</th>\n",
       "      <th>sibsp</th>\n",
       "      <th>parch</th>\n",
       "      <th>fare</th>\n",
       "      <th>embark_town</th>\n",
       "      <th>alone</th>\n",
       "      <th>survival_baseline</th>\n",
       "      <th>embark_town_Queenstown</th>\n",
       "      <th>embark_town_Southampton</th>\n",
       "      <th>sex_male</th>\n",
       "    </tr>\n",
       "  </thead>\n",
       "  <tbody>\n",
       "    <tr>\n",
       "      <th>0</th>\n",
       "      <td>0</td>\n",
       "      <td>3</td>\n",
       "      <td>male</td>\n",
       "      <td>1</td>\n",
       "      <td>0</td>\n",
       "      <td>7.2500</td>\n",
       "      <td>Southampton</td>\n",
       "      <td>0</td>\n",
       "      <td>0</td>\n",
       "      <td>0</td>\n",
       "      <td>1</td>\n",
       "      <td>1</td>\n",
       "    </tr>\n",
       "    <tr>\n",
       "      <th>1</th>\n",
       "      <td>1</td>\n",
       "      <td>1</td>\n",
       "      <td>female</td>\n",
       "      <td>1</td>\n",
       "      <td>0</td>\n",
       "      <td>71.2833</td>\n",
       "      <td>Cherbourg</td>\n",
       "      <td>0</td>\n",
       "      <td>0</td>\n",
       "      <td>0</td>\n",
       "      <td>0</td>\n",
       "      <td>0</td>\n",
       "    </tr>\n",
       "    <tr>\n",
       "      <th>2</th>\n",
       "      <td>1</td>\n",
       "      <td>3</td>\n",
       "      <td>female</td>\n",
       "      <td>0</td>\n",
       "      <td>0</td>\n",
       "      <td>7.9250</td>\n",
       "      <td>Southampton</td>\n",
       "      <td>1</td>\n",
       "      <td>0</td>\n",
       "      <td>0</td>\n",
       "      <td>1</td>\n",
       "      <td>0</td>\n",
       "    </tr>\n",
       "    <tr>\n",
       "      <th>3</th>\n",
       "      <td>1</td>\n",
       "      <td>1</td>\n",
       "      <td>female</td>\n",
       "      <td>1</td>\n",
       "      <td>0</td>\n",
       "      <td>53.1000</td>\n",
       "      <td>Southampton</td>\n",
       "      <td>0</td>\n",
       "      <td>0</td>\n",
       "      <td>0</td>\n",
       "      <td>1</td>\n",
       "      <td>0</td>\n",
       "    </tr>\n",
       "    <tr>\n",
       "      <th>4</th>\n",
       "      <td>0</td>\n",
       "      <td>3</td>\n",
       "      <td>male</td>\n",
       "      <td>0</td>\n",
       "      <td>0</td>\n",
       "      <td>8.0500</td>\n",
       "      <td>Southampton</td>\n",
       "      <td>1</td>\n",
       "      <td>0</td>\n",
       "      <td>0</td>\n",
       "      <td>1</td>\n",
       "      <td>1</td>\n",
       "    </tr>\n",
       "  </tbody>\n",
       "</table>\n",
       "</div>"
      ],
      "text/plain": [
       "   survived  pclass     sex  sibsp  parch     fare  embark_town  alone  \\\n",
       "0         0       3    male      1      0   7.2500  Southampton      0   \n",
       "1         1       1  female      1      0  71.2833    Cherbourg      0   \n",
       "2         1       3  female      0      0   7.9250  Southampton      1   \n",
       "3         1       1  female      1      0  53.1000  Southampton      0   \n",
       "4         0       3    male      0      0   8.0500  Southampton      1   \n",
       "\n",
       "   survival_baseline  embark_town_Queenstown  embark_town_Southampton  \\\n",
       "0                  0                       0                        1   \n",
       "1                  0                       0                        0   \n",
       "2                  0                       0                        1   \n",
       "3                  0                       0                        1   \n",
       "4                  0                       0                        1   \n",
       "\n",
       "   sex_male  \n",
       "0         1  \n",
       "1         0  \n",
       "2         0  \n",
       "3         0  \n",
       "4         1  "
      ]
     },
     "execution_count": 10,
     "metadata": {},
     "output_type": "execute_result"
    }
   ],
   "source": [
    "# now that we have the DF and the dummies, use concatenation to join the two :\n",
    "\n",
    "pd.concat([tati, tatdum], axis = 1)\n",
    "\n",
    "# assigning it a variable for permanence\n",
    "\n",
    "tati = pd.concat([tati, tatdum], axis = 1)\n",
    "tati.head()"
   ]
  },
  {
   "cell_type": "code",
   "execution_count": 11,
   "id": "179f62a3",
   "metadata": {},
   "outputs": [
    {
     "data": {
      "text/plain": [
       "Index(['survived', 'pclass', 'sibsp', 'parch', 'fare', 'alone',\n",
       "       'survival_baseline', 'embark_town_Queenstown',\n",
       "       'embark_town_Southampton', 'sex_male'],\n",
       "      dtype='object')"
      ]
     },
     "execution_count": 11,
     "metadata": {},
     "output_type": "execute_result"
    }
   ],
   "source": [
    "# dropping columns for machine learning purposes (don't do this for exploration purposes)\n",
    "\n",
    "tati = tati.drop(columns = ['embark_town', 'sex'], axis = 1)\n",
    "tati.columns"
   ]
  },
  {
   "cell_type": "code",
   "execution_count": 12,
   "id": "f11f29d5",
   "metadata": {},
   "outputs": [],
   "source": [
    "# setting the 'survived' column to Boolean T / F\n",
    "tati['survived'] = np.where(tati['survived'] == True, '1', '0')"
   ]
  },
  {
   "cell_type": "code",
   "execution_count": 13,
   "id": "d48be203",
   "metadata": {},
   "outputs": [
    {
     "data": {
      "text/plain": [
       "0      0\n",
       "1      1\n",
       "2      1\n",
       "3      1\n",
       "4      0\n",
       "      ..\n",
       "886    0\n",
       "887    1\n",
       "888    0\n",
       "889    1\n",
       "890    0\n",
       "Name: survived, Length: 889, dtype: object"
      ]
     },
     "execution_count": 13,
     "metadata": {},
     "output_type": "execute_result"
    }
   ],
   "source": [
    "tati['survived']"
   ]
  },
  {
   "cell_type": "code",
   "execution_count": 14,
   "id": "1bb6cc81",
   "metadata": {},
   "outputs": [],
   "source": [
    "def train_val_test(df, target, seed = 23):\n",
    "    \n",
    "    train, val_test = train_test_split(df, train_size = 0.7, \n",
    "                                       random_state = seed, \n",
    "                                       stratify = df[target])\n",
    "    \n",
    "    val, test = train_test_split(val_test, train_size = 0.5, \n",
    "                                 random_state = seed, \n",
    "                                 stratify = val_test[target])\n",
    "    \n",
    "    return train, val, test\n",
    "\n",
    "## function to train, validate, test data"
   ]
  },
  {
   "cell_type": "code",
   "execution_count": 15,
   "id": "f54f932e",
   "metadata": {},
   "outputs": [
    {
     "data": {
      "text/plain": [
       "((622, 10), (133, 10), (134, 10))"
      ]
     },
     "execution_count": 15,
     "metadata": {},
     "output_type": "execute_result"
    }
   ],
   "source": [
    "train, val, test  = train_val_test(tati, 'survived')\n",
    "\n",
    "train.shape, val.shape, test.shape\n",
    "\n",
    "# returning the data shapes / sizes to be trained, validated, tested"
   ]
  },
  {
   "cell_type": "code",
   "execution_count": 16,
   "id": "3c9a8c8f",
   "metadata": {},
   "outputs": [],
   "source": [
    "# split train, val, test into X_train, X_val, X_test (feature DF, exludes var 'survived') and y-train, etc\n",
    "\n",
    "# y_train is only our target\n",
    "\n",
    "# X_train is everything except for 'survived'\n",
    "\n",
    "X_train = train.drop(columns = ['survived'])\n",
    "y_train = train['survived']\n",
    "\n",
    "\n",
    "X_val = val.drop(columns = ['survived'])\n",
    "y_val = val['survived']\n",
    "\n",
    "\n",
    "X_test = test.drop(columns = ['survived'])\n",
    "y_test = test['survived']"
   ]
  },
  {
   "cell_type": "code",
   "execution_count": 17,
   "id": "7ecc5006",
   "metadata": {},
   "outputs": [],
   "source": [
    "knn = KNeighborsClassifier(n_neighbors = 5)\n",
    "\n",
    "# has 5 neighbours : will find the 5 observations nearest to the new datapoint and check their class\n",
    "# 5 is the default"
   ]
  },
  {
   "cell_type": "code",
   "execution_count": 18,
   "id": "ccc3a106",
   "metadata": {},
   "outputs": [
    {
     "data": {
      "text/html": [
       "<style>#sk-container-id-1 {color: black;background-color: white;}#sk-container-id-1 pre{padding: 0;}#sk-container-id-1 div.sk-toggleable {background-color: white;}#sk-container-id-1 label.sk-toggleable__label {cursor: pointer;display: block;width: 100%;margin-bottom: 0;padding: 0.3em;box-sizing: border-box;text-align: center;}#sk-container-id-1 label.sk-toggleable__label-arrow:before {content: \"▸\";float: left;margin-right: 0.25em;color: #696969;}#sk-container-id-1 label.sk-toggleable__label-arrow:hover:before {color: black;}#sk-container-id-1 div.sk-estimator:hover label.sk-toggleable__label-arrow:before {color: black;}#sk-container-id-1 div.sk-toggleable__content {max-height: 0;max-width: 0;overflow: hidden;text-align: left;background-color: #f0f8ff;}#sk-container-id-1 div.sk-toggleable__content pre {margin: 0.2em;color: black;border-radius: 0.25em;background-color: #f0f8ff;}#sk-container-id-1 input.sk-toggleable__control:checked~div.sk-toggleable__content {max-height: 200px;max-width: 100%;overflow: auto;}#sk-container-id-1 input.sk-toggleable__control:checked~label.sk-toggleable__label-arrow:before {content: \"▾\";}#sk-container-id-1 div.sk-estimator input.sk-toggleable__control:checked~label.sk-toggleable__label {background-color: #d4ebff;}#sk-container-id-1 div.sk-label input.sk-toggleable__control:checked~label.sk-toggleable__label {background-color: #d4ebff;}#sk-container-id-1 input.sk-hidden--visually {border: 0;clip: rect(1px 1px 1px 1px);clip: rect(1px, 1px, 1px, 1px);height: 1px;margin: -1px;overflow: hidden;padding: 0;position: absolute;width: 1px;}#sk-container-id-1 div.sk-estimator {font-family: monospace;background-color: #f0f8ff;border: 1px dotted black;border-radius: 0.25em;box-sizing: border-box;margin-bottom: 0.5em;}#sk-container-id-1 div.sk-estimator:hover {background-color: #d4ebff;}#sk-container-id-1 div.sk-parallel-item::after {content: \"\";width: 100%;border-bottom: 1px solid gray;flex-grow: 1;}#sk-container-id-1 div.sk-label:hover label.sk-toggleable__label {background-color: #d4ebff;}#sk-container-id-1 div.sk-serial::before {content: \"\";position: absolute;border-left: 1px solid gray;box-sizing: border-box;top: 0;bottom: 0;left: 50%;z-index: 0;}#sk-container-id-1 div.sk-serial {display: flex;flex-direction: column;align-items: center;background-color: white;padding-right: 0.2em;padding-left: 0.2em;position: relative;}#sk-container-id-1 div.sk-item {position: relative;z-index: 1;}#sk-container-id-1 div.sk-parallel {display: flex;align-items: stretch;justify-content: center;background-color: white;position: relative;}#sk-container-id-1 div.sk-item::before, #sk-container-id-1 div.sk-parallel-item::before {content: \"\";position: absolute;border-left: 1px solid gray;box-sizing: border-box;top: 0;bottom: 0;left: 50%;z-index: -1;}#sk-container-id-1 div.sk-parallel-item {display: flex;flex-direction: column;z-index: 1;position: relative;background-color: white;}#sk-container-id-1 div.sk-parallel-item:first-child::after {align-self: flex-end;width: 50%;}#sk-container-id-1 div.sk-parallel-item:last-child::after {align-self: flex-start;width: 50%;}#sk-container-id-1 div.sk-parallel-item:only-child::after {width: 0;}#sk-container-id-1 div.sk-dashed-wrapped {border: 1px dashed gray;margin: 0 0.4em 0.5em 0.4em;box-sizing: border-box;padding-bottom: 0.4em;background-color: white;}#sk-container-id-1 div.sk-label label {font-family: monospace;font-weight: bold;display: inline-block;line-height: 1.2em;}#sk-container-id-1 div.sk-label-container {text-align: center;}#sk-container-id-1 div.sk-container {/* jupyter's `normalize.less` sets `[hidden] { display: none; }` but bootstrap.min.css set `[hidden] { display: none !important; }` so we also need the `!important` here to be able to override the default hidden behavior on the sphinx rendered scikit-learn.org. See: https://github.com/scikit-learn/scikit-learn/issues/21755 */display: inline-block !important;position: relative;}#sk-container-id-1 div.sk-text-repr-fallback {display: none;}</style><div id=\"sk-container-id-1\" class=\"sk-top-container\"><div class=\"sk-text-repr-fallback\"><pre>KNeighborsClassifier()</pre><b>In a Jupyter environment, please rerun this cell to show the HTML representation or trust the notebook. <br />On GitHub, the HTML representation is unable to render, please try loading this page with nbviewer.org.</b></div><div class=\"sk-container\" hidden><div class=\"sk-item\"><div class=\"sk-estimator sk-toggleable\"><input class=\"sk-toggleable__control sk-hidden--visually\" id=\"sk-estimator-id-1\" type=\"checkbox\" checked><label for=\"sk-estimator-id-1\" class=\"sk-toggleable__label sk-toggleable__label-arrow\">KNeighborsClassifier</label><div class=\"sk-toggleable__content\"><pre>KNeighborsClassifier()</pre></div></div></div></div></div>"
      ],
      "text/plain": [
       "KNeighborsClassifier()"
      ]
     },
     "execution_count": 18,
     "metadata": {},
     "output_type": "execute_result"
    }
   ],
   "source": [
    "knn.fit(X_train, y_train)\n",
    "\n",
    "# training the KNN model"
   ]
  },
  {
   "cell_type": "code",
   "execution_count": null,
   "id": "528b4066",
   "metadata": {},
   "outputs": [],
   "source": []
  },
  {
   "cell_type": "code",
   "execution_count": 19,
   "id": "5e7bdb8a",
   "metadata": {},
   "outputs": [
    {
     "data": {
      "text/plain": [
       "0.8295819935691319"
      ]
     },
     "execution_count": 19,
     "metadata": {},
     "output_type": "execute_result"
    }
   ],
   "source": [
    "# this tells us how accurate the model is. \n",
    "\n",
    "knn.score(X_train, y_train)\n",
    "\n",
    "# we're predicting on the features (X_train, the first variable), and\n",
    "# comparing to the actual labels (the 2nd variable, y_train)"
   ]
  },
  {
   "cell_type": "code",
   "execution_count": 20,
   "id": "bad2c313",
   "metadata": {},
   "outputs": [
    {
     "data": {
      "text/plain": [
       "0.706766917293233"
      ]
     },
     "execution_count": 20,
     "metadata": {},
     "output_type": "execute_result"
    }
   ],
   "source": [
    "knn.score(X_val, y_val)\n",
    "\n",
    "# the divide btwn the train & val scores is quite high, about 12pc"
   ]
  },
  {
   "cell_type": "code",
   "execution_count": 21,
   "id": "a9ae44e0",
   "metadata": {},
   "outputs": [],
   "source": [
    "# ## make a loopx\n",
    "\n",
    "# nº_neighbours = []\n",
    "# train_accuracy = []\n",
    "# validation_accuracy = []\n",
    "\n",
    "# # the empty lists can be filled each time going through the loop\n",
    "\n",
    "# for i in range(1, 99, 5):\n",
    "    \n",
    "#     knn = KNeighborsClassifier(n_neighbors = i)\n",
    "    \n",
    "#     knn.fit(X_train, y_train)    # training the KNN model\n",
    "    \n",
    "#     nº_neighbours.append(i)\n",
    "    \n",
    "#     train_accuracy.append(knn.score(X_train, y_train))\n",
    "#             # this tells us how accurate the training model\n",
    "    \n",
    "#     validation_accuracy.append(knn.score(X_val, y_val))\n",
    "#             # this tells us how accurate the validation model\n",
    "        "
   ]
  },
  {
   "cell_type": "code",
   "execution_count": 22,
   "id": "ad62a8de",
   "metadata": {},
   "outputs": [],
   "source": [
    "# # making a DF to visualise the above loop\n",
    "\n",
    "# knnmetrix = pd.DataFrame({'neighbours' : nº_neighbours,\n",
    "# #                          'train_accuracy' : train_accuracy,\n",
    "#                          'validation_accuracy' : validation_accuracy\n",
    "#                          })\n",
    "\n",
    "\n",
    "\n",
    "# knnmetrix "
   ]
  },
  {
   "cell_type": "code",
   "execution_count": 23,
   "id": "eeb04c3c",
   "metadata": {},
   "outputs": [
    {
     "data": {
      "text/html": [
       "<style>#sk-container-id-2 {color: black;background-color: white;}#sk-container-id-2 pre{padding: 0;}#sk-container-id-2 div.sk-toggleable {background-color: white;}#sk-container-id-2 label.sk-toggleable__label {cursor: pointer;display: block;width: 100%;margin-bottom: 0;padding: 0.3em;box-sizing: border-box;text-align: center;}#sk-container-id-2 label.sk-toggleable__label-arrow:before {content: \"▸\";float: left;margin-right: 0.25em;color: #696969;}#sk-container-id-2 label.sk-toggleable__label-arrow:hover:before {color: black;}#sk-container-id-2 div.sk-estimator:hover label.sk-toggleable__label-arrow:before {color: black;}#sk-container-id-2 div.sk-toggleable__content {max-height: 0;max-width: 0;overflow: hidden;text-align: left;background-color: #f0f8ff;}#sk-container-id-2 div.sk-toggleable__content pre {margin: 0.2em;color: black;border-radius: 0.25em;background-color: #f0f8ff;}#sk-container-id-2 input.sk-toggleable__control:checked~div.sk-toggleable__content {max-height: 200px;max-width: 100%;overflow: auto;}#sk-container-id-2 input.sk-toggleable__control:checked~label.sk-toggleable__label-arrow:before {content: \"▾\";}#sk-container-id-2 div.sk-estimator input.sk-toggleable__control:checked~label.sk-toggleable__label {background-color: #d4ebff;}#sk-container-id-2 div.sk-label input.sk-toggleable__control:checked~label.sk-toggleable__label {background-color: #d4ebff;}#sk-container-id-2 input.sk-hidden--visually {border: 0;clip: rect(1px 1px 1px 1px);clip: rect(1px, 1px, 1px, 1px);height: 1px;margin: -1px;overflow: hidden;padding: 0;position: absolute;width: 1px;}#sk-container-id-2 div.sk-estimator {font-family: monospace;background-color: #f0f8ff;border: 1px dotted black;border-radius: 0.25em;box-sizing: border-box;margin-bottom: 0.5em;}#sk-container-id-2 div.sk-estimator:hover {background-color: #d4ebff;}#sk-container-id-2 div.sk-parallel-item::after {content: \"\";width: 100%;border-bottom: 1px solid gray;flex-grow: 1;}#sk-container-id-2 div.sk-label:hover label.sk-toggleable__label {background-color: #d4ebff;}#sk-container-id-2 div.sk-serial::before {content: \"\";position: absolute;border-left: 1px solid gray;box-sizing: border-box;top: 0;bottom: 0;left: 50%;z-index: 0;}#sk-container-id-2 div.sk-serial {display: flex;flex-direction: column;align-items: center;background-color: white;padding-right: 0.2em;padding-left: 0.2em;position: relative;}#sk-container-id-2 div.sk-item {position: relative;z-index: 1;}#sk-container-id-2 div.sk-parallel {display: flex;align-items: stretch;justify-content: center;background-color: white;position: relative;}#sk-container-id-2 div.sk-item::before, #sk-container-id-2 div.sk-parallel-item::before {content: \"\";position: absolute;border-left: 1px solid gray;box-sizing: border-box;top: 0;bottom: 0;left: 50%;z-index: -1;}#sk-container-id-2 div.sk-parallel-item {display: flex;flex-direction: column;z-index: 1;position: relative;background-color: white;}#sk-container-id-2 div.sk-parallel-item:first-child::after {align-self: flex-end;width: 50%;}#sk-container-id-2 div.sk-parallel-item:last-child::after {align-self: flex-start;width: 50%;}#sk-container-id-2 div.sk-parallel-item:only-child::after {width: 0;}#sk-container-id-2 div.sk-dashed-wrapped {border: 1px dashed gray;margin: 0 0.4em 0.5em 0.4em;box-sizing: border-box;padding-bottom: 0.4em;background-color: white;}#sk-container-id-2 div.sk-label label {font-family: monospace;font-weight: bold;display: inline-block;line-height: 1.2em;}#sk-container-id-2 div.sk-label-container {text-align: center;}#sk-container-id-2 div.sk-container {/* jupyter's `normalize.less` sets `[hidden] { display: none; }` but bootstrap.min.css set `[hidden] { display: none !important; }` so we also need the `!important` here to be able to override the default hidden behavior on the sphinx rendered scikit-learn.org. See: https://github.com/scikit-learn/scikit-learn/issues/21755 */display: inline-block !important;position: relative;}#sk-container-id-2 div.sk-text-repr-fallback {display: none;}</style><div id=\"sk-container-id-2\" class=\"sk-top-container\"><div class=\"sk-text-repr-fallback\"><pre>KNeighborsClassifier()</pre><b>In a Jupyter environment, please rerun this cell to show the HTML representation or trust the notebook. <br />On GitHub, the HTML representation is unable to render, please try loading this page with nbviewer.org.</b></div><div class=\"sk-container\" hidden><div class=\"sk-item\"><div class=\"sk-estimator sk-toggleable\"><input class=\"sk-toggleable__control sk-hidden--visually\" id=\"sk-estimator-id-2\" type=\"checkbox\" checked><label for=\"sk-estimator-id-2\" class=\"sk-toggleable__label sk-toggleable__label-arrow\">KNeighborsClassifier</label><div class=\"sk-toggleable__content\"><pre>KNeighborsClassifier()</pre></div></div></div></div></div>"
      ],
      "text/plain": [
       "KNeighborsClassifier()"
      ]
     },
     "execution_count": 23,
     "metadata": {},
     "output_type": "execute_result"
    }
   ],
   "source": [
    "knn"
   ]
  },
  {
   "cell_type": "markdown",
   "id": "2c54be1c",
   "metadata": {},
   "source": [
    "**Observations :**\n",
    " - The 'knnmetrix' DF shows that with more neighbours, the train accuracy becomes lower ;\n",
    " - Seven neighbours seems to be the best here, because the 'train_accuracy' is similar to 5 neighbours (about 82pc), but 'validation_accuracy' at 7 neighbours is higher than at 5 neighbours (72pc vs 70pc).\n"
   ]
  },
  {
   "cell_type": "code",
   "execution_count": null,
   "id": "e26fb233",
   "metadata": {},
   "outputs": [],
   "source": []
  },
  {
   "cell_type": "markdown",
   "id": "4c44886a",
   "metadata": {},
   "source": [
    "### 2 / Evaluate your results using the model score, confusion matrix, and classification report."
   ]
  },
  {
   "cell_type": "code",
   "execution_count": 24,
   "id": "b0e82995",
   "metadata": {},
   "outputs": [
    {
     "data": {
      "text/plain": [
       "0.8295819935691319"
      ]
     },
     "execution_count": 24,
     "metadata": {},
     "output_type": "execute_result"
    }
   ],
   "source": [
    "knn.score(X_train, y_train)\n",
    "\n",
    "# model score for the train dataset"
   ]
  },
  {
   "cell_type": "code",
   "execution_count": 25,
   "id": "cf179da9",
   "metadata": {},
   "outputs": [
    {
     "data": {
      "text/plain": [
       "0.706766917293233"
      ]
     },
     "execution_count": 25,
     "metadata": {},
     "output_type": "execute_result"
    }
   ],
   "source": [
    "knn.score(X_val, y_val)\n",
    "\n",
    "# model score for the validation dataset"
   ]
  },
  {
   "cell_type": "code",
   "execution_count": 26,
   "id": "776a0df4",
   "metadata": {},
   "outputs": [
    {
     "data": {
      "text/plain": [
       "0.7238805970149254"
      ]
     },
     "execution_count": 26,
     "metadata": {},
     "output_type": "execute_result"
    }
   ],
   "source": [
    "knn.score(X_test, y_test)\n",
    "\n",
    "# model score for the test dataset"
   ]
  },
  {
   "cell_type": "markdown",
   "id": "f0cbeb90",
   "metadata": {},
   "source": [
    "**Observations :**  \n",
    "    - The model score for the training dataset is 79.1pc, for validation dataset 67.67pc, for test dataset 73.88pc.  \n",
    "    - 12pc gap between training & validation is too large.  \n",
    "    - Still, the rates are higher than the baseline (61pc).  \n",
    "    - I now understand that, in the future, running .score(X_test, y_test) should wait until later in the train-val-test process, after a model had been chosen based on training & validation results."
   ]
  },
  {
   "cell_type": "code",
   "execution_count": null,
   "id": "f863eec9",
   "metadata": {},
   "outputs": [],
   "source": []
  },
  {
   "cell_type": "code",
   "execution_count": 27,
   "id": "f972d52e",
   "metadata": {},
   "outputs": [
    {
     "data": {
      "text/plain": [
       "<sklearn.metrics._plot.confusion_matrix.ConfusionMatrixDisplay at 0x12afd8ee0>"
      ]
     },
     "execution_count": 27,
     "metadata": {},
     "output_type": "execute_result"
    },
    {
     "data": {
      "image/png": "[encoded data removed]",
      "text/plain": [
       "<Figure size 640x480 with 2 Axes>"
      ]
     },
     "metadata": {},
     "output_type": "display_data"
    }
   ],
   "source": [
    "## making a confusion matrix for knn\n",
    "\n",
    "plot_confusion_matrix(knn, X_train, y_train)\n"
   ]
  },
  {
   "cell_type": "code",
   "execution_count": 60,
   "id": "1310e633",
   "metadata": {},
   "outputs": [],
   "source": [
    "# making y predictions on X_train dataset,\n",
    "# to allow for the confusion_matrix to be realised\n",
    "\n",
    "y_preds = knn.predict(X_train)"
   ]
  },
  {
   "cell_type": "code",
   "execution_count": null,
   "id": "949fc1ea",
   "metadata": {},
   "outputs": [],
   "source": []
  },
  {
   "cell_type": "code",
   "execution_count": 59,
   "id": "bddee210",
   "metadata": {},
   "outputs": [
    {
     "data": {
      "text/plain": [
       "(342, 64, 42, 174)"
      ]
     },
     "execution_count": 59,
     "metadata": {},
     "output_type": "execute_result"
    }
   ],
   "source": [
    "# # making y predictions on X_train dataset,\n",
    "# # to allow for the confusion_matrix to be realised\n",
    "\n",
    "# y_preds = knn.predict(X_train)\n",
    "\n",
    "# # returning the confusion matrix as an array\n",
    "\n",
    "# confu = confusion_matrix(y_preds, y_train)\n",
    "# confu\n",
    "\n",
    "# # unravelling the confusion matrix & assigning each value to a variable\n",
    "\n",
    "# TN, FP, FN, TP = confu.ravel()\n",
    "\n",
    "# TN, FP, FN, TP\n",
    "\n",
    "# print(classification_report(y_train, y_preds))\n",
    "\n",
    "# # classification report on the training dataset"
   ]
  },
  {
   "cell_type": "code",
   "execution_count": 67,
   "id": "588ff283",
   "metadata": {},
   "outputs": [
    {
     "data": {
      "text/plain": [
       "array([[342,  64],\n",
       "       [ 42, 174]])"
      ]
     },
     "execution_count": 67,
     "metadata": {},
     "output_type": "execute_result"
    }
   ],
   "source": [
    "# returning the confusion matrix as an array\n",
    "\n",
    "confu = confusion_matrix(y_preds, y_train)\n",
    "confu"
   ]
  },
  {
   "cell_type": "code",
   "execution_count": 31,
   "id": "c35ed84f",
   "metadata": {},
   "outputs": [
    {
     "data": {
      "text/plain": [
       "(342, 64, 42, 174)"
      ]
     },
     "execution_count": 31,
     "metadata": {},
     "output_type": "execute_result"
    }
   ],
   "source": [
    "# unravelling the confusion matrix & assigning each value to a variable\n",
    "\n",
    "TN, FP, FN, TP = confu.ravel()\n",
    "\n",
    "TN, FP, FN, TP"
   ]
  },
  {
   "cell_type": "code",
   "execution_count": 69,
   "id": "960a135d",
   "metadata": {},
   "outputs": [
    {
     "name": "stdout",
     "output_type": "stream",
     "text": [
      "              precision    recall  f1-score   support\n",
      "\n",
      "           0       0.84      0.89      0.87       384\n",
      "           1       0.81      0.73      0.77       238\n",
      "\n",
      "    accuracy                           0.83       622\n",
      "   macro avg       0.82      0.81      0.82       622\n",
      "weighted avg       0.83      0.83      0.83       622\n",
      "\n"
     ]
    }
   ],
   "source": [
    "classification_report(y_train, y_preds)\n",
    "\n",
    "\n",
    "\n",
    "print(classification_report(y_train, y_preds))\n",
    "\n",
    "# classification report on the training dataset\n",
    "# classification report on the training dataset"
   ]
  },
  {
   "cell_type": "code",
   "execution_count": null,
   "id": "a76a47ba",
   "metadata": {},
   "outputs": [],
   "source": []
  },
  {
   "cell_type": "markdown",
   "id": "1eb7b859",
   "metadata": {},
   "source": [
    "### 3 /  Print and clearly label the following : \n",
    "Accuracy, true positive rate / recall, false positive rate, true negative rate, false negative rate, precision, f1-score and support.  "
   ]
  },
  {
   "cell_type": "code",
   "execution_count": 33,
   "id": "914b1866",
   "metadata": {},
   "outputs": [
    {
     "name": "stdout",
     "output_type": "stream",
     "text": [
      "The accuracy is 0.8295819935691319.\n"
     ]
    }
   ],
   "source": [
    "# Accuracy\n",
    "\n",
    "print(f'The accuracy is {sklearn.metrics.accuracy_score(y_train, y_preds)}.')\n"
   ]
  },
  {
   "cell_type": "code",
   "execution_count": 34,
   "id": "94cb7274",
   "metadata": {},
   "outputs": [
    {
     "name": "stdout",
     "output_type": "stream",
     "text": [
      "The recall is [0.890625   0.73109244].\n"
     ]
    }
   ],
   "source": [
    "# sensitivity / true positive rate / recall\n",
    "\n",
    "print(f'The recall is {sklearn.metrics.recall_score(y_train, y_preds, average = None)}.')"
   ]
  },
  {
   "cell_type": "code",
   "execution_count": 35,
   "id": "8eecddc4",
   "metadata": {},
   "outputs": [
    {
     "name": "stdout",
     "output_type": "stream",
     "text": [
      "The false negative rate is 0.1944).\n"
     ]
    }
   ],
   "source": [
    "# false negative rate\n",
    "\n",
    "print(f'The false negative rate is {round(FN / (TP + FN), 4)}).')"
   ]
  },
  {
   "cell_type": "code",
   "execution_count": 36,
   "id": "d9af32ca",
   "metadata": {},
   "outputs": [
    {
     "name": "stdout",
     "output_type": "stream",
     "text": [
      "The precision rate is [0.84236453 0.80555556].\n"
     ]
    }
   ],
   "source": [
    "# precision / PPV\n",
    "\n",
    "print(f'The precision rate is {sklearn.metrics.precision_score(y_train, y_preds, average = None)}.')"
   ]
  },
  {
   "cell_type": "code",
   "execution_count": 37,
   "id": "e17f6778",
   "metadata": {},
   "outputs": [
    {
     "data": {
      "text/plain": [
       "(216,\n",
       " 406,\n",
       " 0    384\n",
       " 1    238\n",
       " Name: survived, dtype: int64)"
      ]
     },
     "execution_count": 37,
     "metadata": {},
     "output_type": "execute_result"
    }
   ],
   "source": [
    "# support\n",
    "\n",
    "support_pos = TP + FN ## positive cases\n",
    "support_neg = FP + TN ## negative cases\n",
    "\n",
    "support_pos, support_neg, y_train.value_counts()"
   ]
  },
  {
   "cell_type": "code",
   "execution_count": 38,
   "id": "33b209f8",
   "metadata": {},
   "outputs": [
    {
     "name": "stdout",
     "output_type": "stream",
     "text": [
      "The f1 score is [0.86582278 0.76651982].\n"
     ]
    }
   ],
   "source": [
    "# f1 score\n",
    "\n",
    "print(f'The f1 score is {sklearn.metrics.f1_score(y_train, y_preds, average = None)}.')"
   ]
  },
  {
   "cell_type": "code",
   "execution_count": 39,
   "id": "6098d771",
   "metadata": {},
   "outputs": [
    {
     "name": "stdout",
     "output_type": "stream",
     "text": [
      "The support is (array([0.84236453, 0.80555556]), array([0.890625  , 0.73109244]), array([0.86582278, 0.76651982]), array([384, 238])).\n"
     ]
    }
   ],
   "source": [
    "# support\n",
    "\n",
    "print(f'The support is {sklearn.metrics.precision_recall_fscore_support(y_train, y_preds, average = None)}.')"
   ]
  },
  {
   "cell_type": "code",
   "execution_count": 40,
   "id": "630fc9f9",
   "metadata": {},
   "outputs": [
    {
     "name": "stdout",
     "output_type": "stream",
     "text": [
      "The negative predicted value is 0.890625.\n"
     ]
    }
   ],
   "source": [
    "## NVP / negative predicted value\n",
    "print(f'The negative predicted value is {TN / (TN + FN)}.')"
   ]
  },
  {
   "cell_type": "code",
   "execution_count": null,
   "id": "47dd88e8",
   "metadata": {},
   "outputs": [],
   "source": []
  },
  {
   "cell_type": "markdown",
   "id": "b6f8bdbc",
   "metadata": {},
   "source": [
    "### 4 / Run through steps 1-3 setting k to 10"
   ]
  },
  {
   "cell_type": "code",
   "execution_count": 41,
   "id": "748f7aac",
   "metadata": {},
   "outputs": [],
   "source": [
    "knn10 = KNeighborsClassifier(n_neighbors = 10)\n",
    "\n",
    "# has 10 neighbours"
   ]
  },
  {
   "cell_type": "code",
   "execution_count": 42,
   "id": "441743b9",
   "metadata": {},
   "outputs": [
    {
     "data": {
      "text/html": [
       "<style>#sk-container-id-3 {color: black;background-color: white;}#sk-container-id-3 pre{padding: 0;}#sk-container-id-3 div.sk-toggleable {background-color: white;}#sk-container-id-3 label.sk-toggleable__label {cursor: pointer;display: block;width: 100%;margin-bottom: 0;padding: 0.3em;box-sizing: border-box;text-align: center;}#sk-container-id-3 label.sk-toggleable__label-arrow:before {content: \"▸\";float: left;margin-right: 0.25em;color: #696969;}#sk-container-id-3 label.sk-toggleable__label-arrow:hover:before {color: black;}#sk-container-id-3 div.sk-estimator:hover label.sk-toggleable__label-arrow:before {color: black;}#sk-container-id-3 div.sk-toggleable__content {max-height: 0;max-width: 0;overflow: hidden;text-align: left;background-color: #f0f8ff;}#sk-container-id-3 div.sk-toggleable__content pre {margin: 0.2em;color: black;border-radius: 0.25em;background-color: #f0f8ff;}#sk-container-id-3 input.sk-toggleable__control:checked~div.sk-toggleable__content {max-height: 200px;max-width: 100%;overflow: auto;}#sk-container-id-3 input.sk-toggleable__control:checked~label.sk-toggleable__label-arrow:before {content: \"▾\";}#sk-container-id-3 div.sk-estimator input.sk-toggleable__control:checked~label.sk-toggleable__label {background-color: #d4ebff;}#sk-container-id-3 div.sk-label input.sk-toggleable__control:checked~label.sk-toggleable__label {background-color: #d4ebff;}#sk-container-id-3 input.sk-hidden--visually {border: 0;clip: rect(1px 1px 1px 1px);clip: rect(1px, 1px, 1px, 1px);height: 1px;margin: -1px;overflow: hidden;padding: 0;position: absolute;width: 1px;}#sk-container-id-3 div.sk-estimator {font-family: monospace;background-color: #f0f8ff;border: 1px dotted black;border-radius: 0.25em;box-sizing: border-box;margin-bottom: 0.5em;}#sk-container-id-3 div.sk-estimator:hover {background-color: #d4ebff;}#sk-container-id-3 div.sk-parallel-item::after {content: \"\";width: 100%;border-bottom: 1px solid gray;flex-grow: 1;}#sk-container-id-3 div.sk-label:hover label.sk-toggleable__label {background-color: #d4ebff;}#sk-container-id-3 div.sk-serial::before {content: \"\";position: absolute;border-left: 1px solid gray;box-sizing: border-box;top: 0;bottom: 0;left: 50%;z-index: 0;}#sk-container-id-3 div.sk-serial {display: flex;flex-direction: column;align-items: center;background-color: white;padding-right: 0.2em;padding-left: 0.2em;position: relative;}#sk-container-id-3 div.sk-item {position: relative;z-index: 1;}#sk-container-id-3 div.sk-parallel {display: flex;align-items: stretch;justify-content: center;background-color: white;position: relative;}#sk-container-id-3 div.sk-item::before, #sk-container-id-3 div.sk-parallel-item::before {content: \"\";position: absolute;border-left: 1px solid gray;box-sizing: border-box;top: 0;bottom: 0;left: 50%;z-index: -1;}#sk-container-id-3 div.sk-parallel-item {display: flex;flex-direction: column;z-index: 1;position: relative;background-color: white;}#sk-container-id-3 div.sk-parallel-item:first-child::after {align-self: flex-end;width: 50%;}#sk-container-id-3 div.sk-parallel-item:last-child::after {align-self: flex-start;width: 50%;}#sk-container-id-3 div.sk-parallel-item:only-child::after {width: 0;}#sk-container-id-3 div.sk-dashed-wrapped {border: 1px dashed gray;margin: 0 0.4em 0.5em 0.4em;box-sizing: border-box;padding-bottom: 0.4em;background-color: white;}#sk-container-id-3 div.sk-label label {font-family: monospace;font-weight: bold;display: inline-block;line-height: 1.2em;}#sk-container-id-3 div.sk-label-container {text-align: center;}#sk-container-id-3 div.sk-container {/* jupyter's `normalize.less` sets `[hidden] { display: none; }` but bootstrap.min.css set `[hidden] { display: none !important; }` so we also need the `!important` here to be able to override the default hidden behavior on the sphinx rendered scikit-learn.org. See: https://github.com/scikit-learn/scikit-learn/issues/21755 */display: inline-block !important;position: relative;}#sk-container-id-3 div.sk-text-repr-fallback {display: none;}</style><div id=\"sk-container-id-3\" class=\"sk-top-container\"><div class=\"sk-text-repr-fallback\"><pre>KNeighborsClassifier(n_neighbors=10)</pre><b>In a Jupyter environment, please rerun this cell to show the HTML representation or trust the notebook. <br />On GitHub, the HTML representation is unable to render, please try loading this page with nbviewer.org.</b></div><div class=\"sk-container\" hidden><div class=\"sk-item\"><div class=\"sk-estimator sk-toggleable\"><input class=\"sk-toggleable__control sk-hidden--visually\" id=\"sk-estimator-id-3\" type=\"checkbox\" checked><label for=\"sk-estimator-id-3\" class=\"sk-toggleable__label sk-toggleable__label-arrow\">KNeighborsClassifier</label><div class=\"sk-toggleable__content\"><pre>KNeighborsClassifier(n_neighbors=10)</pre></div></div></div></div></div>"
      ],
      "text/plain": [
       "KNeighborsClassifier(n_neighbors=10)"
      ]
     },
     "execution_count": 42,
     "metadata": {},
     "output_type": "execute_result"
    }
   ],
   "source": [
    "knn10.fit(X_train, y_train)\n",
    "\n",
    "# training the KNN model"
   ]
  },
  {
   "cell_type": "code",
   "execution_count": 43,
   "id": "2e00cf78",
   "metadata": {},
   "outputs": [
    {
     "data": {
      "text/plain": [
       "0.8006430868167203"
      ]
     },
     "execution_count": 43,
     "metadata": {},
     "output_type": "execute_result"
    }
   ],
   "source": [
    "# this tells us how accurate the train model. \n",
    "\n",
    "knn10.score(X_train, y_train)\n"
   ]
  },
  {
   "cell_type": "code",
   "execution_count": 44,
   "id": "952ed0d4",
   "metadata": {},
   "outputs": [
    {
     "data": {
      "text/plain": [
       "0.6766917293233082"
      ]
     },
     "execution_count": 44,
     "metadata": {},
     "output_type": "execute_result"
    }
   ],
   "source": [
    "knn10.score(X_val, y_val)\n",
    "\n",
    "# the divide btwn the train & val scores is quite high, about 13pc\n",
    "\n"
   ]
  },
  {
   "cell_type": "markdown",
   "id": "02ab1964",
   "metadata": {},
   "source": [
    "**Observations :**  \n",
    "    - With 10 neighbours, the range between training dataset and validation set is slightly larger than at 5 neighbours (12.4pc gap & 10pc gap, respectively)."
   ]
  },
  {
   "cell_type": "code",
   "execution_count": null,
   "id": "04da14a4",
   "metadata": {},
   "outputs": [],
   "source": []
  },
  {
   "cell_type": "code",
   "execution_count": 45,
   "id": "68de7e79",
   "metadata": {},
   "outputs": [
    {
     "data": {
      "text/plain": [
       "<sklearn.metrics._plot.confusion_matrix.ConfusionMatrixDisplay at 0x12b9bc610>"
      ]
     },
     "execution_count": 45,
     "metadata": {},
     "output_type": "execute_result"
    },
    {
     "data": {
      "image/png": "[encoded data removed]",
      "text/plain": [
       "<Figure size 640x480 with 2 Axes>"
      ]
     },
     "metadata": {},
     "output_type": "display_data"
    }
   ],
   "source": [
    "## making a confusion matrix for knn\n",
    "\n",
    "plot_confusion_matrix(knn10, X_train, y_train)\n"
   ]
  },
  {
   "cell_type": "code",
   "execution_count": 46,
   "id": "ef3aa18b",
   "metadata": {},
   "outputs": [],
   "source": [
    "# making y predictions on X_train dataset,\n",
    "# to allow for the confusion_matrix to be realised\n",
    "\n",
    "y_preds10 = knn10.predict(X_train)\n"
   ]
  },
  {
   "cell_type": "code",
   "execution_count": 47,
   "id": "72d04c57",
   "metadata": {},
   "outputs": [
    {
     "data": {
      "text/plain": [
       "array([[342,  82],\n",
       "       [ 42, 156]])"
      ]
     },
     "execution_count": 47,
     "metadata": {},
     "output_type": "execute_result"
    }
   ],
   "source": [
    "# returning the confusion matrix as an array\n",
    "\n",
    "confu10 = confusion_matrix(y_preds10, y_train)\n",
    "confu10\n"
   ]
  },
  {
   "cell_type": "code",
   "execution_count": 48,
   "id": "8a59f3aa",
   "metadata": {},
   "outputs": [
    {
     "data": {
      "text/plain": [
       "(342, 82, 42, 156)"
      ]
     },
     "execution_count": 48,
     "metadata": {},
     "output_type": "execute_result"
    }
   ],
   "source": [
    "# unravelling the confusion matrix & assigning each value to a variable\n",
    "\n",
    "TN10, FP10, FN10, TP10 = confu10.ravel()\n",
    "\n",
    "TN10, FP10, FN10, TP10\n"
   ]
  },
  {
   "cell_type": "code",
   "execution_count": 49,
   "id": "1a5b2e89",
   "metadata": {},
   "outputs": [
    {
     "name": "stdout",
     "output_type": "stream",
     "text": [
      "              precision    recall  f1-score   support\n",
      "\n",
      "           0       0.81      0.89      0.85       384\n",
      "           1       0.79      0.66      0.72       238\n",
      "\n",
      "    accuracy                           0.80       622\n",
      "   macro avg       0.80      0.77      0.78       622\n",
      "weighted avg       0.80      0.80      0.80       622\n",
      "\n"
     ]
    }
   ],
   "source": [
    "print(classification_report(y_train, y_preds10))\n",
    "\n",
    "# classification report on the training dataset"
   ]
  },
  {
   "cell_type": "code",
   "execution_count": null,
   "id": "44d41e75",
   "metadata": {},
   "outputs": [],
   "source": []
  },
  {
   "cell_type": "code",
   "execution_count": 50,
   "id": "b79dbb3c",
   "metadata": {},
   "outputs": [
    {
     "name": "stdout",
     "output_type": "stream",
     "text": [
      "The accuracy is 0.8006430868167203.\n"
     ]
    }
   ],
   "source": [
    "# Accuracy\n",
    "\n",
    "print(f'The accuracy is {sklearn.metrics.accuracy_score(y_train, y_preds10)}.')\n"
   ]
  },
  {
   "cell_type": "code",
   "execution_count": 51,
   "id": "bb842688",
   "metadata": {},
   "outputs": [
    {
     "name": "stdout",
     "output_type": "stream",
     "text": [
      "The recall is [0.890625   0.65546218].\n"
     ]
    }
   ],
   "source": [
    "# sensitivity / true positive rate / recall\n",
    "\n",
    "print(f'The recall is {sklearn.metrics.recall_score(y_train, y_preds10, average = None)}.')"
   ]
  },
  {
   "cell_type": "code",
   "execution_count": 52,
   "id": "573b0062",
   "metadata": {},
   "outputs": [
    {
     "name": "stdout",
     "output_type": "stream",
     "text": [
      "The false negative rate is 0.2121).\n"
     ]
    }
   ],
   "source": [
    "# false negative rate\n",
    "\n",
    "print(f'The false negative rate is {round(FN10 / (TP10 + FN10), 4)}).')"
   ]
  },
  {
   "cell_type": "code",
   "execution_count": 53,
   "id": "61b5bfed",
   "metadata": {},
   "outputs": [
    {
     "name": "stdout",
     "output_type": "stream",
     "text": [
      "The precision rate is [0.80660377 0.78787879].\n"
     ]
    }
   ],
   "source": [
    "# precision / PPV\n",
    "\n",
    "print(f'The precision rate is {sklearn.metrics.precision_score(y_train, y_preds10, average = None)}.')"
   ]
  },
  {
   "cell_type": "code",
   "execution_count": 54,
   "id": "f5e53e99",
   "metadata": {},
   "outputs": [
    {
     "data": {
      "text/plain": [
       "(198,\n",
       " 424,\n",
       " 0    384\n",
       " 1    238\n",
       " Name: survived, dtype: int64)"
      ]
     },
     "execution_count": 54,
     "metadata": {},
     "output_type": "execute_result"
    }
   ],
   "source": [
    "# support\n",
    "\n",
    "support_pos10 = TP10 + FN10 ## positive cases\n",
    "support_neg10 = FP10 + TN10 ## negative cases\n",
    "\n",
    "support_pos10, support_neg10, y_train.value_counts()"
   ]
  },
  {
   "cell_type": "code",
   "execution_count": 55,
   "id": "5fa3fdee",
   "metadata": {},
   "outputs": [
    {
     "name": "stdout",
     "output_type": "stream",
     "text": [
      "The support is (array([0.80660377, 0.78787879]), array([0.890625  , 0.65546218]), array([0.84653465, 0.71559633]), array([384, 238])).\n"
     ]
    }
   ],
   "source": [
    "# support\n",
    "\n",
    "print(f'The support is {sklearn.metrics.precision_recall_fscore_support(y_train, y_preds10, average = None)}.')"
   ]
  },
  {
   "cell_type": "code",
   "execution_count": 56,
   "id": "67f2e95b",
   "metadata": {},
   "outputs": [
    {
     "name": "stdout",
     "output_type": "stream",
     "text": [
      "The f1 score is [0.84653465 0.71559633].\n"
     ]
    }
   ],
   "source": [
    "# f1 score\n",
    "\n",
    "print(f'The f1 score is {sklearn.metrics.f1_score(y_train, y_preds10, average = None)}.')"
   ]
  },
  {
   "cell_type": "code",
   "execution_count": 57,
   "id": "fe28f9d9",
   "metadata": {},
   "outputs": [
    {
     "name": "stdout",
     "output_type": "stream",
     "text": [
      "The negative predicted value is 0.890625.\n"
     ]
    }
   ],
   "source": [
    "## NVP / negative predicted value\n",
    "print(f'The negative predicted value is {TN10 / (TN10 + FN10)}.')"
   ]
  }
 ],
 "metadata": {
  "kernelspec": {
   "display_name": "Python 3 (ipykernel)",
   "language": "python",
   "name": "python3"
  },
  "language_info": {
   "codemirror_mode": {
    "name": "ipython",
    "version": 3
   },
   "file_extension": ".py",
   "mimetype": "text/x-python",
   "name": "python",
   "nbconvert_exporter": "python",
   "pygments_lexer": "ipython3",
   "version": "3.9.13"
  }
 },
 "nbformat": 4,
 "nbformat_minor": 5
}
