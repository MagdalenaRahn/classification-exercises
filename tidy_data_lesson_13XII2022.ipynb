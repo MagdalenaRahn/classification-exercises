{
 "cells": [
  {
   "cell_type": "code",
   "execution_count": 1,
   "id": "d8bd50d3",
   "metadata": {},
   "outputs": [],
   "source": [
    "import os\n",
    "import pandas as pd\n",
    "from pydataset import data\n",
    "import env\n",
    "import seaborn as sns\n",
    "import scipy\n",
    "\n",
    "from math import sqrt\n",
    "from scipy import stats\n",
    "\n",
    "# import our own acquire module\n",
    "import acquire\n",
    "\n",
    "import numpy as np\n",
    "import matplotlib.pyplot as plt\n",
    "\n",
    "\n",
    "# import splitting and imputing functions\n",
    "from sklearn.model_selection import train_test_split\n",
    "from sklearn.impute import SimpleImputer\n",
    "from prepare import my_train_test_split\n",
    "\n",
    "# turn off pink warning boxes\n",
    "import warnings\n",
    "warnings.filterwarnings(\"ignore\")"
   ]
  },
  {
   "cell_type": "code",
   "execution_count": null,
   "id": "1d8192d7",
   "metadata": {},
   "outputs": [],
   "source": []
  },
  {
   "cell_type": "markdown",
   "id": "fb16209a",
   "metadata": {},
   "source": [
    "### Key Componants Of Tidy Data\n",
    "\n",
    "    - Tidy data is tabular (in a table-like structure).    \n",
    "    - It has 1 observation per cell.  \n",
    "    - Each variable is 1 and only 1 column.  (Exception : dummy variables for species, bc we cannot feed, typically, text into an algorithm. We turned 1 column into 3 Boolean columns, expanding the width of the dataset. This is not tidy, and, thus, is not useful for exploring, but it's useful for, later on, modelling.)\n",
    "    - Each observation is 1 and only 1 row.  \n",
    "\n",
    " \n",
    "   \n",
    "If the dataset does not meet these requirements, it's 'untidy'.\n",
    "\n",
    "\n",
    "1 / _Tabular data_ is needed for exploring and modelling. Untidy data can be made tidy and tabular using string manipulation, turning it into a series and split at the white space. For example.  \n",
    "  \n",
    "2 / _One observation_ per cell :   \n",
    "\n",
    "-- split the data into multiple columns\n",
    "```untidy_df.City_State_Zip.str.split(pat = ',', expand = True)```   \n",
    "--```untidy_df.drop(columns = ['City_State_Zip])```  \n",
    "        \n",
    "-- rename the columns\n",
    "        ```new_vars.columns = ['City', 'State', 'ZIP']```"
   ]
  }
 ],
 "metadata": {
  "kernelspec": {
   "display_name": "Python 3 (ipykernel)",
   "language": "python",
   "name": "python3"
  },
  "language_info": {
   "codemirror_mode": {
    "name": "ipython",
    "version": 3
   },
   "file_extension": ".py",
   "mimetype": "text/x-python",
   "name": "python",
   "nbconvert_exporter": "python",
   "pygments_lexer": "ipython3",
   "version": "3.9.13"
  }
 },
 "nbformat": 4,
 "nbformat_minor": 5
}
