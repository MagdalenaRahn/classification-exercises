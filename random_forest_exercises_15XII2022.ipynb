{
 "cells": [
  {
   "cell_type": "markdown",
   "id": "38283dd3",
   "metadata": {},
   "source": [
    "<h1 style=\"background-color:Tomato;\">Random Forest Exercises</h1>"
   ]
  },
  {
   "cell_type": "code",
   "execution_count": 1,
   "id": "671b478a",
   "metadata": {},
   "outputs": [],
   "source": [
    "import numpy as np\n",
    "import pandas as pd\n",
    "import matplotlib.pyplot as plt\n",
    "import sklearn\n",
    "from sklearn.model_selection import train_test_split\n",
    "from sklearn.tree import DecisionTreeClassifier, plot_tree\n",
    "from sklearn.metrics import classification_report, confusion_matrix, plot_confusion_matrix\n",
    "from sklearn.ensemble import RandomForestClassifier\n",
    "\n",
    "import env\n",
    "import acquire\n",
    "\n",
    "\n",
    "import warnings\n",
    "warnings.filterwarnings(\"ignore\")"
   ]
  },
  {
   "cell_type": "code",
   "execution_count": null,
   "id": "d1bd5de2",
   "metadata": {},
   "outputs": [],
   "source": []
  },
  {
   "cell_type": "markdown",
   "id": "3ac78be4",
   "metadata": {},
   "source": [
    "\n",
    "#### 1 /   Fit the Random Forest Classifier to your training sample and transform (i.e, make predictions on the training sample), setting the random_state accordingly and setting min_samples_leaf = 1 and max_depth = 10.  \n",
    "Use Titanic dataset.\n",
    "\n",
    "\n",
    "    "
   ]
  },
  {
   "cell_type": "code",
   "execution_count": 2,
   "id": "dbdffb67",
   "metadata": {},
   "outputs": [
    {
     "data": {
      "text/html": [
       "<div>\n",
       "<style scoped>\n",
       "    .dataframe tbody tr th:only-of-type {\n",
       "        vertical-align: middle;\n",
       "    }\n",
       "\n",
       "    .dataframe tbody tr th {\n",
       "        vertical-align: top;\n",
       "    }\n",
       "\n",
       "    .dataframe thead th {\n",
       "        text-align: right;\n",
       "    }\n",
       "</style>\n",
       "<table border=\"1\" class=\"dataframe\">\n",
       "  <thead>\n",
       "    <tr style=\"text-align: right;\">\n",
       "      <th></th>\n",
       "      <th>Unnamed: 0</th>\n",
       "      <th>passenger_id</th>\n",
       "      <th>survived</th>\n",
       "      <th>pclass</th>\n",
       "      <th>sex</th>\n",
       "      <th>age</th>\n",
       "      <th>sibsp</th>\n",
       "      <th>parch</th>\n",
       "      <th>fare</th>\n",
       "      <th>embarked</th>\n",
       "      <th>class</th>\n",
       "      <th>deck</th>\n",
       "      <th>embark_town</th>\n",
       "      <th>alone</th>\n",
       "    </tr>\n",
       "  </thead>\n",
       "  <tbody>\n",
       "    <tr>\n",
       "      <th>0</th>\n",
       "      <td>0</td>\n",
       "      <td>0</td>\n",
       "      <td>0</td>\n",
       "      <td>3</td>\n",
       "      <td>male</td>\n",
       "      <td>22.0</td>\n",
       "      <td>1</td>\n",
       "      <td>0</td>\n",
       "      <td>7.2500</td>\n",
       "      <td>S</td>\n",
       "      <td>Third</td>\n",
       "      <td>NaN</td>\n",
       "      <td>Southampton</td>\n",
       "      <td>0</td>\n",
       "    </tr>\n",
       "    <tr>\n",
       "      <th>1</th>\n",
       "      <td>1</td>\n",
       "      <td>1</td>\n",
       "      <td>1</td>\n",
       "      <td>1</td>\n",
       "      <td>female</td>\n",
       "      <td>38.0</td>\n",
       "      <td>1</td>\n",
       "      <td>0</td>\n",
       "      <td>71.2833</td>\n",
       "      <td>C</td>\n",
       "      <td>First</td>\n",
       "      <td>C</td>\n",
       "      <td>Cherbourg</td>\n",
       "      <td>0</td>\n",
       "    </tr>\n",
       "    <tr>\n",
       "      <th>2</th>\n",
       "      <td>2</td>\n",
       "      <td>2</td>\n",
       "      <td>1</td>\n",
       "      <td>3</td>\n",
       "      <td>female</td>\n",
       "      <td>26.0</td>\n",
       "      <td>0</td>\n",
       "      <td>0</td>\n",
       "      <td>7.9250</td>\n",
       "      <td>S</td>\n",
       "      <td>Third</td>\n",
       "      <td>NaN</td>\n",
       "      <td>Southampton</td>\n",
       "      <td>1</td>\n",
       "    </tr>\n",
       "    <tr>\n",
       "      <th>3</th>\n",
       "      <td>3</td>\n",
       "      <td>3</td>\n",
       "      <td>1</td>\n",
       "      <td>1</td>\n",
       "      <td>female</td>\n",
       "      <td>35.0</td>\n",
       "      <td>1</td>\n",
       "      <td>0</td>\n",
       "      <td>53.1000</td>\n",
       "      <td>S</td>\n",
       "      <td>First</td>\n",
       "      <td>C</td>\n",
       "      <td>Southampton</td>\n",
       "      <td>0</td>\n",
       "    </tr>\n",
       "    <tr>\n",
       "      <th>4</th>\n",
       "      <td>4</td>\n",
       "      <td>4</td>\n",
       "      <td>0</td>\n",
       "      <td>3</td>\n",
       "      <td>male</td>\n",
       "      <td>35.0</td>\n",
       "      <td>0</td>\n",
       "      <td>0</td>\n",
       "      <td>8.0500</td>\n",
       "      <td>S</td>\n",
       "      <td>Third</td>\n",
       "      <td>NaN</td>\n",
       "      <td>Southampton</td>\n",
       "      <td>1</td>\n",
       "    </tr>\n",
       "  </tbody>\n",
       "</table>\n",
       "</div>"
      ],
      "text/plain": [
       "   Unnamed: 0  passenger_id  survived  pclass     sex   age  sibsp  parch  \\\n",
       "0           0             0         0       3    male  22.0      1      0   \n",
       "1           1             1         1       1  female  38.0      1      0   \n",
       "2           2             2         1       3  female  26.0      0      0   \n",
       "3           3             3         1       1  female  35.0      1      0   \n",
       "4           4             4         0       3    male  35.0      0      0   \n",
       "\n",
       "      fare embarked  class deck  embark_town  alone  \n",
       "0   7.2500        S  Third  NaN  Southampton      0  \n",
       "1  71.2833        C  First    C    Cherbourg      0  \n",
       "2   7.9250        S  Third  NaN  Southampton      1  \n",
       "3  53.1000        S  First    C  Southampton      0  \n",
       "4   8.0500        S  Third  NaN  Southampton      1  "
      ]
     },
     "execution_count": 2,
     "metadata": {},
     "output_type": "execute_result"
    }
   ],
   "source": [
    "tati = pd.read_csv('titanic.csv')\n",
    "tati.head()"
   ]
  },
  {
   "cell_type": "code",
   "execution_count": 3,
   "id": "5a0031d7",
   "metadata": {},
   "outputs": [
    {
     "data": {
      "text/plain": [
       "0    549\n",
       "1    342\n",
       "Name: survived, dtype: int64"
      ]
     },
     "execution_count": 3,
     "metadata": {},
     "output_type": "execute_result"
    }
   ],
   "source": [
    "tati.survived.value_counts()"
   ]
  },
  {
   "cell_type": "code",
   "execution_count": null,
   "id": "fee7f4f7",
   "metadata": {},
   "outputs": [],
   "source": []
  },
  {
   "cell_type": "code",
   "execution_count": 4,
   "id": "f50db560",
   "metadata": {},
   "outputs": [],
   "source": [
    "to_drop = ['deck', 'Unnamed: 0', 'age', 'embarked', 'passenger_id', 'class']\n",
    "\n",
    "# indicating which unnecessary or superfluous columns to drop"
   ]
  },
  {
   "cell_type": "code",
   "execution_count": 5,
   "id": "0d818e55",
   "metadata": {},
   "outputs": [],
   "source": [
    "tati.drop(columns = to_drop, inplace = True)\n",
    "\n",
    "# dropping unnecessary or superfluous columns"
   ]
  },
  {
   "cell_type": "code",
   "execution_count": 6,
   "id": "5bb50547",
   "metadata": {},
   "outputs": [
    {
     "name": "stdout",
     "output_type": "stream",
     "text": [
      "<class 'pandas.core.frame.DataFrame'>\n",
      "Int64Index: 889 entries, 0 to 890\n",
      "Data columns (total 8 columns):\n",
      " #   Column       Non-Null Count  Dtype  \n",
      "---  ------       --------------  -----  \n",
      " 0   survived     889 non-null    int64  \n",
      " 1   pclass       889 non-null    int64  \n",
      " 2   sex          889 non-null    object \n",
      " 3   sibsp        889 non-null    int64  \n",
      " 4   parch        889 non-null    int64  \n",
      " 5   fare         889 non-null    float64\n",
      " 6   embark_town  889 non-null    object \n",
      " 7   alone        889 non-null    int64  \n",
      "dtypes: float64(1), int64(5), object(2)\n",
      "memory usage: 62.5+ KB\n"
     ]
    }
   ],
   "source": [
    "tati = tati.dropna()\n",
    "tati.info()\n",
    "\n",
    "# alternate way to drop rows with nulls :\n",
    "# tati[~tati.embarked.isna()]"
   ]
  },
  {
   "cell_type": "code",
   "execution_count": 7,
   "id": "72aca1df",
   "metadata": {},
   "outputs": [
    {
     "data": {
      "text/html": [
       "<div>\n",
       "<style scoped>\n",
       "    .dataframe tbody tr th:only-of-type {\n",
       "        vertical-align: middle;\n",
       "    }\n",
       "\n",
       "    .dataframe tbody tr th {\n",
       "        vertical-align: top;\n",
       "    }\n",
       "\n",
       "    .dataframe thead th {\n",
       "        text-align: right;\n",
       "    }\n",
       "</style>\n",
       "<table border=\"1\" class=\"dataframe\">\n",
       "  <thead>\n",
       "    <tr style=\"text-align: right;\">\n",
       "      <th></th>\n",
       "      <th>survived</th>\n",
       "      <th>pclass</th>\n",
       "      <th>sex</th>\n",
       "      <th>sibsp</th>\n",
       "      <th>parch</th>\n",
       "      <th>fare</th>\n",
       "      <th>embark_town</th>\n",
       "      <th>alone</th>\n",
       "    </tr>\n",
       "  </thead>\n",
       "  <tbody>\n",
       "    <tr>\n",
       "      <th>0</th>\n",
       "      <td>0</td>\n",
       "      <td>3</td>\n",
       "      <td>male</td>\n",
       "      <td>1</td>\n",
       "      <td>0</td>\n",
       "      <td>7.2500</td>\n",
       "      <td>Southampton</td>\n",
       "      <td>0</td>\n",
       "    </tr>\n",
       "    <tr>\n",
       "      <th>1</th>\n",
       "      <td>1</td>\n",
       "      <td>1</td>\n",
       "      <td>female</td>\n",
       "      <td>1</td>\n",
       "      <td>0</td>\n",
       "      <td>71.2833</td>\n",
       "      <td>Cherbourg</td>\n",
       "      <td>0</td>\n",
       "    </tr>\n",
       "    <tr>\n",
       "      <th>2</th>\n",
       "      <td>1</td>\n",
       "      <td>3</td>\n",
       "      <td>female</td>\n",
       "      <td>0</td>\n",
       "      <td>0</td>\n",
       "      <td>7.9250</td>\n",
       "      <td>Southampton</td>\n",
       "      <td>1</td>\n",
       "    </tr>\n",
       "    <tr>\n",
       "      <th>3</th>\n",
       "      <td>1</td>\n",
       "      <td>1</td>\n",
       "      <td>female</td>\n",
       "      <td>1</td>\n",
       "      <td>0</td>\n",
       "      <td>53.1000</td>\n",
       "      <td>Southampton</td>\n",
       "      <td>0</td>\n",
       "    </tr>\n",
       "    <tr>\n",
       "      <th>4</th>\n",
       "      <td>0</td>\n",
       "      <td>3</td>\n",
       "      <td>male</td>\n",
       "      <td>0</td>\n",
       "      <td>0</td>\n",
       "      <td>8.0500</td>\n",
       "      <td>Southampton</td>\n",
       "      <td>1</td>\n",
       "    </tr>\n",
       "  </tbody>\n",
       "</table>\n",
       "</div>"
      ],
      "text/plain": [
       "   survived  pclass     sex  sibsp  parch     fare  embark_town  alone\n",
       "0         0       3    male      1      0   7.2500  Southampton      0\n",
       "1         1       1  female      1      0  71.2833    Cherbourg      0\n",
       "2         1       3  female      0      0   7.9250  Southampton      1\n",
       "3         1       1  female      1      0  53.1000  Southampton      0\n",
       "4         0       3    male      0      0   8.0500  Southampton      1"
      ]
     },
     "execution_count": 7,
     "metadata": {},
     "output_type": "execute_result"
    }
   ],
   "source": [
    "# baseline for survival is to die (ie, ['survived'] == '0').\n",
    "\n",
    "tati[tati.survived == 0]\n",
    "\n",
    "tati.head()"
   ]
  },
  {
   "cell_type": "code",
   "execution_count": 8,
   "id": "108fc6d8",
   "metadata": {},
   "outputs": [
    {
     "data": {
      "text/html": [
       "<div>\n",
       "<style scoped>\n",
       "    .dataframe tbody tr th:only-of-type {\n",
       "        vertical-align: middle;\n",
       "    }\n",
       "\n",
       "    .dataframe tbody tr th {\n",
       "        vertical-align: top;\n",
       "    }\n",
       "\n",
       "    .dataframe thead th {\n",
       "        text-align: right;\n",
       "    }\n",
       "</style>\n",
       "<table border=\"1\" class=\"dataframe\">\n",
       "  <thead>\n",
       "    <tr style=\"text-align: right;\">\n",
       "      <th></th>\n",
       "      <th>survived</th>\n",
       "      <th>pclass</th>\n",
       "      <th>sex</th>\n",
       "      <th>sibsp</th>\n",
       "      <th>parch</th>\n",
       "      <th>fare</th>\n",
       "      <th>embark_town</th>\n",
       "      <th>alone</th>\n",
       "      <th>survival_baseline</th>\n",
       "    </tr>\n",
       "  </thead>\n",
       "  <tbody>\n",
       "    <tr>\n",
       "      <th>0</th>\n",
       "      <td>0</td>\n",
       "      <td>3</td>\n",
       "      <td>male</td>\n",
       "      <td>1</td>\n",
       "      <td>0</td>\n",
       "      <td>7.2500</td>\n",
       "      <td>Southampton</td>\n",
       "      <td>0</td>\n",
       "      <td>0</td>\n",
       "    </tr>\n",
       "    <tr>\n",
       "      <th>1</th>\n",
       "      <td>1</td>\n",
       "      <td>1</td>\n",
       "      <td>female</td>\n",
       "      <td>1</td>\n",
       "      <td>0</td>\n",
       "      <td>71.2833</td>\n",
       "      <td>Cherbourg</td>\n",
       "      <td>0</td>\n",
       "      <td>0</td>\n",
       "    </tr>\n",
       "    <tr>\n",
       "      <th>2</th>\n",
       "      <td>1</td>\n",
       "      <td>3</td>\n",
       "      <td>female</td>\n",
       "      <td>0</td>\n",
       "      <td>0</td>\n",
       "      <td>7.9250</td>\n",
       "      <td>Southampton</td>\n",
       "      <td>1</td>\n",
       "      <td>0</td>\n",
       "    </tr>\n",
       "    <tr>\n",
       "      <th>3</th>\n",
       "      <td>1</td>\n",
       "      <td>1</td>\n",
       "      <td>female</td>\n",
       "      <td>1</td>\n",
       "      <td>0</td>\n",
       "      <td>53.1000</td>\n",
       "      <td>Southampton</td>\n",
       "      <td>0</td>\n",
       "      <td>0</td>\n",
       "    </tr>\n",
       "    <tr>\n",
       "      <th>4</th>\n",
       "      <td>0</td>\n",
       "      <td>3</td>\n",
       "      <td>male</td>\n",
       "      <td>0</td>\n",
       "      <td>0</td>\n",
       "      <td>8.0500</td>\n",
       "      <td>Southampton</td>\n",
       "      <td>1</td>\n",
       "      <td>0</td>\n",
       "    </tr>\n",
       "  </tbody>\n",
       "</table>\n",
       "</div>"
      ],
      "text/plain": [
       "   survived  pclass     sex  sibsp  parch     fare  embark_town  alone  \\\n",
       "0         0       3    male      1      0   7.2500  Southampton      0   \n",
       "1         1       1  female      1      0  71.2833    Cherbourg      0   \n",
       "2         1       3  female      0      0   7.9250  Southampton      1   \n",
       "3         1       1  female      1      0  53.1000  Southampton      0   \n",
       "4         0       3    male      0      0   8.0500  Southampton      1   \n",
       "\n",
       "   survival_baseline  \n",
       "0                  0  \n",
       "1                  0  \n",
       "2                  0  \n",
       "3                  0  \n",
       "4                  0  "
      ]
     },
     "execution_count": 8,
     "metadata": {},
     "output_type": "execute_result"
    }
   ],
   "source": [
    "tati['survival_baseline'] = 0\n",
    "tati.head()"
   ]
  },
  {
   "cell_type": "code",
   "execution_count": 9,
   "id": "430cffdb",
   "metadata": {},
   "outputs": [
    {
     "data": {
      "text/plain": [
       "0.6175478065241845"
      ]
     },
     "execution_count": 9,
     "metadata": {},
     "output_type": "execute_result"
    }
   ],
   "source": [
    "# Boolean baseline (T = 1, F = 0)\n",
    "\n",
    "(tati['survival_baseline'] == tati['survived']).mean()\n"
   ]
  },
  {
   "cell_type": "code",
   "execution_count": 10,
   "id": "1bd7c450",
   "metadata": {},
   "outputs": [
    {
     "data": {
      "text/html": [
       "<div>\n",
       "<style scoped>\n",
       "    .dataframe tbody tr th:only-of-type {\n",
       "        vertical-align: middle;\n",
       "    }\n",
       "\n",
       "    .dataframe tbody tr th {\n",
       "        vertical-align: top;\n",
       "    }\n",
       "\n",
       "    .dataframe thead th {\n",
       "        text-align: right;\n",
       "    }\n",
       "</style>\n",
       "<table border=\"1\" class=\"dataframe\">\n",
       "  <thead>\n",
       "    <tr style=\"text-align: right;\">\n",
       "      <th></th>\n",
       "      <th>embark_town_Queenstown</th>\n",
       "      <th>embark_town_Southampton</th>\n",
       "      <th>sex_male</th>\n",
       "    </tr>\n",
       "  </thead>\n",
       "  <tbody>\n",
       "    <tr>\n",
       "      <th>0</th>\n",
       "      <td>0</td>\n",
       "      <td>1</td>\n",
       "      <td>1</td>\n",
       "    </tr>\n",
       "    <tr>\n",
       "      <th>1</th>\n",
       "      <td>0</td>\n",
       "      <td>0</td>\n",
       "      <td>0</td>\n",
       "    </tr>\n",
       "    <tr>\n",
       "      <th>2</th>\n",
       "      <td>0</td>\n",
       "      <td>1</td>\n",
       "      <td>0</td>\n",
       "    </tr>\n",
       "    <tr>\n",
       "      <th>3</th>\n",
       "      <td>0</td>\n",
       "      <td>1</td>\n",
       "      <td>0</td>\n",
       "    </tr>\n",
       "    <tr>\n",
       "      <th>4</th>\n",
       "      <td>0</td>\n",
       "      <td>1</td>\n",
       "      <td>1</td>\n",
       "    </tr>\n",
       "  </tbody>\n",
       "</table>\n",
       "</div>"
      ],
      "text/plain": [
       "   embark_town_Queenstown  embark_town_Southampton  sex_male\n",
       "0                       0                        1         1\n",
       "1                       0                        0         0\n",
       "2                       0                        1         0\n",
       "3                       0                        1         0\n",
       "4                       0                        1         1"
      ]
     },
     "execution_count": 10,
     "metadata": {},
     "output_type": "execute_result"
    }
   ],
   "source": [
    "# creating dummies in order to help machine learning\n",
    "\n",
    "tatdum = pd.get_dummies(tati[['embark_town', 'sex']], drop_first = True)\n",
    "\n",
    "tatdum.head()"
   ]
  },
  {
   "cell_type": "code",
   "execution_count": 11,
   "id": "f3efd933",
   "metadata": {},
   "outputs": [
    {
     "data": {
      "text/html": [
       "<div>\n",
       "<style scoped>\n",
       "    .dataframe tbody tr th:only-of-type {\n",
       "        vertical-align: middle;\n",
       "    }\n",
       "\n",
       "    .dataframe tbody tr th {\n",
       "        vertical-align: top;\n",
       "    }\n",
       "\n",
       "    .dataframe thead th {\n",
       "        text-align: right;\n",
       "    }\n",
       "</style>\n",
       "<table border=\"1\" class=\"dataframe\">\n",
       "  <thead>\n",
       "    <tr style=\"text-align: right;\">\n",
       "      <th></th>\n",
       "      <th>survived</th>\n",
       "      <th>pclass</th>\n",
       "      <th>sex</th>\n",
       "      <th>sibsp</th>\n",
       "      <th>parch</th>\n",
       "      <th>fare</th>\n",
       "      <th>embark_town</th>\n",
       "      <th>alone</th>\n",
       "      <th>survival_baseline</th>\n",
       "      <th>embark_town_Queenstown</th>\n",
       "      <th>embark_town_Southampton</th>\n",
       "      <th>sex_male</th>\n",
       "    </tr>\n",
       "  </thead>\n",
       "  <tbody>\n",
       "    <tr>\n",
       "      <th>0</th>\n",
       "      <td>0</td>\n",
       "      <td>3</td>\n",
       "      <td>male</td>\n",
       "      <td>1</td>\n",
       "      <td>0</td>\n",
       "      <td>7.2500</td>\n",
       "      <td>Southampton</td>\n",
       "      <td>0</td>\n",
       "      <td>0</td>\n",
       "      <td>0</td>\n",
       "      <td>1</td>\n",
       "      <td>1</td>\n",
       "    </tr>\n",
       "    <tr>\n",
       "      <th>1</th>\n",
       "      <td>1</td>\n",
       "      <td>1</td>\n",
       "      <td>female</td>\n",
       "      <td>1</td>\n",
       "      <td>0</td>\n",
       "      <td>71.2833</td>\n",
       "      <td>Cherbourg</td>\n",
       "      <td>0</td>\n",
       "      <td>0</td>\n",
       "      <td>0</td>\n",
       "      <td>0</td>\n",
       "      <td>0</td>\n",
       "    </tr>\n",
       "    <tr>\n",
       "      <th>2</th>\n",
       "      <td>1</td>\n",
       "      <td>3</td>\n",
       "      <td>female</td>\n",
       "      <td>0</td>\n",
       "      <td>0</td>\n",
       "      <td>7.9250</td>\n",
       "      <td>Southampton</td>\n",
       "      <td>1</td>\n",
       "      <td>0</td>\n",
       "      <td>0</td>\n",
       "      <td>1</td>\n",
       "      <td>0</td>\n",
       "    </tr>\n",
       "    <tr>\n",
       "      <th>3</th>\n",
       "      <td>1</td>\n",
       "      <td>1</td>\n",
       "      <td>female</td>\n",
       "      <td>1</td>\n",
       "      <td>0</td>\n",
       "      <td>53.1000</td>\n",
       "      <td>Southampton</td>\n",
       "      <td>0</td>\n",
       "      <td>0</td>\n",
       "      <td>0</td>\n",
       "      <td>1</td>\n",
       "      <td>0</td>\n",
       "    </tr>\n",
       "    <tr>\n",
       "      <th>4</th>\n",
       "      <td>0</td>\n",
       "      <td>3</td>\n",
       "      <td>male</td>\n",
       "      <td>0</td>\n",
       "      <td>0</td>\n",
       "      <td>8.0500</td>\n",
       "      <td>Southampton</td>\n",
       "      <td>1</td>\n",
       "      <td>0</td>\n",
       "      <td>0</td>\n",
       "      <td>1</td>\n",
       "      <td>1</td>\n",
       "    </tr>\n",
       "  </tbody>\n",
       "</table>\n",
       "</div>"
      ],
      "text/plain": [
       "   survived  pclass     sex  sibsp  parch     fare  embark_town  alone  \\\n",
       "0         0       3    male      1      0   7.2500  Southampton      0   \n",
       "1         1       1  female      1      0  71.2833    Cherbourg      0   \n",
       "2         1       3  female      0      0   7.9250  Southampton      1   \n",
       "3         1       1  female      1      0  53.1000  Southampton      0   \n",
       "4         0       3    male      0      0   8.0500  Southampton      1   \n",
       "\n",
       "   survival_baseline  embark_town_Queenstown  embark_town_Southampton  \\\n",
       "0                  0                       0                        1   \n",
       "1                  0                       0                        0   \n",
       "2                  0                       0                        1   \n",
       "3                  0                       0                        1   \n",
       "4                  0                       0                        1   \n",
       "\n",
       "   sex_male  \n",
       "0         1  \n",
       "1         0  \n",
       "2         0  \n",
       "3         0  \n",
       "4         1  "
      ]
     },
     "execution_count": 11,
     "metadata": {},
     "output_type": "execute_result"
    }
   ],
   "source": [
    "# now that we have the DF and the dummies, use concatenation to join the two :\n",
    "\n",
    "pd.concat([tati, tatdum], axis = 1)\n",
    "\n",
    "# assigning it a variable for permanence\n",
    "\n",
    "tati = pd.concat([tati, tatdum], axis = 1)\n",
    "tati.head()"
   ]
  },
  {
   "cell_type": "code",
   "execution_count": 12,
   "id": "5794c170",
   "metadata": {},
   "outputs": [
    {
     "name": "stdout",
     "output_type": "stream",
     "text": [
      "<class 'pandas.core.frame.DataFrame'>\n",
      "Int64Index: 889 entries, 0 to 890\n",
      "Data columns (total 12 columns):\n",
      " #   Column                   Non-Null Count  Dtype  \n",
      "---  ------                   --------------  -----  \n",
      " 0   survived                 889 non-null    int64  \n",
      " 1   pclass                   889 non-null    int64  \n",
      " 2   sex                      889 non-null    object \n",
      " 3   sibsp                    889 non-null    int64  \n",
      " 4   parch                    889 non-null    int64  \n",
      " 5   fare                     889 non-null    float64\n",
      " 6   embark_town              889 non-null    object \n",
      " 7   alone                    889 non-null    int64  \n",
      " 8   survival_baseline        889 non-null    int64  \n",
      " 9   embark_town_Queenstown   889 non-null    uint8  \n",
      " 10  embark_town_Southampton  889 non-null    uint8  \n",
      " 11  sex_male                 889 non-null    uint8  \n",
      "dtypes: float64(1), int64(6), object(2), uint8(3)\n",
      "memory usage: 72.1+ KB\n"
     ]
    }
   ],
   "source": [
    "tati.info()"
   ]
  },
  {
   "cell_type": "code",
   "execution_count": 13,
   "id": "18a543d5",
   "metadata": {},
   "outputs": [
    {
     "data": {
      "text/plain": [
       "Index(['survived', 'pclass', 'sibsp', 'parch', 'fare', 'alone',\n",
       "       'survival_baseline', 'embark_town_Queenstown',\n",
       "       'embark_town_Southampton', 'sex_male'],\n",
       "      dtype='object')"
      ]
     },
     "execution_count": 13,
     "metadata": {},
     "output_type": "execute_result"
    }
   ],
   "source": [
    "# dropping columns for machine learning purposes (don't do this for exploration purposes)\n",
    "\n",
    "tati = tati.drop(columns = ['embark_town', 'sex'], axis = 1)\n",
    "tati.columns"
   ]
  },
  {
   "cell_type": "code",
   "execution_count": 14,
   "id": "d6f99b97",
   "metadata": {},
   "outputs": [],
   "source": [
    "# setting the 'survived' column to Boolean T / F\n",
    "tati['survived'] = np.where(tati['survived'] == True, '1', '0')"
   ]
  },
  {
   "cell_type": "code",
   "execution_count": 15,
   "id": "b86f2934",
   "metadata": {},
   "outputs": [
    {
     "data": {
      "text/plain": [
       "0      0\n",
       "1      1\n",
       "2      1\n",
       "3      1\n",
       "4      0\n",
       "      ..\n",
       "886    0\n",
       "887    1\n",
       "888    0\n",
       "889    1\n",
       "890    0\n",
       "Name: survived, Length: 889, dtype: object"
      ]
     },
     "execution_count": 15,
     "metadata": {},
     "output_type": "execute_result"
    }
   ],
   "source": [
    "tati['survived']"
   ]
  },
  {
   "cell_type": "code",
   "execution_count": null,
   "id": "27b6ae1c",
   "metadata": {},
   "outputs": [],
   "source": [
    "\n"
   ]
  },
  {
   "cell_type": "code",
   "execution_count": 16,
   "id": "6055a785",
   "metadata": {},
   "outputs": [],
   "source": [
    "def train_val_test(df, target, seed = 23):\n",
    "    \n",
    "    train, val_test = train_test_split(df, train_size = 0.7, \n",
    "                                       random_state = seed, \n",
    "                                       stratify = df[target])\n",
    "    \n",
    "    val, test = train_test_split(val_test, train_size = 0.5, \n",
    "                                 random_state = seed, \n",
    "                                 stratify = val_test[target])\n",
    "    \n",
    "    return train, val, test\n",
    "\n",
    "## function to train, validate, test data"
   ]
  },
  {
   "cell_type": "code",
   "execution_count": 17,
   "id": "ddd12b07",
   "metadata": {},
   "outputs": [
    {
     "data": {
      "text/plain": [
       "((622, 10), (133, 10), (134, 10))"
      ]
     },
     "execution_count": 17,
     "metadata": {},
     "output_type": "execute_result"
    }
   ],
   "source": [
    "train, val, test  = train_val_test(tati, 'survived')\n",
    "\n",
    "train.shape, val.shape, test.shape\n",
    "\n",
    "# returning the data shapes / sizes to be trained, validated, tested"
   ]
  },
  {
   "cell_type": "code",
   "execution_count": 18,
   "id": "3544752a",
   "metadata": {},
   "outputs": [],
   "source": [
    "# split train, val, test into X_train, X_val, X_test (feature DF, exludes var 'survived') and y-train, etc\n",
    "\n",
    "# y_train is only our target\n",
    "\n",
    "# X_train is everything except for 'survived'\n",
    "\n",
    "X_train = train.drop(columns = ['survived'])\n",
    "y_train = train['survived']\n",
    "\n",
    "\n",
    "X_val = val.drop(columns = ['survived'])\n",
    "y_val = val['survived']\n",
    "\n",
    "\n",
    "X_test = test.drop(columns = ['survived'])\n",
    "y_test = test['survived']"
   ]
  },
  {
   "cell_type": "code",
   "execution_count": 19,
   "id": "eaa396bb",
   "metadata": {},
   "outputs": [],
   "source": [
    "seed = 23"
   ]
  },
  {
   "cell_type": "code",
   "execution_count": 20,
   "id": "2e0296c4",
   "metadata": {},
   "outputs": [],
   "source": [
    "tita_rf = RandomForestClassifier(max_depth = 10,       # RFC will have 10 nodes.\n",
    "                                 random_state = seed, \n",
    "                                 min_samples_leaf = 1, # Minimum number of samples required at a leaf node : 1.\n",
    "                                 max_samples = 0.5)\n",
    "                                         # 50pc of all observations will be placed into each random sample\n"
   ]
  },
  {
   "cell_type": "code",
   "execution_count": 21,
   "id": "6d388211",
   "metadata": {},
   "outputs": [
    {
     "data": {
      "text/html": [
       "<style>#sk-container-id-1 {color: black;background-color: white;}#sk-container-id-1 pre{padding: 0;}#sk-container-id-1 div.sk-toggleable {background-color: white;}#sk-container-id-1 label.sk-toggleable__label {cursor: pointer;display: block;width: 100%;margin-bottom: 0;padding: 0.3em;box-sizing: border-box;text-align: center;}#sk-container-id-1 label.sk-toggleable__label-arrow:before {content: \"▸\";float: left;margin-right: 0.25em;color: #696969;}#sk-container-id-1 label.sk-toggleable__label-arrow:hover:before {color: black;}#sk-container-id-1 div.sk-estimator:hover label.sk-toggleable__label-arrow:before {color: black;}#sk-container-id-1 div.sk-toggleable__content {max-height: 0;max-width: 0;overflow: hidden;text-align: left;background-color: #f0f8ff;}#sk-container-id-1 div.sk-toggleable__content pre {margin: 0.2em;color: black;border-radius: 0.25em;background-color: #f0f8ff;}#sk-container-id-1 input.sk-toggleable__control:checked~div.sk-toggleable__content {max-height: 200px;max-width: 100%;overflow: auto;}#sk-container-id-1 input.sk-toggleable__control:checked~label.sk-toggleable__label-arrow:before {content: \"▾\";}#sk-container-id-1 div.sk-estimator input.sk-toggleable__control:checked~label.sk-toggleable__label {background-color: #d4ebff;}#sk-container-id-1 div.sk-label input.sk-toggleable__control:checked~label.sk-toggleable__label {background-color: #d4ebff;}#sk-container-id-1 input.sk-hidden--visually {border: 0;clip: rect(1px 1px 1px 1px);clip: rect(1px, 1px, 1px, 1px);height: 1px;margin: -1px;overflow: hidden;padding: 0;position: absolute;width: 1px;}#sk-container-id-1 div.sk-estimator {font-family: monospace;background-color: #f0f8ff;border: 1px dotted black;border-radius: 0.25em;box-sizing: border-box;margin-bottom: 0.5em;}#sk-container-id-1 div.sk-estimator:hover {background-color: #d4ebff;}#sk-container-id-1 div.sk-parallel-item::after {content: \"\";width: 100%;border-bottom: 1px solid gray;flex-grow: 1;}#sk-container-id-1 div.sk-label:hover label.sk-toggleable__label {background-color: #d4ebff;}#sk-container-id-1 div.sk-serial::before {content: \"\";position: absolute;border-left: 1px solid gray;box-sizing: border-box;top: 0;bottom: 0;left: 50%;z-index: 0;}#sk-container-id-1 div.sk-serial {display: flex;flex-direction: column;align-items: center;background-color: white;padding-right: 0.2em;padding-left: 0.2em;position: relative;}#sk-container-id-1 div.sk-item {position: relative;z-index: 1;}#sk-container-id-1 div.sk-parallel {display: flex;align-items: stretch;justify-content: center;background-color: white;position: relative;}#sk-container-id-1 div.sk-item::before, #sk-container-id-1 div.sk-parallel-item::before {content: \"\";position: absolute;border-left: 1px solid gray;box-sizing: border-box;top: 0;bottom: 0;left: 50%;z-index: -1;}#sk-container-id-1 div.sk-parallel-item {display: flex;flex-direction: column;z-index: 1;position: relative;background-color: white;}#sk-container-id-1 div.sk-parallel-item:first-child::after {align-self: flex-end;width: 50%;}#sk-container-id-1 div.sk-parallel-item:last-child::after {align-self: flex-start;width: 50%;}#sk-container-id-1 div.sk-parallel-item:only-child::after {width: 0;}#sk-container-id-1 div.sk-dashed-wrapped {border: 1px dashed gray;margin: 0 0.4em 0.5em 0.4em;box-sizing: border-box;padding-bottom: 0.4em;background-color: white;}#sk-container-id-1 div.sk-label label {font-family: monospace;font-weight: bold;display: inline-block;line-height: 1.2em;}#sk-container-id-1 div.sk-label-container {text-align: center;}#sk-container-id-1 div.sk-container {/* jupyter's `normalize.less` sets `[hidden] { display: none; }` but bootstrap.min.css set `[hidden] { display: none !important; }` so we also need the `!important` here to be able to override the default hidden behavior on the sphinx rendered scikit-learn.org. See: https://github.com/scikit-learn/scikit-learn/issues/21755 */display: inline-block !important;position: relative;}#sk-container-id-1 div.sk-text-repr-fallback {display: none;}</style><div id=\"sk-container-id-1\" class=\"sk-top-container\"><div class=\"sk-text-repr-fallback\"><pre>RandomForestClassifier(max_depth=10, max_samples=0.5, random_state=23)</pre><b>In a Jupyter environment, please rerun this cell to show the HTML representation or trust the notebook. <br />On GitHub, the HTML representation is unable to render, please try loading this page with nbviewer.org.</b></div><div class=\"sk-container\" hidden><div class=\"sk-item\"><div class=\"sk-estimator sk-toggleable\"><input class=\"sk-toggleable__control sk-hidden--visually\" id=\"sk-estimator-id-1\" type=\"checkbox\" checked><label for=\"sk-estimator-id-1\" class=\"sk-toggleable__label sk-toggleable__label-arrow\">RandomForestClassifier</label><div class=\"sk-toggleable__content\"><pre>RandomForestClassifier(max_depth=10, max_samples=0.5, random_state=23)</pre></div></div></div></div></div>"
      ],
      "text/plain": [
       "RandomForestClassifier(max_depth=10, max_samples=0.5, random_state=23)"
      ]
     },
     "execution_count": 21,
     "metadata": {},
     "output_type": "execute_result"
    }
   ],
   "source": [
    "tita_rf.fit(X_train, y_train)\n",
    "\n",
    "# training the random forest on the data"
   ]
  },
  {
   "cell_type": "code",
   "execution_count": null,
   "id": "15d8ae21",
   "metadata": {},
   "outputs": [],
   "source": []
  },
  {
   "cell_type": "markdown",
   "id": "bc2f357c",
   "metadata": {},
   "source": [
    "### 2 / Evaluate your results using the model score, confusion matrix, and classification report.\n",
    "\n",
    "   "
   ]
  },
  {
   "cell_type": "markdown",
   "id": "29a3d711",
   "metadata": {},
   "source": [
    "**MODEL SCORE**"
   ]
  },
  {
   "cell_type": "code",
   "execution_count": 22,
   "id": "a0cb142f",
   "metadata": {},
   "outputs": [
    {
     "data": {
      "text/plain": [
       "0.9003215434083601"
      ]
     },
     "execution_count": 22,
     "metadata": {},
     "output_type": "execute_result"
    }
   ],
   "source": [
    "# 'tita_rf.score' tells us how accurate our model is. \n",
    "\n",
    "tita_acc = tita_rf.score(X_train, y_train)\n",
    "tita_acc\n",
    "\n",
    "# scoring the accuracy of the training set : 90pc accuracy\n",
    "# the X_train data is compared against y_train "
   ]
  },
  {
   "cell_type": "code",
   "execution_count": 23,
   "id": "8ba45fa3",
   "metadata": {},
   "outputs": [
    {
     "data": {
      "text/plain": [
       "Index(['pclass', 'sibsp', 'parch', 'fare', 'alone', 'survival_baseline',\n",
       "       'embark_town_Queenstown', 'embark_town_Southampton', 'sex_male'],\n",
       "      dtype='object')"
      ]
     },
     "execution_count": 23,
     "metadata": {},
     "output_type": "execute_result"
    }
   ],
   "source": [
    "X_train.columns"
   ]
  },
  {
   "cell_type": "code",
   "execution_count": 24,
   "id": "5ad4662e",
   "metadata": {},
   "outputs": [],
   "source": [
    "importance_df = pd.DataFrame({'feature': X_train.columns.tolist(),  \n",
    "                     # naming X_train features, sending them to a list\n",
    "                              \n",
    "                             'importance': tita_rf.feature_importances_}) \n",
    "                     # pairing the order of features in X_train with the corresponding feature importance\n",
    "    "
   ]
  },
  {
   "cell_type": "code",
   "execution_count": 25,
   "id": "3703f4fd",
   "metadata": {},
   "outputs": [
    {
     "data": {
      "text/html": [
       "<div>\n",
       "<style scoped>\n",
       "    .dataframe tbody tr th:only-of-type {\n",
       "        vertical-align: middle;\n",
       "    }\n",
       "\n",
       "    .dataframe tbody tr th {\n",
       "        vertical-align: top;\n",
       "    }\n",
       "\n",
       "    .dataframe thead th {\n",
       "        text-align: right;\n",
       "    }\n",
       "</style>\n",
       "<table border=\"1\" class=\"dataframe\">\n",
       "  <thead>\n",
       "    <tr style=\"text-align: right;\">\n",
       "      <th></th>\n",
       "      <th>feature</th>\n",
       "      <th>importance</th>\n",
       "    </tr>\n",
       "  </thead>\n",
       "  <tbody>\n",
       "    <tr>\n",
       "      <th>3</th>\n",
       "      <td>fare</td>\n",
       "      <td>0.402086</td>\n",
       "    </tr>\n",
       "    <tr>\n",
       "      <th>8</th>\n",
       "      <td>sex_male</td>\n",
       "      <td>0.285079</td>\n",
       "    </tr>\n",
       "    <tr>\n",
       "      <th>0</th>\n",
       "      <td>pclass</td>\n",
       "      <td>0.117919</td>\n",
       "    </tr>\n",
       "    <tr>\n",
       "      <th>1</th>\n",
       "      <td>sibsp</td>\n",
       "      <td>0.056902</td>\n",
       "    </tr>\n",
       "    <tr>\n",
       "      <th>2</th>\n",
       "      <td>parch</td>\n",
       "      <td>0.056585</td>\n",
       "    </tr>\n",
       "    <tr>\n",
       "      <th>7</th>\n",
       "      <td>embark_town_Southampton</td>\n",
       "      <td>0.040411</td>\n",
       "    </tr>\n",
       "    <tr>\n",
       "      <th>4</th>\n",
       "      <td>alone</td>\n",
       "      <td>0.025622</td>\n",
       "    </tr>\n",
       "    <tr>\n",
       "      <th>6</th>\n",
       "      <td>embark_town_Queenstown</td>\n",
       "      <td>0.015398</td>\n",
       "    </tr>\n",
       "    <tr>\n",
       "      <th>5</th>\n",
       "      <td>survival_baseline</td>\n",
       "      <td>0.000000</td>\n",
       "    </tr>\n",
       "  </tbody>\n",
       "</table>\n",
       "</div>"
      ],
      "text/plain": [
       "                   feature  importance\n",
       "3                     fare    0.402086\n",
       "8                 sex_male    0.285079\n",
       "0                   pclass    0.117919\n",
       "1                    sibsp    0.056902\n",
       "2                    parch    0.056585\n",
       "7  embark_town_Southampton    0.040411\n",
       "4                    alone    0.025622\n",
       "6   embark_town_Queenstown    0.015398\n",
       "5        survival_baseline    0.000000"
      ]
     },
     "execution_count": 25,
     "metadata": {},
     "output_type": "execute_result"
    }
   ],
   "source": [
    "importance_df.sort_values('importance', ascending = False)\n",
    "\n",
    "# This would indicate that 'fare', followed by sex (unclear if 'sex_male' shows 0 or 1) \n",
    "# and passenger class have the highest impact on survival"
   ]
  },
  {
   "cell_type": "code",
   "execution_count": 26,
   "id": "dec22dd5",
   "metadata": {},
   "outputs": [
    {
     "data": {
      "text/plain": [
       "1    401\n",
       "0    221\n",
       "Name: sex_male, dtype: int64"
      ]
     },
     "execution_count": 26,
     "metadata": {},
     "output_type": "execute_result"
    }
   ],
   "source": [
    "X_train['sex_male'].value_counts()\n",
    "\n",
    "# checking to see what 'sex_male' contains : 1 = male (count 401), 0 = female (count 221)"
   ]
  },
  {
   "cell_type": "code",
   "execution_count": 27,
   "id": "3efad8e6",
   "metadata": {},
   "outputs": [
    {
     "data": {
      "text/plain": [
       "0.8045112781954887"
      ]
     },
     "execution_count": 27,
     "metadata": {},
     "output_type": "execute_result"
    }
   ],
   "source": [
    "tita_rf.score(X_val, y_val)\n",
    "\n",
    "# scoring the accuracy of the validation dataset : 80.5pc accuracy"
   ]
  },
  {
   "cell_type": "code",
   "execution_count": 28,
   "id": "263aab00",
   "metadata": {},
   "outputs": [
    {
     "data": {
      "text/plain": [
       "array([0.11791882, 0.05690187, 0.05658476, 0.40208554, 0.02562173,\n",
       "       0.        , 0.0153976 , 0.0404107 , 0.28507899])"
      ]
     },
     "execution_count": 28,
     "metadata": {},
     "output_type": "execute_result"
    }
   ],
   "source": [
    "tita_rf.feature_importances_\n",
    "\n",
    "# the importance in dataset features, in pc"
   ]
  },
  {
   "cell_type": "code",
   "execution_count": null,
   "id": "1aa9b3db",
   "metadata": {},
   "outputs": [],
   "source": []
  },
  {
   "cell_type": "markdown",
   "id": "43c86906",
   "metadata": {},
   "source": [
    "**CONFUSION MATRIX**"
   ]
  },
  {
   "cell_type": "code",
   "execution_count": 29,
   "id": "79261f12",
   "metadata": {},
   "outputs": [
    {
     "data": {
      "text/plain": [
       "<sklearn.metrics._plot.confusion_matrix.ConfusionMatrixDisplay at 0x1638b8070>"
      ]
     },
     "execution_count": 29,
     "metadata": {},
     "output_type": "execute_result"
    },
    {
     "data": {
      "image/png": "[encoded data removed]",
      "text/plain": [
       "<Figure size 640x480 with 2 Axes>"
      ]
     },
     "metadata": {},
     "output_type": "display_data"
    }
   ],
   "source": [
    "## plotting teh confusion matrix of tita_rf\n",
    "\n",
    "plot_confusion_matrix(tita_rf, X_train, y_train)\n",
    "\n",
    "# (prediction-model, X_train, y_train)"
   ]
  },
  {
   "cell_type": "code",
   "execution_count": 30,
   "id": "1644b3ac",
   "metadata": {},
   "outputs": [],
   "source": [
    "# y predictions based on X_train\n",
    "\n",
    "y_preds = tita_rf.predict(X_train)"
   ]
  },
  {
   "cell_type": "code",
   "execution_count": 31,
   "id": "997981b9",
   "metadata": {},
   "outputs": [
    {
     "data": {
      "text/plain": [
       "array([[368,  46],\n",
       "       [ 16, 192]])"
      ]
     },
     "execution_count": 31,
     "metadata": {},
     "output_type": "execute_result"
    }
   ],
   "source": [
    "# returning the confusion matrix as an array\n",
    "\n",
    "confusion_matrix(y_preds, y_train)\n"
   ]
  },
  {
   "cell_type": "code",
   "execution_count": 55,
   "id": "60bef752",
   "metadata": {},
   "outputs": [
    {
     "data": {
      "text/plain": [
       "(347, 37, 69, 169)"
      ]
     },
     "execution_count": 55,
     "metadata": {},
     "output_type": "execute_result"
    }
   ],
   "source": [
    "# assigning confusion matrix values to appropriate variables\n",
    "\n",
    "TN, FP, FN, TP = confusion_matrix(y_train, y_preds).ravel()\n",
    "\n",
    "\n",
    "TN, FP, FN, TP"
   ]
  },
  {
   "cell_type": "markdown",
   "id": "db511117",
   "metadata": {},
   "source": [
    "**CLASSIFICATION REPORT**"
   ]
  },
  {
   "cell_type": "code",
   "execution_count": null,
   "id": "f1e93685",
   "metadata": {},
   "outputs": [],
   "source": []
  },
  {
   "cell_type": "code",
   "execution_count": 33,
   "id": "762ab199",
   "metadata": {},
   "outputs": [
    {
     "name": "stdout",
     "output_type": "stream",
     "text": [
      "              precision    recall  f1-score   support\n",
      "\n",
      "           0       0.89      0.96      0.92       384\n",
      "           1       0.92      0.81      0.86       238\n",
      "\n",
      "    accuracy                           0.90       622\n",
      "   macro avg       0.91      0.88      0.89       622\n",
      "weighted avg       0.90      0.90      0.90       622\n",
      "\n"
     ]
    }
   ],
   "source": [
    "print(classification_report(y_train, y_preds))"
   ]
  },
  {
   "cell_type": "code",
   "execution_count": 34,
   "id": "99d966e4",
   "metadata": {},
   "outputs": [
    {
     "name": "stdout",
     "output_type": "stream",
     "text": [
      "The baseline accuracy for non-survival in all cases on the Titanic is 0.9003\n"
     ]
    }
   ],
   "source": [
    "print(f'The baseline accuracy for non-survival in all cases on the Titanic is {round(tita_acc, 4).mean()}')"
   ]
  },
  {
   "cell_type": "code",
   "execution_count": null,
   "id": "a81abff3",
   "metadata": {},
   "outputs": [],
   "source": []
  },
  {
   "cell_type": "markdown",
   "id": "a098528d",
   "metadata": {},
   "source": [
    "### 3 /  Print and clearly label the following : \n",
    "Accuracy, true positive rate / recall, false positive rate, true negative rate, false negative rate, precision, f1-score and support.  \n",
    "\n",
    "**Overall accuracy**   \n",
    "ACC = (TP+TN)/(TP+FP+FN+TN)  \n",
    "**Sensitivity, hit rate, recall, or true positive rate**  \n",
    "TPR = TP/(TP+FN)  \n",
    "**Fall out or false positive rate**  \n",
    "FPR = FP/(FP+TN)  \n",
    "**Specificity or true negative rate**  \n",
    "TNR = TN/(TN+FP)   \n",
    "**Negative predictive value**  \n",
    "NPV = TN/(TN+FN)  \n",
    "**False negative rate**  \n",
    "FNR = FN/(TP+FN)  \n",
    "**False discovery rate**  \n",
    "FDR = FP/(TP+FP)  \n",
    "**Precision or positive predictive value**  \n",
    "PPV = TP/(TP+FP)  "
   ]
  },
  {
   "cell_type": "code",
   "execution_count": 35,
   "id": "b467c897",
   "metadata": {},
   "outputs": [
    {
     "name": "stdout",
     "output_type": "stream",
     "text": [
      "The accuracy is 0.9003215434083601.\n"
     ]
    }
   ],
   "source": [
    "# Accuracy\n",
    "\n",
    "print(f'The accuracy is {sklearn.metrics.accuracy_score(y_train, y_preds)}.')\n"
   ]
  },
  {
   "cell_type": "code",
   "execution_count": 36,
   "id": "f21c3090",
   "metadata": {},
   "outputs": [
    {
     "name": "stdout",
     "output_type": "stream",
     "text": [
      "The recall is [0.95833333 0.80672269].\n"
     ]
    }
   ],
   "source": [
    "# sensitivity / true positive rate / recall\n",
    "\n",
    "print(f'The recall is {sklearn.metrics.recall_score(y_train, y_preds, average = None)}.')"
   ]
  },
  {
   "cell_type": "code",
   "execution_count": 56,
   "id": "89921179",
   "metadata": {},
   "outputs": [
    {
     "name": "stdout",
     "output_type": "stream",
     "text": [
      "The false negative rate is 0.28991596638655465.\n"
     ]
    }
   ],
   "source": [
    "# false negative rate\n",
    "\n",
    "print(f'The false negative rate is {FN / (TP + FN)}.')"
   ]
  },
  {
   "cell_type": "code",
   "execution_count": 38,
   "id": "f4d60e75",
   "metadata": {},
   "outputs": [
    {
     "name": "stdout",
     "output_type": "stream",
     "text": [
      "The precision rate is [0.88888889 0.92307692].\n"
     ]
    }
   ],
   "source": [
    "# precision / PPV\n",
    "\n",
    "print(f'The precision rate is {sklearn.metrics.precision_score(y_train, y_preds, average = None)}.')"
   ]
  },
  {
   "cell_type": "code",
   "execution_count": 57,
   "id": "30a3beee",
   "metadata": {},
   "outputs": [
    {
     "data": {
      "text/plain": [
       "(238,\n",
       " 384,\n",
       " 0    384\n",
       " 1    238\n",
       " Name: survived, dtype: int64)"
      ]
     },
     "execution_count": 57,
     "metadata": {},
     "output_type": "execute_result"
    }
   ],
   "source": [
    "# support\n",
    "\n",
    "support_pos = TP + FN ## positive cases\n",
    "support_neg = FP + TN ## negative cases\n",
    "\n",
    "support_pos, support_neg, y_train.value_counts()"
   ]
  },
  {
   "cell_type": "code",
   "execution_count": 40,
   "id": "8bf321b0",
   "metadata": {},
   "outputs": [
    {
     "name": "stdout",
     "output_type": "stream",
     "text": [
      "The f1 score is [0.92230576 0.86098655].\n"
     ]
    }
   ],
   "source": [
    "# f1 score\n",
    "\n",
    "print(f'The f1 score is {sklearn.metrics.f1_score(y_train, y_preds, average = None)}.')"
   ]
  },
  {
   "cell_type": "code",
   "execution_count": 41,
   "id": "2eb97586",
   "metadata": {},
   "outputs": [
    {
     "name": "stdout",
     "output_type": "stream",
     "text": [
      "The support is (array([0.88888889, 0.92307692]), array([0.95833333, 0.80672269]), array([0.92230576, 0.86098655]), array([384, 238])).\n"
     ]
    }
   ],
   "source": [
    "# support\n",
    "\n",
    "print(f'The support is {sklearn.metrics.precision_recall_fscore_support(y_train, y_preds, average = None)}.')"
   ]
  },
  {
   "cell_type": "code",
   "execution_count": 58,
   "id": "646c0880",
   "metadata": {},
   "outputs": [
    {
     "name": "stdout",
     "output_type": "stream",
     "text": [
      "The NVP is 0.8341346153846154.\n"
     ]
    }
   ],
   "source": [
    "## NVP / negative predicted value\n",
    "print(f'The NVP is {TN / (TN + FN)}.')"
   ]
  },
  {
   "cell_type": "code",
   "execution_count": null,
   "id": "4d53d2af",
   "metadata": {},
   "outputs": [],
   "source": []
  },
  {
   "cell_type": "code",
   "execution_count": 43,
   "id": "7f2486f6",
   "metadata": {},
   "outputs": [
    {
     "name": "stdout",
     "output_type": "stream",
     "text": [
      " \n",
      "Tree with minimum samples leaf of 1.\n",
      " \n",
      "                    0           1  accuracy   macro avg  weighted avg\n",
      "precision    0.807980    0.728507  0.779743    0.768243      0.777571\n",
      "recall       0.843750    0.676471  0.779743    0.760110      0.779743\n",
      "f1-score     0.825478    0.701525  0.779743    0.763501      0.778049\n",
      "support    384.000000  238.000000  0.779743  622.000000    622.000000\n",
      " \n",
      "Tree with minimum samples leaf of 2.\n",
      " \n",
      "                    0           1  accuracy   macro avg  weighted avg\n",
      "precision    0.752988    0.950000  0.790997    0.851494      0.828372\n",
      "recall       0.984375    0.478992  0.790997    0.731683      0.790997\n",
      "f1-score     0.853273    0.636872  0.790997    0.745072      0.770470\n",
      "support    384.000000  238.000000  0.790997  622.000000    622.000000\n",
      " \n",
      "Tree with minimum samples leaf of 3.\n",
      " \n",
      "                    0           1  accuracy   macro avg  weighted avg\n",
      "precision    0.813397    0.784314  0.803859    0.798855      0.802269\n",
      "recall       0.885417    0.672269  0.803859    0.778843      0.803859\n",
      "f1-score     0.847880    0.723982  0.803859    0.785931      0.800472\n",
      "support    384.000000  238.000000  0.803859  622.000000    622.000000\n",
      " \n",
      "Tree with minimum samples leaf of 4.\n",
      " \n",
      "                    0           1  accuracy   macro avg  weighted avg\n",
      "precision    0.796499    0.878788  0.818328    0.837643      0.827986\n",
      "recall       0.947917    0.609244  0.818328    0.778580      0.818328\n",
      "f1-score     0.865636    0.719603  0.818328    0.792620      0.809759\n",
      "support    384.000000  238.000000  0.818328  622.000000    622.000000\n",
      " \n",
      "Tree with minimum samples leaf of 5.\n",
      " \n",
      "                    0           1  accuracy   macro avg  weighted avg\n",
      "precision    0.817130    0.836842  0.823151    0.826986      0.824672\n",
      "recall       0.919271    0.668067  0.823151    0.793669      0.823151\n",
      "f1-score     0.865196    0.742991  0.823151    0.804093      0.818436\n",
      "support    384.000000  238.000000  0.823151  622.000000    622.000000\n",
      " \n",
      "Tree with minimum samples leaf of 6.\n",
      " \n",
      "                    0           1  accuracy   macro avg  weighted avg\n",
      "precision    0.838028    0.862245  0.845659    0.850137      0.847294\n",
      "recall       0.929688    0.710084  0.845659    0.819886      0.845659\n",
      "f1-score     0.881481    0.778802  0.845659    0.830142      0.842192\n",
      "support    384.000000  238.000000  0.845659  622.000000    622.000000\n",
      " \n",
      "Tree with minimum samples leaf of 7.\n",
      " \n",
      "                    0           1  accuracy   macro avg  weighted avg\n",
      "precision    0.852300    0.846890  0.850482    0.849595      0.850230\n",
      "recall       0.916667    0.743697  0.850482    0.830182      0.850482\n",
      "f1-score     0.883312    0.791946  0.850482    0.837629      0.848352\n",
      "support    384.000000  238.000000  0.850482  622.000000    622.000000\n",
      " \n",
      "Tree with minimum samples leaf of 8.\n",
      " \n",
      "                    0           1  accuracy   macro avg  weighted avg\n",
      "precision    0.846154    0.844660  0.845659    0.845407      0.845582\n",
      "recall       0.916667    0.731092  0.845659    0.823880      0.845659\n",
      "f1-score     0.880000    0.783784  0.845659    0.831892      0.843184\n",
      "support    384.000000  238.000000  0.845659  622.000000    622.000000\n",
      " \n",
      "Tree with minimum samples leaf of 9.\n",
      " \n",
      "                    0           1  accuracy   macro avg  weighted avg\n",
      "precision    0.834135    0.820388  0.829582    0.827261      0.828875\n",
      "recall       0.903646    0.710084  0.829582    0.806865      0.829582\n",
      "f1-score     0.867500    0.761261  0.829582    0.814381      0.826849\n",
      "support    384.000000  238.000000  0.829582  622.000000    622.000000\n",
      " \n",
      "Tree with minimum samples leaf of 10.\n",
      " \n",
      "                    0           1  accuracy   macro avg  weighted avg\n",
      "precision    0.834135    0.820388  0.829582    0.827261      0.828875\n",
      "recall       0.903646    0.710084  0.829582    0.806865      0.829582\n",
      "f1-score     0.867500    0.761261  0.829582    0.814381      0.826849\n",
      "support    384.000000  238.000000  0.829582  622.000000    622.000000\n"
     ]
    }
   ],
   "source": [
    "# make a loop\n",
    "for i in range(1, 11):\n",
    "    \n",
    "    trees = DecisionTreeClassifier(max_depth = i, random_state = seed, min_samples_leaf = i)\n",
    "    \n",
    "    trees = trees.fit(X_train, y_train)\n",
    "    \n",
    "    y_preds = trees.predict(X_train)\n",
    "    \n",
    "    report = classification_report(y_train, y_preds, output_dict = True)\n",
    "    \n",
    "    \n",
    "    print(' ')\n",
    "    print(f'Tree with minimum samples leaf of {i}.')\n",
    "    print(' ')\n",
    "    print(pd.DataFrame(report))"
   ]
  },
  {
   "cell_type": "code",
   "execution_count": null,
   "id": "3aa76781",
   "metadata": {},
   "outputs": [],
   "source": []
  },
  {
   "cell_type": "code",
   "execution_count": null,
   "id": "87837f17",
   "metadata": {},
   "outputs": [],
   "source": []
  },
  {
   "cell_type": "code",
   "execution_count": null,
   "id": "6a702d65",
   "metadata": {},
   "outputs": [],
   "source": []
  },
  {
   "cell_type": "markdown",
   "id": "8a69838d",
   "metadata": {},
   "source": [
    "\n",
    "###   4 /  Run through steps increasing your min_samples_leaf and decreasing your max_depth.\n",
    "\n",
    "   \n"
   ]
  },
  {
   "cell_type": "code",
   "execution_count": 44,
   "id": "d67a4479",
   "metadata": {},
   "outputs": [],
   "source": [
    "tita_rf15 = RandomForestClassifier(max_depth = 6,         # RFC will have 6 nodes\n",
    "                                 random_state = seed, \n",
    "                                 min_samples_leaf = 15, # Min number of samples at a leaf node : 15\n",
    "                                 max_samples = 0.5)\n",
    "                                            # 50pc of all observations will be placed into each random sample\n"
   ]
  },
  {
   "cell_type": "code",
   "execution_count": 45,
   "id": "aafad7e7",
   "metadata": {},
   "outputs": [
    {
     "data": {
      "text/html": [
       "<style>#sk-container-id-2 {color: black;background-color: white;}#sk-container-id-2 pre{padding: 0;}#sk-container-id-2 div.sk-toggleable {background-color: white;}#sk-container-id-2 label.sk-toggleable__label {cursor: pointer;display: block;width: 100%;margin-bottom: 0;padding: 0.3em;box-sizing: border-box;text-align: center;}#sk-container-id-2 label.sk-toggleable__label-arrow:before {content: \"▸\";float: left;margin-right: 0.25em;color: #696969;}#sk-container-id-2 label.sk-toggleable__label-arrow:hover:before {color: black;}#sk-container-id-2 div.sk-estimator:hover label.sk-toggleable__label-arrow:before {color: black;}#sk-container-id-2 div.sk-toggleable__content {max-height: 0;max-width: 0;overflow: hidden;text-align: left;background-color: #f0f8ff;}#sk-container-id-2 div.sk-toggleable__content pre {margin: 0.2em;color: black;border-radius: 0.25em;background-color: #f0f8ff;}#sk-container-id-2 input.sk-toggleable__control:checked~div.sk-toggleable__content {max-height: 200px;max-width: 100%;overflow: auto;}#sk-container-id-2 input.sk-toggleable__control:checked~label.sk-toggleable__label-arrow:before {content: \"▾\";}#sk-container-id-2 div.sk-estimator input.sk-toggleable__control:checked~label.sk-toggleable__label {background-color: #d4ebff;}#sk-container-id-2 div.sk-label input.sk-toggleable__control:checked~label.sk-toggleable__label {background-color: #d4ebff;}#sk-container-id-2 input.sk-hidden--visually {border: 0;clip: rect(1px 1px 1px 1px);clip: rect(1px, 1px, 1px, 1px);height: 1px;margin: -1px;overflow: hidden;padding: 0;position: absolute;width: 1px;}#sk-container-id-2 div.sk-estimator {font-family: monospace;background-color: #f0f8ff;border: 1px dotted black;border-radius: 0.25em;box-sizing: border-box;margin-bottom: 0.5em;}#sk-container-id-2 div.sk-estimator:hover {background-color: #d4ebff;}#sk-container-id-2 div.sk-parallel-item::after {content: \"\";width: 100%;border-bottom: 1px solid gray;flex-grow: 1;}#sk-container-id-2 div.sk-label:hover label.sk-toggleable__label {background-color: #d4ebff;}#sk-container-id-2 div.sk-serial::before {content: \"\";position: absolute;border-left: 1px solid gray;box-sizing: border-box;top: 0;bottom: 0;left: 50%;z-index: 0;}#sk-container-id-2 div.sk-serial {display: flex;flex-direction: column;align-items: center;background-color: white;padding-right: 0.2em;padding-left: 0.2em;position: relative;}#sk-container-id-2 div.sk-item {position: relative;z-index: 1;}#sk-container-id-2 div.sk-parallel {display: flex;align-items: stretch;justify-content: center;background-color: white;position: relative;}#sk-container-id-2 div.sk-item::before, #sk-container-id-2 div.sk-parallel-item::before {content: \"\";position: absolute;border-left: 1px solid gray;box-sizing: border-box;top: 0;bottom: 0;left: 50%;z-index: -1;}#sk-container-id-2 div.sk-parallel-item {display: flex;flex-direction: column;z-index: 1;position: relative;background-color: white;}#sk-container-id-2 div.sk-parallel-item:first-child::after {align-self: flex-end;width: 50%;}#sk-container-id-2 div.sk-parallel-item:last-child::after {align-self: flex-start;width: 50%;}#sk-container-id-2 div.sk-parallel-item:only-child::after {width: 0;}#sk-container-id-2 div.sk-dashed-wrapped {border: 1px dashed gray;margin: 0 0.4em 0.5em 0.4em;box-sizing: border-box;padding-bottom: 0.4em;background-color: white;}#sk-container-id-2 div.sk-label label {font-family: monospace;font-weight: bold;display: inline-block;line-height: 1.2em;}#sk-container-id-2 div.sk-label-container {text-align: center;}#sk-container-id-2 div.sk-container {/* jupyter's `normalize.less` sets `[hidden] { display: none; }` but bootstrap.min.css set `[hidden] { display: none !important; }` so we also need the `!important` here to be able to override the default hidden behavior on the sphinx rendered scikit-learn.org. See: https://github.com/scikit-learn/scikit-learn/issues/21755 */display: inline-block !important;position: relative;}#sk-container-id-2 div.sk-text-repr-fallback {display: none;}</style><div id=\"sk-container-id-2\" class=\"sk-top-container\"><div class=\"sk-text-repr-fallback\"><pre>RandomForestClassifier(max_depth=6, max_samples=0.5, min_samples_leaf=15,\n",
       "                       random_state=23)</pre><b>In a Jupyter environment, please rerun this cell to show the HTML representation or trust the notebook. <br />On GitHub, the HTML representation is unable to render, please try loading this page with nbviewer.org.</b></div><div class=\"sk-container\" hidden><div class=\"sk-item\"><div class=\"sk-estimator sk-toggleable\"><input class=\"sk-toggleable__control sk-hidden--visually\" id=\"sk-estimator-id-2\" type=\"checkbox\" checked><label for=\"sk-estimator-id-2\" class=\"sk-toggleable__label sk-toggleable__label-arrow\">RandomForestClassifier</label><div class=\"sk-toggleable__content\"><pre>RandomForestClassifier(max_depth=6, max_samples=0.5, min_samples_leaf=15,\n",
       "                       random_state=23)</pre></div></div></div></div></div>"
      ],
      "text/plain": [
       "RandomForestClassifier(max_depth=6, max_samples=0.5, min_samples_leaf=15,\n",
       "                       random_state=23)"
      ]
     },
     "execution_count": 45,
     "metadata": {},
     "output_type": "execute_result"
    }
   ],
   "source": [
    "tita_rf15.fit(X_train, y_train)\n",
    "\n",
    "# training the random forest on the data"
   ]
  },
  {
   "cell_type": "code",
   "execution_count": 46,
   "id": "f7727372",
   "metadata": {},
   "outputs": [
    {
     "data": {
      "text/plain": [
       "0.8118971061093248"
      ]
     },
     "execution_count": 46,
     "metadata": {},
     "output_type": "execute_result"
    }
   ],
   "source": [
    "# 'tita_rf.score' tells us how accurate our model is. \n",
    "\n",
    "tita_accuracy15 = tita_rf15.score(X_train, y_train)\n",
    "tita_accuracy15\n",
    "\n",
    "# scoring the accuracy of the training set : 81.19pc accuracy\n",
    "# the X_train data is compared against y_train "
   ]
  },
  {
   "cell_type": "code",
   "execution_count": 47,
   "id": "d931e3b7",
   "metadata": {},
   "outputs": [
    {
     "data": {
      "text/html": [
       "<div>\n",
       "<style scoped>\n",
       "    .dataframe tbody tr th:only-of-type {\n",
       "        vertical-align: middle;\n",
       "    }\n",
       "\n",
       "    .dataframe tbody tr th {\n",
       "        vertical-align: top;\n",
       "    }\n",
       "\n",
       "    .dataframe thead th {\n",
       "        text-align: right;\n",
       "    }\n",
       "</style>\n",
       "<table border=\"1\" class=\"dataframe\">\n",
       "  <thead>\n",
       "    <tr style=\"text-align: right;\">\n",
       "      <th></th>\n",
       "      <th>feature</th>\n",
       "      <th>importance</th>\n",
       "    </tr>\n",
       "  </thead>\n",
       "  <tbody>\n",
       "    <tr>\n",
       "      <th>8</th>\n",
       "      <td>sex_male</td>\n",
       "      <td>0.467667</td>\n",
       "    </tr>\n",
       "    <tr>\n",
       "      <th>0</th>\n",
       "      <td>pclass</td>\n",
       "      <td>0.210906</td>\n",
       "    </tr>\n",
       "    <tr>\n",
       "      <th>3</th>\n",
       "      <td>fare</td>\n",
       "      <td>0.205339</td>\n",
       "    </tr>\n",
       "    <tr>\n",
       "      <th>7</th>\n",
       "      <td>embark_town_Southampton</td>\n",
       "      <td>0.037666</td>\n",
       "    </tr>\n",
       "    <tr>\n",
       "      <th>4</th>\n",
       "      <td>alone</td>\n",
       "      <td>0.037147</td>\n",
       "    </tr>\n",
       "    <tr>\n",
       "      <th>1</th>\n",
       "      <td>sibsp</td>\n",
       "      <td>0.020696</td>\n",
       "    </tr>\n",
       "    <tr>\n",
       "      <th>2</th>\n",
       "      <td>parch</td>\n",
       "      <td>0.015038</td>\n",
       "    </tr>\n",
       "    <tr>\n",
       "      <th>6</th>\n",
       "      <td>embark_town_Queenstown</td>\n",
       "      <td>0.005540</td>\n",
       "    </tr>\n",
       "    <tr>\n",
       "      <th>5</th>\n",
       "      <td>survival_baseline</td>\n",
       "      <td>0.000000</td>\n",
       "    </tr>\n",
       "  </tbody>\n",
       "</table>\n",
       "</div>"
      ],
      "text/plain": [
       "                   feature  importance\n",
       "8                 sex_male    0.467667\n",
       "0                   pclass    0.210906\n",
       "3                     fare    0.205339\n",
       "7  embark_town_Southampton    0.037666\n",
       "4                    alone    0.037147\n",
       "1                    sibsp    0.020696\n",
       "2                    parch    0.015038\n",
       "6   embark_town_Queenstown    0.005540\n",
       "5        survival_baseline    0.000000"
      ]
     },
     "execution_count": 47,
     "metadata": {},
     "output_type": "execute_result"
    }
   ],
   "source": [
    "importance_df15 = pd.DataFrame({'feature': X_train.columns.tolist(),  \n",
    "                     # naming X_train features, sending them to a list\n",
    "                              \n",
    "                             'importance': tita_rf15.feature_importances_}) \n",
    "                     # pairing the order of features in X_train with the corresponding feature importance\n",
    "\n",
    "    \n",
    "    \n",
    "importance_df15.sort_values('importance', ascending = False)\n",
    "\n",
    "# This would indicate that 'sex_male', followed by passenger class and fare, still \n",
    "# have the highest impact on survival, and by a significant amount, though the order has changed"
   ]
  },
  {
   "cell_type": "code",
   "execution_count": 48,
   "id": "c8bc3f70",
   "metadata": {},
   "outputs": [
    {
     "data": {
      "text/plain": [
       "0.7894736842105263"
      ]
     },
     "execution_count": 48,
     "metadata": {},
     "output_type": "execute_result"
    }
   ],
   "source": [
    "tita_rf15.score(X_val, y_val)\n",
    "\n",
    "# scoring the accuracy of the validation dataset : 78.9pc accuracy"
   ]
  },
  {
   "cell_type": "code",
   "execution_count": 49,
   "id": "f803a76b",
   "metadata": {},
   "outputs": [
    {
     "data": {
      "text/plain": [
       "<sklearn.metrics._plot.confusion_matrix.ConfusionMatrixDisplay at 0x163b270d0>"
      ]
     },
     "execution_count": 49,
     "metadata": {},
     "output_type": "execute_result"
    },
    {
     "data": {
      "image/png": "[encoded data removed]",
      "text/plain": [
       "<Figure size 640x480 with 2 Axes>"
      ]
     },
     "metadata": {},
     "output_type": "display_data"
    }
   ],
   "source": [
    "## plotting the confusion matrix of tita_rf15\n",
    "\n",
    "plot_confusion_matrix(tita_rf15, X_train, y_train)\n",
    "\n",
    "# 'plot_confusion_matrix(prediction-model, X_train, y_train)'"
   ]
  },
  {
   "cell_type": "code",
   "execution_count": 50,
   "id": "685d6f7a",
   "metadata": {},
   "outputs": [],
   "source": [
    "# y predictions based on X_train\n",
    "\n",
    "y_preds15 = tita_rf15.predict(X_train)"
   ]
  },
  {
   "cell_type": "code",
   "execution_count": 51,
   "id": "4755a2ab",
   "metadata": {},
   "outputs": [
    {
     "data": {
      "text/plain": [
       "array([[354,  87],\n",
       "       [ 30, 151]])"
      ]
     },
     "execution_count": 51,
     "metadata": {},
     "output_type": "execute_result"
    }
   ],
   "source": [
    "# returning the confusion matrix as an array\n",
    "\n",
    "confusion_matrix(y_preds15, y_train)\n"
   ]
  },
  {
   "cell_type": "code",
   "execution_count": 59,
   "id": "99b1a806",
   "metadata": {},
   "outputs": [
    {
     "data": {
      "text/plain": [
       "(354, 30, 87, 151)"
      ]
     },
     "execution_count": 59,
     "metadata": {},
     "output_type": "execute_result"
    }
   ],
   "source": [
    "# assigning confusion matrix values to appropriate variables\n",
    "\n",
    "TN15, FP15, FN15, TP15 = confusion_matrix(y_train, y_preds15).ravel()\n",
    "TN15, FP15, FN15, TP15"
   ]
  },
  {
   "cell_type": "code",
   "execution_count": 65,
   "id": "fcc64501",
   "metadata": {},
   "outputs": [
    {
     "name": "stdout",
     "output_type": "stream",
     "text": [
      "              precision    recall  f1-score   support\n",
      "\n",
      "           0       0.80      0.92      0.86       384\n",
      "           1       0.83      0.63      0.72       238\n",
      "\n",
      "    accuracy                           0.81       622\n",
      "   macro avg       0.82      0.78      0.79       622\n",
      "weighted avg       0.81      0.81      0.81       622\n",
      "\n",
      "-.-.-.-.-.-\n",
      "The baseline accuracy for non-survival in all cases on the Titanic is 0.8119\n"
     ]
    }
   ],
   "source": [
    "print(classification_report(y_train, y_preds15))\n",
    "print('-.-.-.-.-.-')\n",
    "print((f'The baseline accuracy for non-survival in all cases on the Titanic is {round(tita_accuracy15, 4).mean()}'))"
   ]
  },
  {
   "cell_type": "code",
   "execution_count": 61,
   "id": "de64e6a3",
   "metadata": {},
   "outputs": [
    {
     "data": {
      "text/plain": [
       "0.8118971061093248"
      ]
     },
     "execution_count": 61,
     "metadata": {},
     "output_type": "execute_result"
    }
   ],
   "source": [
    "# Accuracy\n",
    "\n",
    "sklearn.metrics.accuracy_score(y_train, y_preds15)\n"
   ]
  },
  {
   "cell_type": "code",
   "execution_count": 62,
   "id": "e8d67ac0",
   "metadata": {},
   "outputs": [
    {
     "data": {
      "text/plain": [
       "array([0.921875  , 0.63445378])"
      ]
     },
     "execution_count": 62,
     "metadata": {},
     "output_type": "execute_result"
    }
   ],
   "source": [
    "# sensitivity / true positive rate / recall\n",
    "\n",
    "sklearn.metrics.recall_score(y_train, y_preds15, average = None)"
   ]
  },
  {
   "cell_type": "code",
   "execution_count": 60,
   "id": "2c550367",
   "metadata": {},
   "outputs": [
    {
     "data": {
      "text/plain": [
       "0.36554621848739494"
      ]
     },
     "execution_count": 60,
     "metadata": {},
     "output_type": "execute_result"
    }
   ],
   "source": [
    "# false negative rate\n",
    "\n",
    "FN15 / (TP15 + FN15)"
   ]
  },
  {
   "cell_type": "code",
   "execution_count": null,
   "id": "68485007",
   "metadata": {},
   "outputs": [],
   "source": [
    "# precision / PPV\n",
    "\n",
    "sklearn.metrics.precision_score(y_train, y_preds15, average = None)"
   ]
  },
  {
   "cell_type": "code",
   "execution_count": 63,
   "id": "663a43b7",
   "metadata": {},
   "outputs": [
    {
     "data": {
      "text/plain": [
       "(238,\n",
       " 384,\n",
       " 0    384\n",
       " 1    238\n",
       " Name: survived, dtype: int64)"
      ]
     },
     "execution_count": 63,
     "metadata": {},
     "output_type": "execute_result"
    }
   ],
   "source": [
    "# support\n",
    "\n",
    "support_pos15 = TP15 + FN15 ## positive cases\n",
    "support_neg15 = FP15 + TN15 ## negative cases\n",
    "\n",
    "support_pos15, support_neg15, y_train.value_counts()"
   ]
  },
  {
   "cell_type": "code",
   "execution_count": null,
   "id": "5fde2f8f",
   "metadata": {},
   "outputs": [],
   "source": [
    "# f1 score\n",
    "\n",
    "sklearn.metrics.f1_score(y_train, y_preds15, average = None)"
   ]
  },
  {
   "cell_type": "code",
   "execution_count": null,
   "id": "26a1368b",
   "metadata": {},
   "outputs": [],
   "source": [
    "# support\n",
    "\n",
    "sklearn.metrics.precision_recall_fscore_support(y_train, y_preds15, average = None)"
   ]
  },
  {
   "cell_type": "code",
   "execution_count": 64,
   "id": "aabb210e",
   "metadata": {},
   "outputs": [
    {
     "data": {
      "text/plain": [
       "0.8027210884353742"
      ]
     },
     "execution_count": 64,
     "metadata": {},
     "output_type": "execute_result"
    }
   ],
   "source": [
    "## NVP / negative predicted value\n",
    "\n",
    "TN15 / (TN15 + FN15)"
   ]
  },
  {
   "cell_type": "code",
   "execution_count": null,
   "id": "f5d74e3c",
   "metadata": {},
   "outputs": [],
   "source": []
  },
  {
   "cell_type": "code",
   "execution_count": null,
   "id": "d7a01510",
   "metadata": {},
   "outputs": [],
   "source": [
    "# make a loop\n",
    "for i in range(1, 11):\n",
    "    \n",
    "    trees15 = DecisionTreeClassifier(max_depth = i, random_state = seed, min_samples_leaf = 15)\n",
    "    \n",
    "    trees15 = trees15.fit(X_train, y_train)\n",
    "    \n",
    "    y_preds15 = trees15.predict(X_train)\n",
    "    \n",
    "    report15 = classification_report(y_train, y_preds15, output_dict = True)\n",
    "    \n",
    "    \n",
    "    print(' ')\n",
    "    print(f'Tree with minimum samples leaf of {i}.')\n",
    "    print(' ')\n",
    "    print(pd.DataFrame(report15))"
   ]
  },
  {
   "cell_type": "markdown",
   "id": "2a1fc453",
   "metadata": {},
   "source": [
    "### 5 /  What are the differences in the evaluation metrics ? \n",
    "### Which performs better on your in-sample data ? Why ?\n",
    "\n",
    "The model with 15 leafs has a much lower accuracy for prediciting survival (81.19pc vs 90.03pc for the original model).  \n",
    "\n",
    "The  in-sample / training data."
   ]
  },
  {
   "cell_type": "code",
   "execution_count": null,
   "id": "ed576b91",
   "metadata": {},
   "outputs": [],
   "source": []
  },
  {
   "cell_type": "code",
   "execution_count": null,
   "id": "59660254",
   "metadata": {},
   "outputs": [],
   "source": []
  },
  {
   "cell_type": "code",
   "execution_count": null,
   "id": "638efea8",
   "metadata": {},
   "outputs": [],
   "source": [
    "## A loop to compare out-of-sample with in-sample data\n",
    "\n",
    "metrics = []\n",
    "\n",
    "\n",
    "for i in range(1,max_depth):\n",
    "    \n",
    "    tree = DecisionTreeClassifier(max_depth = i, random_state = 23) ### make\n",
    "    \n",
    "    tree = tree.fit(X_train, y_train)  ## fit\n",
    "    \n",
    "    in_sample_accuracy = tree.score(X_train, y_train)\n",
    "        # in-sample (train), out-of-sample (validate comparison ; could also be the 'test data')\n",
    "        \n",
    "    out_of_sample_accuracy = tree.score(X_val, y_val)\n",
    "    \n",
    "    output = { 'max_depth' : i, \n",
    "              \"train_accuracy\" : in_sample_accuracy, \n",
    "              \"validate_accuracy\" : out_of_sample_accuracy}\n",
    "    \n",
    "    metrics.append(output)"
   ]
  },
  {
   "cell_type": "code",
   "execution_count": null,
   "id": "dbe6bb7f",
   "metadata": {},
   "outputs": [],
   "source": [
    "# turn metrics into a df\n",
    "\n",
    "df = pd.DataFrame(metrics)\n",
    "df['difference'] = df.train_accuracy - df.validate_accuracy \n",
    "\n",
    "df\n",
    "# compute diff btwn train accuracy and validation accuracy"
   ]
  },
  {
   "cell_type": "markdown",
   "id": "c3cc6c55",
   "metadata": {},
   "source": [
    "After making a few models, which one has the best performance (or closest metrics) on both train and validate?\n"
   ]
  }
 ],
 "metadata": {
  "kernelspec": {
   "display_name": "Python 3 (ipykernel)",
   "language": "python",
   "name": "python3"
  },
  "language_info": {
   "codemirror_mode": {
    "name": "ipython",
    "version": 3
   },
   "file_extension": ".py",
   "mimetype": "text/x-python",
   "name": "python",
   "nbconvert_exporter": "python",
   "pygments_lexer": "ipython3",
   "version": "3.9.13"
  }
 },
 "nbformat": 4,
 "nbformat_minor": 5
}
