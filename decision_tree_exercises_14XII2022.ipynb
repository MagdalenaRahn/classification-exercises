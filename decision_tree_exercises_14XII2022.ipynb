{
 "cells": [
  {
   "cell_type": "markdown",
   "id": "6bba9b6f",
   "metadata": {},
   "source": [
    "### Decision Tree Exercises\n",
    "        https://ds.codeup.com/classification/decision-trees/  \n",
    "        Use Titanic"
   ]
  },
  {
   "cell_type": "code",
   "execution_count": 71,
   "id": "ce194669",
   "metadata": {},
   "outputs": [],
   "source": [
    "import numpy as np\n",
    "import pandas as pd\n",
    "import matplotlib.pyplot as plt\n",
    "import sklearn\n",
    "from sklearn.model_selection import train_test_split\n",
    "from sklearn.tree import DecisionTreeClassifier, plot_tree\n",
    "from sklearn.metrics import classification_report, confusion_matrix, plot_confusion_matrix\n",
    "\n",
    "\n",
    "import env\n",
    "import acquire\n",
    "\n",
    "\n",
    "import warnings\n",
    "warnings.filterwarnings(\"ignore\")"
   ]
  },
  {
   "cell_type": "markdown",
   "id": "de0eaef8",
   "metadata": {},
   "source": [
    "**1 / What is your baseline prediction? What is your baseline accuracy?**  \n",
    "Remember :   \n",
    "Your baseline prediction for a classification problem is predicting the most prevelant class in the training dataset (the mode).   \n",
    "When you make those predictions, what is your accuracy? This is your baseline accuracy."
   ]
  },
  {
   "cell_type": "markdown",
   "id": "9fdab5c3",
   "metadata": {},
   "source": [
    "**Baseline prediction :** More people die than survive. (Survived = 0 / False.)  \n",
    "**Baseline accuracy :** According to the baseline model, 61.8pc of people will die"
   ]
  },
  {
   "cell_type": "code",
   "execution_count": 2,
   "id": "6096a583",
   "metadata": {},
   "outputs": [
    {
     "data": {
      "text/html": [
       "<div>\n",
       "<style scoped>\n",
       "    .dataframe tbody tr th:only-of-type {\n",
       "        vertical-align: middle;\n",
       "    }\n",
       "\n",
       "    .dataframe tbody tr th {\n",
       "        vertical-align: top;\n",
       "    }\n",
       "\n",
       "    .dataframe thead th {\n",
       "        text-align: right;\n",
       "    }\n",
       "</style>\n",
       "<table border=\"1\" class=\"dataframe\">\n",
       "  <thead>\n",
       "    <tr style=\"text-align: right;\">\n",
       "      <th></th>\n",
       "      <th>Unnamed: 0</th>\n",
       "      <th>passenger_id</th>\n",
       "      <th>survived</th>\n",
       "      <th>pclass</th>\n",
       "      <th>sex</th>\n",
       "      <th>age</th>\n",
       "      <th>sibsp</th>\n",
       "      <th>parch</th>\n",
       "      <th>fare</th>\n",
       "      <th>embarked</th>\n",
       "      <th>class</th>\n",
       "      <th>deck</th>\n",
       "      <th>embark_town</th>\n",
       "      <th>alone</th>\n",
       "    </tr>\n",
       "  </thead>\n",
       "  <tbody>\n",
       "    <tr>\n",
       "      <th>0</th>\n",
       "      <td>0</td>\n",
       "      <td>0</td>\n",
       "      <td>0</td>\n",
       "      <td>3</td>\n",
       "      <td>male</td>\n",
       "      <td>22.0</td>\n",
       "      <td>1</td>\n",
       "      <td>0</td>\n",
       "      <td>7.2500</td>\n",
       "      <td>S</td>\n",
       "      <td>Third</td>\n",
       "      <td>NaN</td>\n",
       "      <td>Southampton</td>\n",
       "      <td>0</td>\n",
       "    </tr>\n",
       "    <tr>\n",
       "      <th>1</th>\n",
       "      <td>1</td>\n",
       "      <td>1</td>\n",
       "      <td>1</td>\n",
       "      <td>1</td>\n",
       "      <td>female</td>\n",
       "      <td>38.0</td>\n",
       "      <td>1</td>\n",
       "      <td>0</td>\n",
       "      <td>71.2833</td>\n",
       "      <td>C</td>\n",
       "      <td>First</td>\n",
       "      <td>C</td>\n",
       "      <td>Cherbourg</td>\n",
       "      <td>0</td>\n",
       "    </tr>\n",
       "    <tr>\n",
       "      <th>2</th>\n",
       "      <td>2</td>\n",
       "      <td>2</td>\n",
       "      <td>1</td>\n",
       "      <td>3</td>\n",
       "      <td>female</td>\n",
       "      <td>26.0</td>\n",
       "      <td>0</td>\n",
       "      <td>0</td>\n",
       "      <td>7.9250</td>\n",
       "      <td>S</td>\n",
       "      <td>Third</td>\n",
       "      <td>NaN</td>\n",
       "      <td>Southampton</td>\n",
       "      <td>1</td>\n",
       "    </tr>\n",
       "    <tr>\n",
       "      <th>3</th>\n",
       "      <td>3</td>\n",
       "      <td>3</td>\n",
       "      <td>1</td>\n",
       "      <td>1</td>\n",
       "      <td>female</td>\n",
       "      <td>35.0</td>\n",
       "      <td>1</td>\n",
       "      <td>0</td>\n",
       "      <td>53.1000</td>\n",
       "      <td>S</td>\n",
       "      <td>First</td>\n",
       "      <td>C</td>\n",
       "      <td>Southampton</td>\n",
       "      <td>0</td>\n",
       "    </tr>\n",
       "    <tr>\n",
       "      <th>4</th>\n",
       "      <td>4</td>\n",
       "      <td>4</td>\n",
       "      <td>0</td>\n",
       "      <td>3</td>\n",
       "      <td>male</td>\n",
       "      <td>35.0</td>\n",
       "      <td>0</td>\n",
       "      <td>0</td>\n",
       "      <td>8.0500</td>\n",
       "      <td>S</td>\n",
       "      <td>Third</td>\n",
       "      <td>NaN</td>\n",
       "      <td>Southampton</td>\n",
       "      <td>1</td>\n",
       "    </tr>\n",
       "  </tbody>\n",
       "</table>\n",
       "</div>"
      ],
      "text/plain": [
       "   Unnamed: 0  passenger_id  survived  pclass     sex   age  sibsp  parch  \\\n",
       "0           0             0         0       3    male  22.0      1      0   \n",
       "1           1             1         1       1  female  38.0      1      0   \n",
       "2           2             2         1       3  female  26.0      0      0   \n",
       "3           3             3         1       1  female  35.0      1      0   \n",
       "4           4             4         0       3    male  35.0      0      0   \n",
       "\n",
       "      fare embarked  class deck  embark_town  alone  \n",
       "0   7.2500        S  Third  NaN  Southampton      0  \n",
       "1  71.2833        C  First    C    Cherbourg      0  \n",
       "2   7.9250        S  Third  NaN  Southampton      1  \n",
       "3  53.1000        S  First    C  Southampton      0  \n",
       "4   8.0500        S  Third  NaN  Southampton      1  "
      ]
     },
     "execution_count": 2,
     "metadata": {},
     "output_type": "execute_result"
    }
   ],
   "source": [
    "df = acquire.get_titanic_data('titanic_df')\n",
    "df.head()\n",
    "\n",
    "# alternate way to retrieve the data, using the function that I created in 'acquire'"
   ]
  },
  {
   "cell_type": "code",
   "execution_count": 3,
   "id": "a8962af1",
   "metadata": {},
   "outputs": [
    {
     "data": {
      "text/plain": [
       "0    549\n",
       "1    342\n",
       "Name: survived, dtype: int64"
      ]
     },
     "execution_count": 3,
     "metadata": {},
     "output_type": "execute_result"
    }
   ],
   "source": [
    "tati = pd.read_csv('titanic.csv')\n",
    "tati.survived.value_counts()\n",
    "\n",
    "# pulling dataframe from .CSV\n",
    "# doing .value_counts() to determine which will be baseline\n",
    "\n"
   ]
  },
  {
   "cell_type": "code",
   "execution_count": null,
   "id": "198be465",
   "metadata": {},
   "outputs": [],
   "source": []
  },
  {
   "cell_type": "code",
   "execution_count": 4,
   "id": "34b700f5",
   "metadata": {},
   "outputs": [
    {
     "data": {
      "text/plain": [
       "Index(['Unnamed: 0', 'passenger_id', 'survived', 'pclass', 'sex', 'age',\n",
       "       'sibsp', 'parch', 'fare', 'embarked', 'class', 'deck', 'embark_town',\n",
       "       'alone'],\n",
       "      dtype='object')"
      ]
     },
     "execution_count": 4,
     "metadata": {},
     "output_type": "execute_result"
    }
   ],
   "source": [
    "tati.columns"
   ]
  },
  {
   "cell_type": "code",
   "execution_count": 5,
   "id": "dc654b49",
   "metadata": {
    "scrolled": true
   },
   "outputs": [
    {
     "data": {
      "text/html": [
       "<div>\n",
       "<style scoped>\n",
       "    .dataframe tbody tr th:only-of-type {\n",
       "        vertical-align: middle;\n",
       "    }\n",
       "\n",
       "    .dataframe tbody tr th {\n",
       "        vertical-align: top;\n",
       "    }\n",
       "\n",
       "    .dataframe thead th {\n",
       "        text-align: right;\n",
       "    }\n",
       "</style>\n",
       "<table border=\"1\" class=\"dataframe\">\n",
       "  <thead>\n",
       "    <tr style=\"text-align: right;\">\n",
       "      <th></th>\n",
       "      <th>Unnamed: 0</th>\n",
       "      <th>passenger_id</th>\n",
       "      <th>survived</th>\n",
       "      <th>pclass</th>\n",
       "      <th>sex</th>\n",
       "      <th>age</th>\n",
       "      <th>sibsp</th>\n",
       "      <th>parch</th>\n",
       "      <th>fare</th>\n",
       "      <th>embarked</th>\n",
       "      <th>class</th>\n",
       "      <th>deck</th>\n",
       "      <th>embark_town</th>\n",
       "      <th>alone</th>\n",
       "    </tr>\n",
       "  </thead>\n",
       "  <tbody>\n",
       "    <tr>\n",
       "      <th>0</th>\n",
       "      <td>0</td>\n",
       "      <td>0</td>\n",
       "      <td>0</td>\n",
       "      <td>3</td>\n",
       "      <td>male</td>\n",
       "      <td>22.0</td>\n",
       "      <td>1</td>\n",
       "      <td>0</td>\n",
       "      <td>7.2500</td>\n",
       "      <td>S</td>\n",
       "      <td>Third</td>\n",
       "      <td>NaN</td>\n",
       "      <td>Southampton</td>\n",
       "      <td>0</td>\n",
       "    </tr>\n",
       "    <tr>\n",
       "      <th>1</th>\n",
       "      <td>1</td>\n",
       "      <td>1</td>\n",
       "      <td>1</td>\n",
       "      <td>1</td>\n",
       "      <td>female</td>\n",
       "      <td>38.0</td>\n",
       "      <td>1</td>\n",
       "      <td>0</td>\n",
       "      <td>71.2833</td>\n",
       "      <td>C</td>\n",
       "      <td>First</td>\n",
       "      <td>C</td>\n",
       "      <td>Cherbourg</td>\n",
       "      <td>0</td>\n",
       "    </tr>\n",
       "    <tr>\n",
       "      <th>2</th>\n",
       "      <td>2</td>\n",
       "      <td>2</td>\n",
       "      <td>1</td>\n",
       "      <td>3</td>\n",
       "      <td>female</td>\n",
       "      <td>26.0</td>\n",
       "      <td>0</td>\n",
       "      <td>0</td>\n",
       "      <td>7.9250</td>\n",
       "      <td>S</td>\n",
       "      <td>Third</td>\n",
       "      <td>NaN</td>\n",
       "      <td>Southampton</td>\n",
       "      <td>1</td>\n",
       "    </tr>\n",
       "    <tr>\n",
       "      <th>3</th>\n",
       "      <td>3</td>\n",
       "      <td>3</td>\n",
       "      <td>1</td>\n",
       "      <td>1</td>\n",
       "      <td>female</td>\n",
       "      <td>35.0</td>\n",
       "      <td>1</td>\n",
       "      <td>0</td>\n",
       "      <td>53.1000</td>\n",
       "      <td>S</td>\n",
       "      <td>First</td>\n",
       "      <td>C</td>\n",
       "      <td>Southampton</td>\n",
       "      <td>0</td>\n",
       "    </tr>\n",
       "    <tr>\n",
       "      <th>4</th>\n",
       "      <td>4</td>\n",
       "      <td>4</td>\n",
       "      <td>0</td>\n",
       "      <td>3</td>\n",
       "      <td>male</td>\n",
       "      <td>35.0</td>\n",
       "      <td>0</td>\n",
       "      <td>0</td>\n",
       "      <td>8.0500</td>\n",
       "      <td>S</td>\n",
       "      <td>Third</td>\n",
       "      <td>NaN</td>\n",
       "      <td>Southampton</td>\n",
       "      <td>1</td>\n",
       "    </tr>\n",
       "  </tbody>\n",
       "</table>\n",
       "</div>"
      ],
      "text/plain": [
       "   Unnamed: 0  passenger_id  survived  pclass     sex   age  sibsp  parch  \\\n",
       "0           0             0         0       3    male  22.0      1      0   \n",
       "1           1             1         1       1  female  38.0      1      0   \n",
       "2           2             2         1       3  female  26.0      0      0   \n",
       "3           3             3         1       1  female  35.0      1      0   \n",
       "4           4             4         0       3    male  35.0      0      0   \n",
       "\n",
       "      fare embarked  class deck  embark_town  alone  \n",
       "0   7.2500        S  Third  NaN  Southampton      0  \n",
       "1  71.2833        C  First    C    Cherbourg      0  \n",
       "2   7.9250        S  Third  NaN  Southampton      1  \n",
       "3  53.1000        S  First    C  Southampton      0  \n",
       "4   8.0500        S  Third  NaN  Southampton      1  "
      ]
     },
     "execution_count": 5,
     "metadata": {},
     "output_type": "execute_result"
    }
   ],
   "source": [
    "tati.head()"
   ]
  },
  {
   "cell_type": "code",
   "execution_count": 6,
   "id": "b50fb832",
   "metadata": {},
   "outputs": [],
   "source": [
    "to_drop = ['deck', 'Unnamed: 0', 'age', 'embarked', 'passenger_id']\n",
    "\n",
    "# indicating which unnecessary or superfluous columns to drop"
   ]
  },
  {
   "cell_type": "code",
   "execution_count": 7,
   "id": "06deedee",
   "metadata": {},
   "outputs": [],
   "source": [
    "tati.drop(columns = to_drop, inplace = True)\n",
    "\n",
    "# dropping unnecessary or superfluous columns"
   ]
  },
  {
   "cell_type": "code",
   "execution_count": 8,
   "id": "476f5563",
   "metadata": {},
   "outputs": [
    {
     "name": "stdout",
     "output_type": "stream",
     "text": [
      "<class 'pandas.core.frame.DataFrame'>\n",
      "Int64Index: 889 entries, 0 to 890\n",
      "Data columns (total 9 columns):\n",
      " #   Column       Non-Null Count  Dtype  \n",
      "---  ------       --------------  -----  \n",
      " 0   survived     889 non-null    int64  \n",
      " 1   pclass       889 non-null    int64  \n",
      " 2   sex          889 non-null    object \n",
      " 3   sibsp        889 non-null    int64  \n",
      " 4   parch        889 non-null    int64  \n",
      " 5   fare         889 non-null    float64\n",
      " 6   class        889 non-null    object \n",
      " 7   embark_town  889 non-null    object \n",
      " 8   alone        889 non-null    int64  \n",
      "dtypes: float64(1), int64(5), object(3)\n",
      "memory usage: 69.5+ KB\n"
     ]
    }
   ],
   "source": [
    "tati = tati.dropna()\n",
    "tati.info()"
   ]
  },
  {
   "cell_type": "code",
   "execution_count": null,
   "id": "2e5b4560",
   "metadata": {},
   "outputs": [],
   "source": []
  },
  {
   "cell_type": "code",
   "execution_count": 9,
   "id": "31ebd56d",
   "metadata": {},
   "outputs": [
    {
     "data": {
      "text/html": [
       "<div>\n",
       "<style scoped>\n",
       "    .dataframe tbody tr th:only-of-type {\n",
       "        vertical-align: middle;\n",
       "    }\n",
       "\n",
       "    .dataframe tbody tr th {\n",
       "        vertical-align: top;\n",
       "    }\n",
       "\n",
       "    .dataframe thead th {\n",
       "        text-align: right;\n",
       "    }\n",
       "</style>\n",
       "<table border=\"1\" class=\"dataframe\">\n",
       "  <thead>\n",
       "    <tr style=\"text-align: right;\">\n",
       "      <th></th>\n",
       "      <th>survived</th>\n",
       "      <th>pclass</th>\n",
       "      <th>sex</th>\n",
       "      <th>sibsp</th>\n",
       "      <th>parch</th>\n",
       "      <th>fare</th>\n",
       "      <th>class</th>\n",
       "      <th>embark_town</th>\n",
       "      <th>alone</th>\n",
       "    </tr>\n",
       "  </thead>\n",
       "  <tbody>\n",
       "    <tr>\n",
       "      <th>0</th>\n",
       "      <td>0</td>\n",
       "      <td>3</td>\n",
       "      <td>male</td>\n",
       "      <td>1</td>\n",
       "      <td>0</td>\n",
       "      <td>7.2500</td>\n",
       "      <td>Third</td>\n",
       "      <td>Southampton</td>\n",
       "      <td>0</td>\n",
       "    </tr>\n",
       "    <tr>\n",
       "      <th>1</th>\n",
       "      <td>1</td>\n",
       "      <td>1</td>\n",
       "      <td>female</td>\n",
       "      <td>1</td>\n",
       "      <td>0</td>\n",
       "      <td>71.2833</td>\n",
       "      <td>First</td>\n",
       "      <td>Cherbourg</td>\n",
       "      <td>0</td>\n",
       "    </tr>\n",
       "    <tr>\n",
       "      <th>2</th>\n",
       "      <td>1</td>\n",
       "      <td>3</td>\n",
       "      <td>female</td>\n",
       "      <td>0</td>\n",
       "      <td>0</td>\n",
       "      <td>7.9250</td>\n",
       "      <td>Third</td>\n",
       "      <td>Southampton</td>\n",
       "      <td>1</td>\n",
       "    </tr>\n",
       "    <tr>\n",
       "      <th>3</th>\n",
       "      <td>1</td>\n",
       "      <td>1</td>\n",
       "      <td>female</td>\n",
       "      <td>1</td>\n",
       "      <td>0</td>\n",
       "      <td>53.1000</td>\n",
       "      <td>First</td>\n",
       "      <td>Southampton</td>\n",
       "      <td>0</td>\n",
       "    </tr>\n",
       "    <tr>\n",
       "      <th>4</th>\n",
       "      <td>0</td>\n",
       "      <td>3</td>\n",
       "      <td>male</td>\n",
       "      <td>0</td>\n",
       "      <td>0</td>\n",
       "      <td>8.0500</td>\n",
       "      <td>Third</td>\n",
       "      <td>Southampton</td>\n",
       "      <td>1</td>\n",
       "    </tr>\n",
       "  </tbody>\n",
       "</table>\n",
       "</div>"
      ],
      "text/plain": [
       "   survived  pclass     sex  sibsp  parch     fare  class  embark_town  alone\n",
       "0         0       3    male      1      0   7.2500  Third  Southampton      0\n",
       "1         1       1  female      1      0  71.2833  First    Cherbourg      0\n",
       "2         1       3  female      0      0   7.9250  Third  Southampton      1\n",
       "3         1       1  female      1      0  53.1000  First  Southampton      0\n",
       "4         0       3    male      0      0   8.0500  Third  Southampton      1"
      ]
     },
     "execution_count": 9,
     "metadata": {},
     "output_type": "execute_result"
    }
   ],
   "source": [
    "# baseline for survival is to die (ie, ['survived'] == '0').\n",
    "\n",
    "tati[tati.survived == 0]\n",
    "\n",
    "tati.head()"
   ]
  },
  {
   "cell_type": "code",
   "execution_count": 10,
   "id": "a27ecb5a",
   "metadata": {},
   "outputs": [
    {
     "data": {
      "text/html": [
       "<div>\n",
       "<style scoped>\n",
       "    .dataframe tbody tr th:only-of-type {\n",
       "        vertical-align: middle;\n",
       "    }\n",
       "\n",
       "    .dataframe tbody tr th {\n",
       "        vertical-align: top;\n",
       "    }\n",
       "\n",
       "    .dataframe thead th {\n",
       "        text-align: right;\n",
       "    }\n",
       "</style>\n",
       "<table border=\"1\" class=\"dataframe\">\n",
       "  <thead>\n",
       "    <tr style=\"text-align: right;\">\n",
       "      <th></th>\n",
       "      <th>survived</th>\n",
       "      <th>pclass</th>\n",
       "      <th>sex</th>\n",
       "      <th>sibsp</th>\n",
       "      <th>parch</th>\n",
       "      <th>fare</th>\n",
       "      <th>class</th>\n",
       "      <th>embark_town</th>\n",
       "      <th>alone</th>\n",
       "      <th>survival_baseline</th>\n",
       "    </tr>\n",
       "  </thead>\n",
       "  <tbody>\n",
       "    <tr>\n",
       "      <th>0</th>\n",
       "      <td>0</td>\n",
       "      <td>3</td>\n",
       "      <td>male</td>\n",
       "      <td>1</td>\n",
       "      <td>0</td>\n",
       "      <td>7.2500</td>\n",
       "      <td>Third</td>\n",
       "      <td>Southampton</td>\n",
       "      <td>0</td>\n",
       "      <td>0</td>\n",
       "    </tr>\n",
       "    <tr>\n",
       "      <th>1</th>\n",
       "      <td>1</td>\n",
       "      <td>1</td>\n",
       "      <td>female</td>\n",
       "      <td>1</td>\n",
       "      <td>0</td>\n",
       "      <td>71.2833</td>\n",
       "      <td>First</td>\n",
       "      <td>Cherbourg</td>\n",
       "      <td>0</td>\n",
       "      <td>0</td>\n",
       "    </tr>\n",
       "    <tr>\n",
       "      <th>2</th>\n",
       "      <td>1</td>\n",
       "      <td>3</td>\n",
       "      <td>female</td>\n",
       "      <td>0</td>\n",
       "      <td>0</td>\n",
       "      <td>7.9250</td>\n",
       "      <td>Third</td>\n",
       "      <td>Southampton</td>\n",
       "      <td>1</td>\n",
       "      <td>0</td>\n",
       "    </tr>\n",
       "    <tr>\n",
       "      <th>3</th>\n",
       "      <td>1</td>\n",
       "      <td>1</td>\n",
       "      <td>female</td>\n",
       "      <td>1</td>\n",
       "      <td>0</td>\n",
       "      <td>53.1000</td>\n",
       "      <td>First</td>\n",
       "      <td>Southampton</td>\n",
       "      <td>0</td>\n",
       "      <td>0</td>\n",
       "    </tr>\n",
       "    <tr>\n",
       "      <th>4</th>\n",
       "      <td>0</td>\n",
       "      <td>3</td>\n",
       "      <td>male</td>\n",
       "      <td>0</td>\n",
       "      <td>0</td>\n",
       "      <td>8.0500</td>\n",
       "      <td>Third</td>\n",
       "      <td>Southampton</td>\n",
       "      <td>1</td>\n",
       "      <td>0</td>\n",
       "    </tr>\n",
       "  </tbody>\n",
       "</table>\n",
       "</div>"
      ],
      "text/plain": [
       "   survived  pclass     sex  sibsp  parch     fare  class  embark_town  alone  \\\n",
       "0         0       3    male      1      0   7.2500  Third  Southampton      0   \n",
       "1         1       1  female      1      0  71.2833  First    Cherbourg      0   \n",
       "2         1       3  female      0      0   7.9250  Third  Southampton      1   \n",
       "3         1       1  female      1      0  53.1000  First  Southampton      0   \n",
       "4         0       3    male      0      0   8.0500  Third  Southampton      1   \n",
       "\n",
       "   survival_baseline  \n",
       "0                  0  \n",
       "1                  0  \n",
       "2                  0  \n",
       "3                  0  \n",
       "4                  0  "
      ]
     },
     "execution_count": 10,
     "metadata": {},
     "output_type": "execute_result"
    }
   ],
   "source": [
    "# setting the baseline of 'survived' as 0, indicating that death is more common than survival.\n",
    "\n",
    "tati['survival_baseline'] = 0\n",
    "tati.head()\n"
   ]
  },
  {
   "cell_type": "code",
   "execution_count": 11,
   "id": "45e280f7",
   "metadata": {},
   "outputs": [
    {
     "data": {
      "text/plain": [
       "0.6175478065241845"
      ]
     },
     "execution_count": 11,
     "metadata": {},
     "output_type": "execute_result"
    }
   ],
   "source": [
    "# Boolean baseline (T = 1, F = 0)\n",
    "\n",
    "(tati['survival_baseline'] == tati['survived']).mean()\n",
    "\n",
    "# baseline 61.8pc for 'will die'\n"
   ]
  },
  {
   "cell_type": "code",
   "execution_count": null,
   "id": "942f09f3",
   "metadata": {},
   "outputs": [],
   "source": []
  },
  {
   "cell_type": "markdown",
   "id": "2cdd3a6f",
   "metadata": {},
   "source": [
    "**2 / Fit the decision tree classifier to your training sample and transform. (I.e, make predictions on the training sample.)**"
   ]
  },
  {
   "cell_type": "code",
   "execution_count": 12,
   "id": "0a1c5abf",
   "metadata": {},
   "outputs": [],
   "source": [
    "tati.drop(columns = 'class', inplace = True)\n",
    "\n",
    "# dropping an additional column"
   ]
  },
  {
   "cell_type": "code",
   "execution_count": 13,
   "id": "5c102309",
   "metadata": {},
   "outputs": [
    {
     "data": {
      "text/html": [
       "<div>\n",
       "<style scoped>\n",
       "    .dataframe tbody tr th:only-of-type {\n",
       "        vertical-align: middle;\n",
       "    }\n",
       "\n",
       "    .dataframe tbody tr th {\n",
       "        vertical-align: top;\n",
       "    }\n",
       "\n",
       "    .dataframe thead th {\n",
       "        text-align: right;\n",
       "    }\n",
       "</style>\n",
       "<table border=\"1\" class=\"dataframe\">\n",
       "  <thead>\n",
       "    <tr style=\"text-align: right;\">\n",
       "      <th></th>\n",
       "      <th>embark_town_Queenstown</th>\n",
       "      <th>embark_town_Southampton</th>\n",
       "      <th>sex_male</th>\n",
       "    </tr>\n",
       "  </thead>\n",
       "  <tbody>\n",
       "    <tr>\n",
       "      <th>0</th>\n",
       "      <td>0</td>\n",
       "      <td>1</td>\n",
       "      <td>1</td>\n",
       "    </tr>\n",
       "    <tr>\n",
       "      <th>1</th>\n",
       "      <td>0</td>\n",
       "      <td>0</td>\n",
       "      <td>0</td>\n",
       "    </tr>\n",
       "    <tr>\n",
       "      <th>2</th>\n",
       "      <td>0</td>\n",
       "      <td>1</td>\n",
       "      <td>0</td>\n",
       "    </tr>\n",
       "    <tr>\n",
       "      <th>3</th>\n",
       "      <td>0</td>\n",
       "      <td>1</td>\n",
       "      <td>0</td>\n",
       "    </tr>\n",
       "    <tr>\n",
       "      <th>4</th>\n",
       "      <td>0</td>\n",
       "      <td>1</td>\n",
       "      <td>1</td>\n",
       "    </tr>\n",
       "  </tbody>\n",
       "</table>\n",
       "</div>"
      ],
      "text/plain": [
       "   embark_town_Queenstown  embark_town_Southampton  sex_male\n",
       "0                       0                        1         1\n",
       "1                       0                        0         0\n",
       "2                       0                        1         0\n",
       "3                       0                        1         0\n",
       "4                       0                        1         1"
      ]
     },
     "execution_count": 13,
     "metadata": {},
     "output_type": "execute_result"
    }
   ],
   "source": [
    "# creating dummies in order to help machine learning\n",
    "\n",
    "tatdum = pd.get_dummies(tati[['embark_town', 'sex']], drop_first = True)\n",
    "\n",
    "tatdum.head()"
   ]
  },
  {
   "cell_type": "code",
   "execution_count": 14,
   "id": "15c723d1",
   "metadata": {},
   "outputs": [
    {
     "data": {
      "text/html": [
       "<div>\n",
       "<style scoped>\n",
       "    .dataframe tbody tr th:only-of-type {\n",
       "        vertical-align: middle;\n",
       "    }\n",
       "\n",
       "    .dataframe tbody tr th {\n",
       "        vertical-align: top;\n",
       "    }\n",
       "\n",
       "    .dataframe thead th {\n",
       "        text-align: right;\n",
       "    }\n",
       "</style>\n",
       "<table border=\"1\" class=\"dataframe\">\n",
       "  <thead>\n",
       "    <tr style=\"text-align: right;\">\n",
       "      <th></th>\n",
       "      <th>survived</th>\n",
       "      <th>pclass</th>\n",
       "      <th>sex</th>\n",
       "      <th>sibsp</th>\n",
       "      <th>parch</th>\n",
       "      <th>fare</th>\n",
       "      <th>embark_town</th>\n",
       "      <th>alone</th>\n",
       "      <th>survival_baseline</th>\n",
       "      <th>embark_town_Queenstown</th>\n",
       "      <th>embark_town_Southampton</th>\n",
       "      <th>sex_male</th>\n",
       "    </tr>\n",
       "  </thead>\n",
       "  <tbody>\n",
       "    <tr>\n",
       "      <th>0</th>\n",
       "      <td>0</td>\n",
       "      <td>3</td>\n",
       "      <td>male</td>\n",
       "      <td>1</td>\n",
       "      <td>0</td>\n",
       "      <td>7.2500</td>\n",
       "      <td>Southampton</td>\n",
       "      <td>0</td>\n",
       "      <td>0</td>\n",
       "      <td>0</td>\n",
       "      <td>1</td>\n",
       "      <td>1</td>\n",
       "    </tr>\n",
       "    <tr>\n",
       "      <th>1</th>\n",
       "      <td>1</td>\n",
       "      <td>1</td>\n",
       "      <td>female</td>\n",
       "      <td>1</td>\n",
       "      <td>0</td>\n",
       "      <td>71.2833</td>\n",
       "      <td>Cherbourg</td>\n",
       "      <td>0</td>\n",
       "      <td>0</td>\n",
       "      <td>0</td>\n",
       "      <td>0</td>\n",
       "      <td>0</td>\n",
       "    </tr>\n",
       "    <tr>\n",
       "      <th>2</th>\n",
       "      <td>1</td>\n",
       "      <td>3</td>\n",
       "      <td>female</td>\n",
       "      <td>0</td>\n",
       "      <td>0</td>\n",
       "      <td>7.9250</td>\n",
       "      <td>Southampton</td>\n",
       "      <td>1</td>\n",
       "      <td>0</td>\n",
       "      <td>0</td>\n",
       "      <td>1</td>\n",
       "      <td>0</td>\n",
       "    </tr>\n",
       "    <tr>\n",
       "      <th>3</th>\n",
       "      <td>1</td>\n",
       "      <td>1</td>\n",
       "      <td>female</td>\n",
       "      <td>1</td>\n",
       "      <td>0</td>\n",
       "      <td>53.1000</td>\n",
       "      <td>Southampton</td>\n",
       "      <td>0</td>\n",
       "      <td>0</td>\n",
       "      <td>0</td>\n",
       "      <td>1</td>\n",
       "      <td>0</td>\n",
       "    </tr>\n",
       "    <tr>\n",
       "      <th>4</th>\n",
       "      <td>0</td>\n",
       "      <td>3</td>\n",
       "      <td>male</td>\n",
       "      <td>0</td>\n",
       "      <td>0</td>\n",
       "      <td>8.0500</td>\n",
       "      <td>Southampton</td>\n",
       "      <td>1</td>\n",
       "      <td>0</td>\n",
       "      <td>0</td>\n",
       "      <td>1</td>\n",
       "      <td>1</td>\n",
       "    </tr>\n",
       "  </tbody>\n",
       "</table>\n",
       "</div>"
      ],
      "text/plain": [
       "   survived  pclass     sex  sibsp  parch     fare  embark_town  alone  \\\n",
       "0         0       3    male      1      0   7.2500  Southampton      0   \n",
       "1         1       1  female      1      0  71.2833    Cherbourg      0   \n",
       "2         1       3  female      0      0   7.9250  Southampton      1   \n",
       "3         1       1  female      1      0  53.1000  Southampton      0   \n",
       "4         0       3    male      0      0   8.0500  Southampton      1   \n",
       "\n",
       "   survival_baseline  embark_town_Queenstown  embark_town_Southampton  \\\n",
       "0                  0                       0                        1   \n",
       "1                  0                       0                        0   \n",
       "2                  0                       0                        1   \n",
       "3                  0                       0                        1   \n",
       "4                  0                       0                        1   \n",
       "\n",
       "   sex_male  \n",
       "0         1  \n",
       "1         0  \n",
       "2         0  \n",
       "3         0  \n",
       "4         1  "
      ]
     },
     "execution_count": 14,
     "metadata": {},
     "output_type": "execute_result"
    }
   ],
   "source": [
    "# now that we have the DF and the dummies, use concatenation to join the two :\n",
    "\n",
    "pd.concat([tati, tatdum], axis = 1)\n",
    "\n",
    "# assigning it a variable for permanence\n",
    "\n",
    "taticon = pd.concat([tati, tatdum], axis = 1)\n",
    "taticon.head()\n"
   ]
  },
  {
   "cell_type": "code",
   "execution_count": null,
   "id": "731b5feb",
   "metadata": {},
   "outputs": [],
   "source": []
  },
  {
   "cell_type": "code",
   "execution_count": 15,
   "id": "1429fbe8",
   "metadata": {},
   "outputs": [],
   "source": [
    "# dropping columns for machine learning purposes (don't do this for exploration purposes)\n",
    "\n",
    "taticon = taticon.drop(columns = ['embark_town', 'sex'], axis = 1)\n"
   ]
  },
  {
   "cell_type": "code",
   "execution_count": 16,
   "id": "c5006743",
   "metadata": {},
   "outputs": [
    {
     "data": {
      "text/plain": [
       "Index(['survived', 'pclass', 'sibsp', 'parch', 'fare', 'alone',\n",
       "       'survival_baseline', 'embark_town_Queenstown',\n",
       "       'embark_town_Southampton', 'sex_male'],\n",
       "      dtype='object')"
      ]
     },
     "execution_count": 16,
     "metadata": {},
     "output_type": "execute_result"
    }
   ],
   "source": [
    "taticon.columns"
   ]
  },
  {
   "cell_type": "code",
   "execution_count": 17,
   "id": "8c8d3540",
   "metadata": {},
   "outputs": [],
   "source": [
    "# setting the 'survived' column to Boolean T / F\n",
    "taticon['survived'] = np.where(taticon['survived'] == True, '1', '0')"
   ]
  },
  {
   "cell_type": "code",
   "execution_count": 18,
   "id": "e60a2656",
   "metadata": {},
   "outputs": [
    {
     "data": {
      "text/plain": [
       "0    549\n",
       "1    340\n",
       "Name: survived, dtype: int64"
      ]
     },
     "execution_count": 18,
     "metadata": {},
     "output_type": "execute_result"
    }
   ],
   "source": [
    "taticon['survived']\n",
    "\n",
    "taticon.survived.value_counts()"
   ]
  },
  {
   "cell_type": "code",
   "execution_count": 19,
   "id": "f42d19e1",
   "metadata": {},
   "outputs": [],
   "source": [
    "\n",
    "def train_val_test(df, target, seed = 23):\n",
    "    \n",
    "    train, val_test = train_test_split(df, train_size = 0.7, random_state = seed, stratify = df[target])\n",
    "    \n",
    "    val, test = train_test_split(val_test, train_size = 0.5, random_state = seed, stratify = val_test[target])\n",
    "    \n",
    "    return train, val, test\n",
    "\n",
    "## function to train, validate, test data"
   ]
  },
  {
   "cell_type": "code",
   "execution_count": 20,
   "id": "f131c6b7",
   "metadata": {},
   "outputs": [
    {
     "data": {
      "text/plain": [
       "((622, 10), (133, 10), (134, 10))"
      ]
     },
     "execution_count": 20,
     "metadata": {},
     "output_type": "execute_result"
    }
   ],
   "source": [
    "train, val, test  = train_val_test(taticon, 'survived')\n",
    "\n",
    "train.shape, val.shape, test.shape\n",
    "\n",
    "# returning the data shapes / sizes to be trained, validated, tested"
   ]
  },
  {
   "cell_type": "code",
   "execution_count": 21,
   "id": "d3731ce8",
   "metadata": {},
   "outputs": [],
   "source": [
    "## split train, val, test into X_train, X_val, X_test (feature DF, exludes var 'transported') and y-train, etc\n",
    "# y_train is only our target\n",
    "# X_train is everything except for 'survived'\n",
    "\n",
    "X_train = train.drop(columns = ['survived'])\n",
    "y_train = train['survived']\n",
    "\n",
    "\n",
    "X_val = val.drop(columns = ['survived'])\n",
    "y_val = val['survived']\n",
    "\n",
    "\n",
    "X_test = test.drop(columns = ['survived'])\n",
    "y_test = test['survived']"
   ]
  },
  {
   "cell_type": "code",
   "execution_count": 22,
   "id": "477cf57f",
   "metadata": {},
   "outputs": [],
   "source": [
    "seed = 23\n",
    "\n",
    "clf = DecisionTreeClassifier(max_depth = 3, random_state = seed)\n",
    "\n",
    "# classifier = clf"
   ]
  },
  {
   "cell_type": "code",
   "execution_count": 23,
   "id": "944d9023",
   "metadata": {},
   "outputs": [
    {
     "data": {
      "text/html": [
       "<style>#sk-container-id-1 {color: black;background-color: white;}#sk-container-id-1 pre{padding: 0;}#sk-container-id-1 div.sk-toggleable {background-color: white;}#sk-container-id-1 label.sk-toggleable__label {cursor: pointer;display: block;width: 100%;margin-bottom: 0;padding: 0.3em;box-sizing: border-box;text-align: center;}#sk-container-id-1 label.sk-toggleable__label-arrow:before {content: \"▸\";float: left;margin-right: 0.25em;color: #696969;}#sk-container-id-1 label.sk-toggleable__label-arrow:hover:before {color: black;}#sk-container-id-1 div.sk-estimator:hover label.sk-toggleable__label-arrow:before {color: black;}#sk-container-id-1 div.sk-toggleable__content {max-height: 0;max-width: 0;overflow: hidden;text-align: left;background-color: #f0f8ff;}#sk-container-id-1 div.sk-toggleable__content pre {margin: 0.2em;color: black;border-radius: 0.25em;background-color: #f0f8ff;}#sk-container-id-1 input.sk-toggleable__control:checked~div.sk-toggleable__content {max-height: 200px;max-width: 100%;overflow: auto;}#sk-container-id-1 input.sk-toggleable__control:checked~label.sk-toggleable__label-arrow:before {content: \"▾\";}#sk-container-id-1 div.sk-estimator input.sk-toggleable__control:checked~label.sk-toggleable__label {background-color: #d4ebff;}#sk-container-id-1 div.sk-label input.sk-toggleable__control:checked~label.sk-toggleable__label {background-color: #d4ebff;}#sk-container-id-1 input.sk-hidden--visually {border: 0;clip: rect(1px 1px 1px 1px);clip: rect(1px, 1px, 1px, 1px);height: 1px;margin: -1px;overflow: hidden;padding: 0;position: absolute;width: 1px;}#sk-container-id-1 div.sk-estimator {font-family: monospace;background-color: #f0f8ff;border: 1px dotted black;border-radius: 0.25em;box-sizing: border-box;margin-bottom: 0.5em;}#sk-container-id-1 div.sk-estimator:hover {background-color: #d4ebff;}#sk-container-id-1 div.sk-parallel-item::after {content: \"\";width: 100%;border-bottom: 1px solid gray;flex-grow: 1;}#sk-container-id-1 div.sk-label:hover label.sk-toggleable__label {background-color: #d4ebff;}#sk-container-id-1 div.sk-serial::before {content: \"\";position: absolute;border-left: 1px solid gray;box-sizing: border-box;top: 0;bottom: 0;left: 50%;z-index: 0;}#sk-container-id-1 div.sk-serial {display: flex;flex-direction: column;align-items: center;background-color: white;padding-right: 0.2em;padding-left: 0.2em;position: relative;}#sk-container-id-1 div.sk-item {position: relative;z-index: 1;}#sk-container-id-1 div.sk-parallel {display: flex;align-items: stretch;justify-content: center;background-color: white;position: relative;}#sk-container-id-1 div.sk-item::before, #sk-container-id-1 div.sk-parallel-item::before {content: \"\";position: absolute;border-left: 1px solid gray;box-sizing: border-box;top: 0;bottom: 0;left: 50%;z-index: -1;}#sk-container-id-1 div.sk-parallel-item {display: flex;flex-direction: column;z-index: 1;position: relative;background-color: white;}#sk-container-id-1 div.sk-parallel-item:first-child::after {align-self: flex-end;width: 50%;}#sk-container-id-1 div.sk-parallel-item:last-child::after {align-self: flex-start;width: 50%;}#sk-container-id-1 div.sk-parallel-item:only-child::after {width: 0;}#sk-container-id-1 div.sk-dashed-wrapped {border: 1px dashed gray;margin: 0 0.4em 0.5em 0.4em;box-sizing: border-box;padding-bottom: 0.4em;background-color: white;}#sk-container-id-1 div.sk-label label {font-family: monospace;font-weight: bold;display: inline-block;line-height: 1.2em;}#sk-container-id-1 div.sk-label-container {text-align: center;}#sk-container-id-1 div.sk-container {/* jupyter's `normalize.less` sets `[hidden] { display: none; }` but bootstrap.min.css set `[hidden] { display: none !important; }` so we also need the `!important` here to be able to override the default hidden behavior on the sphinx rendered scikit-learn.org. See: https://github.com/scikit-learn/scikit-learn/issues/21755 */display: inline-block !important;position: relative;}#sk-container-id-1 div.sk-text-repr-fallback {display: none;}</style><div id=\"sk-container-id-1\" class=\"sk-top-container\"><div class=\"sk-text-repr-fallback\"><pre>DecisionTreeClassifier(max_depth=3, random_state=23)</pre><b>In a Jupyter environment, please rerun this cell to show the HTML representation or trust the notebook. <br />On GitHub, the HTML representation is unable to render, please try loading this page with nbviewer.org.</b></div><div class=\"sk-container\" hidden><div class=\"sk-item\"><div class=\"sk-estimator sk-toggleable\"><input class=\"sk-toggleable__control sk-hidden--visually\" id=\"sk-estimator-id-1\" type=\"checkbox\" checked><label for=\"sk-estimator-id-1\" class=\"sk-toggleable__label sk-toggleable__label-arrow\">DecisionTreeClassifier</label><div class=\"sk-toggleable__content\"><pre>DecisionTreeClassifier(max_depth=3, random_state=23)</pre></div></div></div></div></div>"
      ],
      "text/plain": [
       "DecisionTreeClassifier(max_depth=3, random_state=23)"
      ]
     },
     "execution_count": 23,
     "metadata": {},
     "output_type": "execute_result"
    }
   ],
   "source": [
    "clf = clf.fit(X_train, y_train)\n",
    "clf\n",
    "# fitting the model : \n",
    "    # it must know the features and the labels, in order to associate them with one another.\n",
    "    \n",
    "# with this step, the model has been trained."
   ]
  },
  {
   "cell_type": "code",
   "execution_count": 24,
   "id": "5f812afc",
   "metadata": {},
   "outputs": [],
   "source": [
    "# y_preds = vusual representation of survived columns\n",
    "\n",
    "y_preds = clf.predict(X_train)\n"
   ]
  },
  {
   "cell_type": "code",
   "execution_count": null,
   "id": "40247f0e",
   "metadata": {},
   "outputs": [],
   "source": []
  },
  {
   "cell_type": "code",
   "execution_count": 25,
   "id": "754ca5fc",
   "metadata": {},
   "outputs": [
    {
     "data": {
      "text/plain": [
       "0.8038585209003215"
      ]
     },
     "execution_count": 25,
     "metadata": {},
     "output_type": "execute_result"
    }
   ],
   "source": [
    "accuracy = clf.score(X_train, y_train)\n",
    "accuracy\n",
    "\n",
    "# accuracy = 'clf.score' tells us how accurate our model is.\n",
    "\n",
    "# Makes predictions on the X_train set against the y_train reality.\n",
    "\n",
    "# the X_train data is compared against y_train : 80.4pc accuracy\n",
    "\n",
    "# this is the prediction model score"
   ]
  },
  {
   "cell_type": "code",
   "execution_count": 26,
   "id": "70a79d24",
   "metadata": {},
   "outputs": [
    {
     "name": "stderr",
     "output_type": "stream",
     "text": [
      "/opt/homebrew/anaconda3/lib/python3.9/site-packages/sklearn/utils/deprecation.py:87: FutureWarning: Function plot_confusion_matrix is deprecated; Function `plot_confusion_matrix` is deprecated in 1.0 and will be removed in 1.2. Use one of the class methods: ConfusionMatrixDisplay.from_predictions or ConfusionMatrixDisplay.from_estimator.\n",
      "  warnings.warn(msg, category=FutureWarning)\n"
     ]
    },
    {
     "data": {
      "text/plain": [
       "<sklearn.metrics._plot.confusion_matrix.ConfusionMatrixDisplay at 0x1308884f0>"
      ]
     },
     "execution_count": 26,
     "metadata": {},
     "output_type": "execute_result"
    },
    {
     "data": {
      "image/png": "[encoded data removed]",
      "text/plain": [
       "<Figure size 640x480 with 2 Axes>"
      ]
     },
     "metadata": {},
     "output_type": "display_data"
    }
   ],
   "source": [
    "## plotting teh confusion matrix of clf\n",
    "\n",
    "plot_confusion_matrix(clf, X_train, y_train)\n",
    "\n",
    "# (prediction-model, X_train, y_train)"
   ]
  },
  {
   "cell_type": "code",
   "execution_count": 80,
   "id": "3ff797a1",
   "metadata": {},
   "outputs": [
    {
     "name": "stdout",
     "output_type": "stream",
     "text": [
      "              precision    recall  f1-score   support\n",
      "\n",
      "           0       0.92      0.98      0.95       384\n",
      "           1       0.96      0.86      0.91       238\n",
      "\n",
      "    accuracy                           0.93       622\n",
      "   macro avg       0.94      0.92      0.93       622\n",
      "weighted avg       0.93      0.93      0.93       622\n",
      "\n"
     ]
    }
   ],
   "source": [
    "print(classification_report(y_train, y_preds))"
   ]
  },
  {
   "cell_type": "code",
   "execution_count": 97,
   "id": "5d6b503d",
   "metadata": {},
   "outputs": [
    {
     "name": "stdout",
     "output_type": "stream",
     "text": [
      "Our baseline accuracy for non-survival in all cases on the Titanic is 0.8039.\n"
     ]
    }
   ],
   "source": [
    "print(f\"Our baseline accuracy for non-survival in all cases on the Titanic is {round(accuracy, 4)}.\")"
   ]
  },
  {
   "cell_type": "code",
   "execution_count": 78,
   "id": "52c9a45b",
   "metadata": {},
   "outputs": [
    {
     "data": {
      "text/plain": [
       "0    384\n",
       "1    238\n",
       "Name: survived, dtype: int64"
      ]
     },
     "execution_count": 78,
     "metadata": {},
     "output_type": "execute_result"
    }
   ],
   "source": [
    "y_train.value_counts()"
   ]
  },
  {
   "cell_type": "code",
   "execution_count": null,
   "id": "2fdce24b",
   "metadata": {},
   "outputs": [],
   "source": []
  },
  {
   "cell_type": "code",
   "execution_count": null,
   "id": "22ee9aa2",
   "metadata": {},
   "outputs": [],
   "source": []
  },
  {
   "cell_type": "code",
   "execution_count": null,
   "id": "ea7bbbbb",
   "metadata": {},
   "outputs": [],
   "source": []
  },
  {
   "cell_type": "code",
   "execution_count": null,
   "id": "a55e8eb6",
   "metadata": {},
   "outputs": [],
   "source": []
  },
  {
   "cell_type": "code",
   "execution_count": null,
   "id": "7b3807a1",
   "metadata": {},
   "outputs": [],
   "source": []
  },
  {
   "cell_type": "code",
   "execution_count": 30,
   "id": "980b5960",
   "metadata": {},
   "outputs": [
    {
     "data": {
      "image/png": "[encoded data removed]",
      "text/plain": [
       "<Figure size 2000x1000 with 1 Axes>"
      ]
     },
     "metadata": {},
     "output_type": "display_data"
    }
   ],
   "source": [
    "# plotting the decision tree\n",
    "\n",
    "plt.figure(figsize = (20, 10))\n",
    "\n",
    "plot_tree(clf, feature_names = X_train.columns, class_names = clf.classes_, rounded = True)\n",
    "\n",
    "plt.show()"
   ]
  },
  {
   "cell_type": "code",
   "execution_count": 31,
   "id": "44beb383",
   "metadata": {},
   "outputs": [],
   "source": [
    "## if an error msg for class_names, use : class_names = np.array(clf.classes_).astype('str').tolist()"
   ]
  },
  {
   "cell_type": "code",
   "execution_count": 32,
   "id": "4038c72d",
   "metadata": {},
   "outputs": [],
   "source": [
    "val_predictions = clf.predict(X_val)\n",
    "\n",
    "#VALIDATION STEP\n",
    "\n",
    "# predicted on X_Val, true values are on y_val"
   ]
  },
  {
   "cell_type": "code",
   "execution_count": 33,
   "id": "4059e293",
   "metadata": {},
   "outputs": [
    {
     "name": "stdout",
     "output_type": "stream",
     "text": [
      "              precision    recall  f1-score   support\n",
      "\n",
      "           0       0.81      0.84      0.83        82\n",
      "           1       0.73      0.69      0.71        51\n",
      "\n",
      "    accuracy                           0.78       133\n",
      "   macro avg       0.77      0.76      0.77       133\n",
      "weighted avg       0.78      0.78      0.78       133\n",
      "\n"
     ]
    }
   ],
   "source": [
    "## classification report :\n",
    "\n",
    "print(classification_report(y_val, val_predictions))"
   ]
  },
  {
   "cell_type": "code",
   "execution_count": null,
   "id": "a3549dcc",
   "metadata": {},
   "outputs": [],
   "source": []
  },
  {
   "cell_type": "markdown",
   "id": "436c6b74",
   "metadata": {},
   "source": [
    "### 3 / Valuate your in-sample results using the model score, confusion matrix, and classification report.\n"
   ]
  },
  {
   "cell_type": "markdown",
   "id": "59ee7559",
   "metadata": {},
   "source": [
    "**3.1 Model Score**"
   ]
  },
  {
   "cell_type": "code",
   "execution_count": 34,
   "id": "cc9de945",
   "metadata": {},
   "outputs": [
    {
     "data": {
      "text/plain": [
       "0.8283582089552238"
      ]
     },
     "execution_count": 34,
     "metadata": {},
     "output_type": "execute_result"
    }
   ],
   "source": [
    "# finding the model score\n",
    "\n",
    "clf.score(X_test, y_test)"
   ]
  },
  {
   "cell_type": "code",
   "execution_count": null,
   "id": "5ff23585",
   "metadata": {},
   "outputs": [],
   "source": []
  },
  {
   "cell_type": "markdown",
   "id": "afc26a51",
   "metadata": {},
   "source": [
    "**3.2 Confusion Matrix**"
   ]
  },
  {
   "cell_type": "code",
   "execution_count": 35,
   "id": "9b91a138",
   "metadata": {},
   "outputs": [],
   "source": [
    "# code necessary for the confusion matrix function to function\n",
    "\n",
    "y_preds = pd.DataFrame({\n",
    "    'y_act': y_train,\n",
    "    'baseline': 0,\n",
    "    'model_1': clf.predict(X_train)\n",
    "})"
   ]
  },
  {
   "cell_type": "code",
   "execution_count": 36,
   "id": "b16591ab",
   "metadata": {},
   "outputs": [
    {
     "data": {
      "text/html": [
       "<div>\n",
       "<style scoped>\n",
       "    .dataframe tbody tr th:only-of-type {\n",
       "        vertical-align: middle;\n",
       "    }\n",
       "\n",
       "    .dataframe tbody tr th {\n",
       "        vertical-align: top;\n",
       "    }\n",
       "\n",
       "    .dataframe thead th {\n",
       "        text-align: right;\n",
       "    }\n",
       "</style>\n",
       "<table border=\"1\" class=\"dataframe\">\n",
       "  <thead>\n",
       "    <tr style=\"text-align: right;\">\n",
       "      <th></th>\n",
       "      <th>y_act</th>\n",
       "      <th>baseline</th>\n",
       "      <th>model_1</th>\n",
       "    </tr>\n",
       "  </thead>\n",
       "  <tbody>\n",
       "    <tr>\n",
       "      <th>481</th>\n",
       "      <td>0</td>\n",
       "      <td>0</td>\n",
       "      <td>0</td>\n",
       "    </tr>\n",
       "    <tr>\n",
       "      <th>165</th>\n",
       "      <td>1</td>\n",
       "      <td>0</td>\n",
       "      <td>0</td>\n",
       "    </tr>\n",
       "    <tr>\n",
       "      <th>260</th>\n",
       "      <td>0</td>\n",
       "      <td>0</td>\n",
       "      <td>0</td>\n",
       "    </tr>\n",
       "    <tr>\n",
       "      <th>360</th>\n",
       "      <td>0</td>\n",
       "      <td>0</td>\n",
       "      <td>0</td>\n",
       "    </tr>\n",
       "    <tr>\n",
       "      <th>809</th>\n",
       "      <td>1</td>\n",
       "      <td>0</td>\n",
       "      <td>1</td>\n",
       "    </tr>\n",
       "    <tr>\n",
       "      <th>...</th>\n",
       "      <td>...</td>\n",
       "      <td>...</td>\n",
       "      <td>...</td>\n",
       "    </tr>\n",
       "    <tr>\n",
       "      <th>51</th>\n",
       "      <td>0</td>\n",
       "      <td>0</td>\n",
       "      <td>0</td>\n",
       "    </tr>\n",
       "    <tr>\n",
       "      <th>590</th>\n",
       "      <td>0</td>\n",
       "      <td>0</td>\n",
       "      <td>0</td>\n",
       "    </tr>\n",
       "    <tr>\n",
       "      <th>41</th>\n",
       "      <td>0</td>\n",
       "      <td>0</td>\n",
       "      <td>1</td>\n",
       "    </tr>\n",
       "    <tr>\n",
       "      <th>820</th>\n",
       "      <td>1</td>\n",
       "      <td>0</td>\n",
       "      <td>1</td>\n",
       "    </tr>\n",
       "    <tr>\n",
       "      <th>287</th>\n",
       "      <td>0</td>\n",
       "      <td>0</td>\n",
       "      <td>0</td>\n",
       "    </tr>\n",
       "  </tbody>\n",
       "</table>\n",
       "<p>622 rows × 3 columns</p>\n",
       "</div>"
      ],
      "text/plain": [
       "    y_act  baseline model_1\n",
       "481     0         0       0\n",
       "165     1         0       0\n",
       "260     0         0       0\n",
       "360     0         0       0\n",
       "809     1         0       1\n",
       "..    ...       ...     ...\n",
       "51      0         0       0\n",
       "590     0         0       0\n",
       "41      0         0       1\n",
       "820     1         0       1\n",
       "287     0         0       0\n",
       "\n",
       "[622 rows x 3 columns]"
      ]
     },
     "execution_count": 36,
     "metadata": {},
     "output_type": "execute_result"
    }
   ],
   "source": [
    "y_preds\n",
    "\n",
    "# visualising the y predictions"
   ]
  },
  {
   "cell_type": "code",
   "execution_count": null,
   "id": "de7baece",
   "metadata": {},
   "outputs": [],
   "source": []
  },
  {
   "cell_type": "code",
   "execution_count": 37,
   "id": "dedace72",
   "metadata": {},
   "outputs": [
    {
     "data": {
      "text/plain": [
       "array([[340,  44],\n",
       "       [ 78, 160]])"
      ]
     },
     "execution_count": 37,
     "metadata": {},
     "output_type": "execute_result"
    }
   ],
   "source": [
    "# returning the confusion matrix\n",
    "confusion_matrix(y_preds.y_act, y_preds.model_1)\n"
   ]
  },
  {
   "cell_type": "code",
   "execution_count": 38,
   "id": "add1288a",
   "metadata": {},
   "outputs": [
    {
     "data": {
      "text/plain": [
       "(340, 44, 78, 160)"
      ]
     },
     "execution_count": 38,
     "metadata": {},
     "output_type": "execute_result"
    }
   ],
   "source": [
    "# assigning confusion matrix values to appropriate variables\n",
    "\n",
    "TN, FP, FN, TP = confusion_matrix(y_preds.y_act, y_preds.model_1).ravel()\n",
    "TN, FP, FN, TP"
   ]
  },
  {
   "cell_type": "markdown",
   "id": "4128c59f",
   "metadata": {},
   "source": [
    "**3.3 Classification Report**"
   ]
  },
  {
   "cell_type": "code",
   "execution_count": 39,
   "id": "073ec836",
   "metadata": {},
   "outputs": [
    {
     "name": "stdout",
     "output_type": "stream",
     "text": [
      "              precision    recall  f1-score   support\n",
      "\n",
      "           0       0.81      0.84      0.83        82\n",
      "           1       0.73      0.69      0.71        51\n",
      "\n",
      "    accuracy                           0.78       133\n",
      "   macro avg       0.77      0.76      0.77       133\n",
      "weighted avg       0.78      0.78      0.78       133\n",
      "\n"
     ]
    }
   ],
   "source": [
    "print(classification_report(y_val, val_predictions))"
   ]
  },
  {
   "cell_type": "code",
   "execution_count": null,
   "id": "5a59e9d2",
   "metadata": {},
   "outputs": [],
   "source": []
  },
  {
   "cell_type": "markdown",
   "id": "fe73cac4",
   "metadata": {},
   "source": [
    "### 4 / Compute : Accuracy, true positive rate, false positive rate, true negative rate, false negative rate, precision, recall, f1-score and support."
   ]
  },
  {
   "cell_type": "markdown",
   "id": "95ae4372",
   "metadata": {},
   "source": [
    "Accuracy = (TP + TN) / (TP + FP + TN + FN)  \n",
    "Precision / PPV = TP / (TP + FP)  \n",
    "NVP / negative predicted value = TN / (TN + FN)  \n",
    "Specificity = TN / (FP + TN)  \n",
    "Recall / Sensitivity : TP / (TP + FN)  "
   ]
  },
  {
   "cell_type": "markdown",
   "id": "dbd66ef9",
   "metadata": {},
   "source": [
    "**Sensitivity, hit rate, recall, or true positive rate**  \n",
    "TPR = TP/(TP+FN)  \n",
    "**Specificity or true negative rate**  \n",
    "TNR = TN/(TN+FP)   \n",
    "**Precision or positive predictive value**  \n",
    "PPV = TP/(TP+FP)  \n",
    "**Negative predictive value**  \n",
    "NPV = TN/(TN+FN)  \n",
    "**Fall out or false positive rate**  \n",
    "FPR = FP/(FP+TN)  \n",
    "**False negative rate**  \n",
    "FNR = FN/(TP+FN)  \n",
    "**False discovery rate**  \n",
    "FDR = FP/(TP+FP)  \n",
    "**Overall accuracy**   \n",
    "ACC = (TP+TN)/(TP+FP+FN+TN)"
   ]
  },
  {
   "cell_type": "code",
   "execution_count": null,
   "id": "8b53a7b1",
   "metadata": {},
   "outputs": [],
   "source": []
  },
  {
   "cell_type": "code",
   "execution_count": 40,
   "id": "43beb110",
   "metadata": {},
   "outputs": [
    {
     "data": {
      "text/plain": [
       "0.8038585209003215"
      ]
     },
     "execution_count": 40,
     "metadata": {},
     "output_type": "execute_result"
    }
   ],
   "source": [
    "# Accuracy\n",
    "\n",
    "(TP + TN) / (TP + FP + TN + FN)"
   ]
  },
  {
   "cell_type": "code",
   "execution_count": 41,
   "id": "2e3b4238",
   "metadata": {},
   "outputs": [
    {
     "data": {
      "text/plain": [
       "0.8038585209003215"
      ]
     },
     "execution_count": 41,
     "metadata": {},
     "output_type": "execute_result"
    }
   ],
   "source": [
    "# Accuracy\n",
    "\n",
    "sklearn.metrics.accuracy_score(y_preds.y_act, y_preds.model_1)"
   ]
  },
  {
   "cell_type": "code",
   "execution_count": 42,
   "id": "e3292950",
   "metadata": {},
   "outputs": [
    {
     "data": {
      "text/plain": [
       "0.6722689075630253"
      ]
     },
     "execution_count": 42,
     "metadata": {},
     "output_type": "execute_result"
    }
   ],
   "source": [
    "# sensitivity / true positive rate / recall\n",
    "\n",
    "TPR = TP / (TP + FN) \n",
    "TPR"
   ]
  },
  {
   "cell_type": "code",
   "execution_count": 43,
   "id": "7b33b186",
   "metadata": {},
   "outputs": [
    {
     "data": {
      "text/plain": [
       "array([0.88541667, 0.67226891])"
      ]
     },
     "execution_count": 43,
     "metadata": {},
     "output_type": "execute_result"
    }
   ],
   "source": [
    "# sensitivity / true positive rate / recall\n",
    "\n",
    "sklearn.metrics.recall_score(y_preds.y_act, y_preds.model_1, average = None)"
   ]
  },
  {
   "cell_type": "code",
   "execution_count": 44,
   "id": "2ef3646c",
   "metadata": {},
   "outputs": [
    {
     "data": {
      "text/plain": [
       "0.3277310924369748"
      ]
     },
     "execution_count": 44,
     "metadata": {},
     "output_type": "execute_result"
    }
   ],
   "source": [
    "# false negative rate\n",
    "\n",
    "FN / (TP + FN)"
   ]
  },
  {
   "cell_type": "code",
   "execution_count": 45,
   "id": "55cb149f",
   "metadata": {},
   "outputs": [
    {
     "data": {
      "text/plain": [
       "0.7843137254901961"
      ]
     },
     "execution_count": 45,
     "metadata": {},
     "output_type": "execute_result"
    }
   ],
   "source": [
    "# precision / PPV\n",
    "\n",
    "PPV = TP / (TP + FP)\n",
    "PPV"
   ]
  },
  {
   "cell_type": "code",
   "execution_count": 46,
   "id": "86f23c4e",
   "metadata": {},
   "outputs": [
    {
     "data": {
      "text/plain": [
       "array([0.81339713, 0.78431373])"
      ]
     },
     "execution_count": 46,
     "metadata": {},
     "output_type": "execute_result"
    }
   ],
   "source": [
    "# precision / PPV\n",
    "\n",
    "sklearn.metrics.precision_score(y_preds.y_act, y_preds.model_1, average = None)"
   ]
  },
  {
   "cell_type": "code",
   "execution_count": 47,
   "id": "843eb960",
   "metadata": {},
   "outputs": [
    {
     "data": {
      "text/plain": [
       "0.7239819004524887"
      ]
     },
     "execution_count": 47,
     "metadata": {},
     "output_type": "execute_result"
    }
   ],
   "source": [
    "# f1 score\n",
    "\n",
    "f1 = 2 * (PPV * TPR) / (PPV + TPR)\n",
    "f1"
   ]
  },
  {
   "cell_type": "code",
   "execution_count": 48,
   "id": "ce50e2ed",
   "metadata": {},
   "outputs": [
    {
     "data": {
      "text/plain": [
       "array([0.8478803, 0.7239819])"
      ]
     },
     "execution_count": 48,
     "metadata": {},
     "output_type": "execute_result"
    }
   ],
   "source": [
    "# f1 score\n",
    "\n",
    "sklearn.metrics.f1_score(y_preds.y_act, y_preds.model_1, average = None)"
   ]
  },
  {
   "cell_type": "code",
   "execution_count": 49,
   "id": "61e42487",
   "metadata": {},
   "outputs": [
    {
     "data": {
      "text/plain": [
       "(238,\n",
       " 384,\n",
       " 0    384\n",
       " 1    238\n",
       " Name: survived, dtype: int64)"
      ]
     },
     "execution_count": 49,
     "metadata": {},
     "output_type": "execute_result"
    }
   ],
   "source": [
    "# support\n",
    "\n",
    "support_pos = TP + FN ## positive cases\n",
    "support_neg = FP + TN ## negative cases\n",
    "\n",
    "support_pos, support_neg, y_train.value_counts()"
   ]
  },
  {
   "cell_type": "code",
   "execution_count": 50,
   "id": "b6757252",
   "metadata": {},
   "outputs": [
    {
     "data": {
      "text/plain": [
       "(array([0.81339713, 0.78431373]),\n",
       " array([0.88541667, 0.67226891]),\n",
       " array([0.8478803, 0.7239819]),\n",
       " array([384, 238]))"
      ]
     },
     "execution_count": 50,
     "metadata": {},
     "output_type": "execute_result"
    }
   ],
   "source": [
    "# support\n",
    "\n",
    "sklearn.metrics.precision_recall_fscore_support(y_preds.y_act, y_preds.model_1, average = None)"
   ]
  },
  {
   "cell_type": "code",
   "execution_count": 51,
   "id": "edf69ee8",
   "metadata": {},
   "outputs": [
    {
     "data": {
      "text/plain": [
       "0.8133971291866029"
      ]
     },
     "execution_count": 51,
     "metadata": {},
     "output_type": "execute_result"
    }
   ],
   "source": [
    "## NVP / negative predicted value\n",
    "TN / (TN + FN)"
   ]
  },
  {
   "cell_type": "code",
   "execution_count": null,
   "id": "0015c5bb",
   "metadata": {},
   "outputs": [],
   "source": []
  },
  {
   "cell_type": "code",
   "execution_count": null,
   "id": "ce6ac7fd",
   "metadata": {},
   "outputs": [],
   "source": []
  },
  {
   "cell_type": "code",
   "execution_count": 52,
   "id": "72745001",
   "metadata": {},
   "outputs": [
    {
     "name": "stdout",
     "output_type": "stream",
     "text": [
      " \n",
      "Tree with max depth of 1.\n",
      " \n",
      "                    0           1  accuracy   macro avg  weighted avg\n",
      "precision    0.807980    0.728507  0.779743    0.768243      0.777571\n",
      "recall       0.843750    0.676471  0.779743    0.760110      0.779743\n",
      "f1-score     0.825478    0.701525  0.779743    0.763501      0.778049\n",
      "support    384.000000  238.000000  0.779743  622.000000    622.000000\n",
      " \n",
      "-.-.-.-.-.-.-.-.-.-.-.-.-.-.-.-.-\n",
      " \n",
      " \n",
      "Tree with max depth of 2.\n",
      " \n",
      "                    0           1  accuracy   macro avg  weighted avg\n",
      "precision    0.752988    0.950000  0.790997    0.851494      0.828372\n",
      "recall       0.984375    0.478992  0.790997    0.731683      0.790997\n",
      "f1-score     0.853273    0.636872  0.790997    0.745072      0.770470\n",
      "support    384.000000  238.000000  0.790997  622.000000    622.000000\n",
      " \n",
      "-.-.-.-.-.-.-.-.-.-.-.-.-.-.-.-.-\n",
      " \n",
      " \n",
      "Tree with max depth of 3.\n",
      " \n",
      "                    0           1  accuracy   macro avg  weighted avg\n",
      "precision    0.813397    0.784314  0.803859    0.798855      0.802269\n",
      "recall       0.885417    0.672269  0.803859    0.778843      0.803859\n",
      "f1-score     0.847880    0.723982  0.803859    0.785931      0.800472\n",
      "support    384.000000  238.000000  0.803859  622.000000    622.000000\n",
      " \n",
      "-.-.-.-.-.-.-.-.-.-.-.-.-.-.-.-.-\n",
      " \n",
      " \n",
      "Tree with max depth of 4.\n",
      " \n",
      "                    0           1  accuracy   macro avg  weighted avg\n",
      "precision    0.796943    0.884146  0.819936    0.840545      0.830310\n",
      "recall       0.950521    0.609244  0.819936    0.779882      0.819936\n",
      "f1-score     0.866983    0.721393  0.819936    0.794188      0.811275\n",
      "support    384.000000  238.000000  0.819936  622.000000    622.000000\n",
      " \n",
      "-.-.-.-.-.-.-.-.-.-.-.-.-.-.-.-.-\n",
      " \n",
      " \n",
      "Tree with max depth of 5.\n",
      " \n",
      "                    0           1  accuracy   macro avg  weighted avg\n",
      "precision    0.815490    0.857923  0.827974    0.836707      0.831726\n",
      "recall       0.932292    0.659664  0.827974    0.795978      0.827974\n",
      "f1-score     0.869988    0.745843  0.827974    0.807916      0.822486\n",
      "support    384.000000  238.000000  0.827974  622.000000    622.000000\n",
      " \n",
      "-.-.-.-.-.-.-.-.-.-.-.-.-.-.-.-.-\n",
      " \n",
      " \n",
      "Tree with max depth of 6.\n",
      " \n",
      "                    0           1  accuracy   macro avg  weighted avg\n",
      "precision    0.827273    0.890110  0.845659    0.858691      0.851317\n",
      "recall       0.947917    0.680672  0.845659    0.814294      0.845659\n",
      "f1-score     0.883495    0.771429  0.845659    0.827462      0.840614\n",
      "support    384.000000  238.000000  0.845659  622.000000    622.000000\n",
      " \n",
      "-.-.-.-.-.-.-.-.-.-.-.-.-.-.-.-.-\n",
      " \n",
      " \n",
      "Tree with max depth of 7.\n",
      " \n",
      "                    0           1  accuracy   macro avg  weighted avg\n",
      "precision    0.839450    0.903226  0.858521    0.871338      0.863853\n",
      "recall       0.953125    0.705882  0.858521    0.829504      0.858521\n",
      "f1-score     0.892683    0.792453  0.858521    0.842568      0.854331\n",
      "support    384.000000  238.000000  0.858521  622.000000    622.000000\n",
      " \n",
      "-.-.-.-.-.-.-.-.-.-.-.-.-.-.-.-.-\n",
      " \n",
      " \n",
      "Tree with max depth of 8.\n",
      " \n",
      "                    0           1  accuracy   macro avg  weighted avg\n",
      "precision    0.862233    0.895522   0.87299    0.878878      0.874971\n",
      "recall       0.945312    0.756303   0.87299    0.850808      0.872990\n",
      "f1-score     0.901863    0.820046   0.87299    0.860954      0.870557\n",
      "support    384.000000  238.000000   0.87299  622.000000    622.000000\n",
      " \n",
      "-.-.-.-.-.-.-.-.-.-.-.-.-.-.-.-.-\n",
      " \n",
      " \n",
      "Tree with max depth of 9.\n",
      " \n",
      "                    0           1  accuracy   macro avg  weighted avg\n",
      "precision    0.877698    0.912195  0.889068    0.894946      0.890898\n",
      "recall       0.953125    0.785714  0.889068    0.869420      0.889068\n",
      "f1-score     0.913858    0.844244  0.889068    0.879051      0.887221\n",
      "support    384.000000  238.000000  0.889068  622.000000    622.000000\n",
      " \n",
      "-.-.-.-.-.-.-.-.-.-.-.-.-.-.-.-.-\n",
      " \n",
      " \n",
      "Tree with max depth of 10.\n",
      " \n",
      "                    0           1  accuracy   macro avg  weighted avg\n",
      "precision    0.877647    0.944162  0.898714    0.910905      0.903098\n",
      "recall       0.971354    0.781513  0.898714    0.876433      0.898714\n",
      "f1-score     0.922126    0.855172  0.898714    0.888649      0.896507\n",
      "support    384.000000  238.000000  0.898714  622.000000    622.000000\n",
      " \n",
      "-.-.-.-.-.-.-.-.-.-.-.-.-.-.-.-.-\n",
      " \n",
      " \n",
      "Tree with max depth of 11.\n",
      " \n",
      "                    0           1  accuracy   macro avg  weighted avg\n",
      "precision    0.896386    0.942029  0.911576    0.919207      0.913850\n",
      "recall       0.968750    0.819328  0.911576    0.894039      0.911576\n",
      "f1-score     0.931164    0.876404  0.911576    0.903784      0.910211\n",
      "support    384.000000  238.000000  0.911576  622.000000    622.000000\n",
      " \n",
      "-.-.-.-.-.-.-.-.-.-.-.-.-.-.-.-.-\n",
      " \n",
      " \n",
      "Tree with max depth of 12.\n",
      " \n",
      "                    0           1  accuracy   macro avg  weighted avg\n",
      "precision    0.905569    0.952153  0.921222    0.928861      0.923394\n",
      "recall       0.973958    0.836134  0.921222    0.905046      0.921222\n",
      "f1-score     0.938519    0.890380  0.921222    0.914450      0.920100\n",
      "support    384.000000  238.000000  0.921222  622.000000    622.000000\n",
      " \n",
      "-.-.-.-.-.-.-.-.-.-.-.-.-.-.-.-.-\n",
      " \n",
      " \n",
      "Tree with max depth of 13.\n",
      " \n",
      "                    0           1  accuracy   macro avg  weighted avg\n",
      "precision    0.916462    0.948837  0.927653    0.932650      0.928850\n",
      "recall       0.971354    0.857143  0.927653    0.914249      0.927653\n",
      "f1-score     0.943110    0.900662  0.927653    0.921886      0.926868\n",
      "support    384.000000  238.000000  0.927653  622.000000    622.000000\n",
      " \n",
      "-.-.-.-.-.-.-.-.-.-.-.-.-.-.-.-.-\n",
      " \n",
      " \n",
      "Tree with max depth of 14.\n",
      " \n",
      "                    0           1  accuracy   macro avg  weighted avg\n",
      "precision    0.916870    0.957746  0.930868    0.937308      0.932511\n",
      "recall       0.976562    0.857143  0.930868    0.916853      0.930868\n",
      "f1-score     0.945776    0.904656  0.930868    0.925216      0.930042\n",
      "support    384.000000  238.000000  0.930868  622.000000    622.000000\n",
      " \n",
      "-.-.-.-.-.-.-.-.-.-.-.-.-.-.-.-.-\n",
      " \n",
      " \n",
      "Tree with max depth of 15.\n",
      " \n",
      "                    0           1  accuracy   macro avg  weighted avg\n",
      "precision    0.917073    0.962264  0.932476    0.939669      0.934365\n",
      "recall       0.979167    0.857143  0.932476    0.918155      0.932476\n",
      "f1-score     0.947103    0.906667  0.932476    0.926885      0.931631\n",
      "support    384.000000  238.000000  0.932476  622.000000    622.000000\n",
      " \n",
      "-.-.-.-.-.-.-.-.-.-.-.-.-.-.-.-.-\n",
      " \n",
      " \n",
      "Tree with max depth of 16.\n",
      " \n",
      "                    0           1  accuracy   macro avg  weighted avg\n",
      "precision    0.917073    0.962264  0.932476    0.939669      0.934365\n",
      "recall       0.979167    0.857143  0.932476    0.918155      0.932476\n",
      "f1-score     0.947103    0.906667  0.932476    0.926885      0.931631\n",
      "support    384.000000  238.000000  0.932476  622.000000    622.000000\n",
      " \n",
      "-.-.-.-.-.-.-.-.-.-.-.-.-.-.-.-.-\n",
      " \n",
      " \n",
      "Tree with max depth of 17.\n",
      " \n",
      "                    0           1  accuracy   macro avg  weighted avg\n",
      "precision    0.917073    0.962264  0.932476    0.939669      0.934365\n",
      "recall       0.979167    0.857143  0.932476    0.918155      0.932476\n",
      "f1-score     0.947103    0.906667  0.932476    0.926885      0.931631\n",
      "support    384.000000  238.000000  0.932476  622.000000    622.000000\n",
      " \n",
      "-.-.-.-.-.-.-.-.-.-.-.-.-.-.-.-.-\n",
      " \n",
      " \n",
      "Tree with max depth of 18.\n",
      " \n",
      "                    0           1  accuracy   macro avg  weighted avg\n",
      "precision    0.917073    0.962264  0.932476    0.939669      0.934365\n",
      "recall       0.979167    0.857143  0.932476    0.918155      0.932476\n",
      "f1-score     0.947103    0.906667  0.932476    0.926885      0.931631\n",
      "support    384.000000  238.000000  0.932476  622.000000    622.000000\n",
      " \n",
      "-.-.-.-.-.-.-.-.-.-.-.-.-.-.-.-.-\n",
      " \n",
      " \n",
      "Tree with max depth of 19.\n",
      " \n",
      "                    0           1  accuracy   macro avg  weighted avg\n",
      "precision    0.917073    0.962264  0.932476    0.939669      0.934365\n",
      "recall       0.979167    0.857143  0.932476    0.918155      0.932476\n",
      "f1-score     0.947103    0.906667  0.932476    0.926885      0.931631\n",
      "support    384.000000  238.000000  0.932476  622.000000    622.000000\n",
      " \n",
      "-.-.-.-.-.-.-.-.-.-.-.-.-.-.-.-.-\n",
      " \n",
      " \n",
      "Tree with max depth of 20.\n",
      " \n",
      "                    0           1  accuracy   macro avg  weighted avg\n",
      "precision    0.917073    0.962264  0.932476    0.939669      0.934365\n",
      "recall       0.979167    0.857143  0.932476    0.918155      0.932476\n",
      "f1-score     0.947103    0.906667  0.932476    0.926885      0.931631\n",
      "support    384.000000  238.000000  0.932476  622.000000    622.000000\n",
      " \n",
      "-.-.-.-.-.-.-.-.-.-.-.-.-.-.-.-.-\n",
      " \n"
     ]
    }
   ],
   "source": [
    "## make a for-loop\n",
    "\n",
    "for i in range(1, 21):\n",
    "    \n",
    "    trees = DecisionTreeClassifier(max_depth = i, random_state = 23)\n",
    "    \n",
    "    trees = trees.fit(X_train, y_train)\n",
    "    \n",
    "    y_preds = trees.predict(X_train)\n",
    "    \n",
    "    report = classification_report(y_train, y_preds, output_dict = True)\n",
    "    \n",
    "    \n",
    "    print(' ')\n",
    "    print(f'Tree with max depth of {i}.')\n",
    "    print(' ')\n",
    "    print(pd.DataFrame(report))\n",
    "    print(' ')\n",
    "    print('-.-.-.-.-.-.-.-.-.-.-.-.-.-.-.-.-')\n",
    "    print(' ')"
   ]
  },
  {
   "cell_type": "code",
   "execution_count": null,
   "id": "f72a4122",
   "metadata": {},
   "outputs": [],
   "source": []
  },
  {
   "cell_type": "code",
   "execution_count": 53,
   "id": "7e371c07",
   "metadata": {},
   "outputs": [
    {
     "data": {
      "text/html": [
       "<div>\n",
       "<style scoped>\n",
       "    .dataframe tbody tr th:only-of-type {\n",
       "        vertical-align: middle;\n",
       "    }\n",
       "\n",
       "    .dataframe tbody tr th {\n",
       "        vertical-align: top;\n",
       "    }\n",
       "\n",
       "    .dataframe thead th {\n",
       "        text-align: right;\n",
       "    }\n",
       "</style>\n",
       "<table border=\"1\" class=\"dataframe\">\n",
       "  <thead>\n",
       "    <tr style=\"text-align: right;\">\n",
       "      <th></th>\n",
       "      <th>max_depth</th>\n",
       "      <th>train_accuracy</th>\n",
       "      <th>validate_accuracy</th>\n",
       "      <th>difference</th>\n",
       "    </tr>\n",
       "  </thead>\n",
       "  <tbody>\n",
       "    <tr>\n",
       "      <th>0</th>\n",
       "      <td>1</td>\n",
       "      <td>0.779743</td>\n",
       "      <td>0.774436</td>\n",
       "      <td>0.005307</td>\n",
       "    </tr>\n",
       "    <tr>\n",
       "      <th>1</th>\n",
       "      <td>2</td>\n",
       "      <td>0.790997</td>\n",
       "      <td>0.759398</td>\n",
       "      <td>0.031598</td>\n",
       "    </tr>\n",
       "    <tr>\n",
       "      <th>2</th>\n",
       "      <td>3</td>\n",
       "      <td>0.803859</td>\n",
       "      <td>0.781955</td>\n",
       "      <td>0.021904</td>\n",
       "    </tr>\n",
       "    <tr>\n",
       "      <th>3</th>\n",
       "      <td>4</td>\n",
       "      <td>0.819936</td>\n",
       "      <td>0.812030</td>\n",
       "      <td>0.007906</td>\n",
       "    </tr>\n",
       "    <tr>\n",
       "      <th>4</th>\n",
       "      <td>5</td>\n",
       "      <td>0.827974</td>\n",
       "      <td>0.774436</td>\n",
       "      <td>0.053538</td>\n",
       "    </tr>\n",
       "    <tr>\n",
       "      <th>5</th>\n",
       "      <td>6</td>\n",
       "      <td>0.845659</td>\n",
       "      <td>0.819549</td>\n",
       "      <td>0.026110</td>\n",
       "    </tr>\n",
       "    <tr>\n",
       "      <th>6</th>\n",
       "      <td>7</td>\n",
       "      <td>0.858521</td>\n",
       "      <td>0.834586</td>\n",
       "      <td>0.023934</td>\n",
       "    </tr>\n",
       "    <tr>\n",
       "      <th>7</th>\n",
       "      <td>8</td>\n",
       "      <td>0.872990</td>\n",
       "      <td>0.804511</td>\n",
       "      <td>0.068479</td>\n",
       "    </tr>\n",
       "    <tr>\n",
       "      <th>8</th>\n",
       "      <td>9</td>\n",
       "      <td>0.889068</td>\n",
       "      <td>0.766917</td>\n",
       "      <td>0.122150</td>\n",
       "    </tr>\n",
       "    <tr>\n",
       "      <th>9</th>\n",
       "      <td>10</td>\n",
       "      <td>0.898714</td>\n",
       "      <td>0.781955</td>\n",
       "      <td>0.116759</td>\n",
       "    </tr>\n",
       "    <tr>\n",
       "      <th>10</th>\n",
       "      <td>11</td>\n",
       "      <td>0.911576</td>\n",
       "      <td>0.744361</td>\n",
       "      <td>0.167215</td>\n",
       "    </tr>\n",
       "    <tr>\n",
       "      <th>11</th>\n",
       "      <td>12</td>\n",
       "      <td>0.921222</td>\n",
       "      <td>0.751880</td>\n",
       "      <td>0.169342</td>\n",
       "    </tr>\n",
       "    <tr>\n",
       "      <th>12</th>\n",
       "      <td>13</td>\n",
       "      <td>0.927653</td>\n",
       "      <td>0.759398</td>\n",
       "      <td>0.168254</td>\n",
       "    </tr>\n",
       "    <tr>\n",
       "      <th>13</th>\n",
       "      <td>14</td>\n",
       "      <td>0.930868</td>\n",
       "      <td>0.751880</td>\n",
       "      <td>0.178988</td>\n",
       "    </tr>\n",
       "    <tr>\n",
       "      <th>14</th>\n",
       "      <td>15</td>\n",
       "      <td>0.932476</td>\n",
       "      <td>0.751880</td>\n",
       "      <td>0.180596</td>\n",
       "    </tr>\n",
       "    <tr>\n",
       "      <th>15</th>\n",
       "      <td>16</td>\n",
       "      <td>0.932476</td>\n",
       "      <td>0.751880</td>\n",
       "      <td>0.180596</td>\n",
       "    </tr>\n",
       "    <tr>\n",
       "      <th>16</th>\n",
       "      <td>17</td>\n",
       "      <td>0.932476</td>\n",
       "      <td>0.744361</td>\n",
       "      <td>0.188115</td>\n",
       "    </tr>\n",
       "    <tr>\n",
       "      <th>17</th>\n",
       "      <td>18</td>\n",
       "      <td>0.932476</td>\n",
       "      <td>0.751880</td>\n",
       "      <td>0.180596</td>\n",
       "    </tr>\n",
       "    <tr>\n",
       "      <th>18</th>\n",
       "      <td>19</td>\n",
       "      <td>0.932476</td>\n",
       "      <td>0.744361</td>\n",
       "      <td>0.188115</td>\n",
       "    </tr>\n",
       "    <tr>\n",
       "      <th>19</th>\n",
       "      <td>20</td>\n",
       "      <td>0.932476</td>\n",
       "      <td>0.744361</td>\n",
       "      <td>0.188115</td>\n",
       "    </tr>\n",
       "    <tr>\n",
       "      <th>20</th>\n",
       "      <td>21</td>\n",
       "      <td>0.932476</td>\n",
       "      <td>0.744361</td>\n",
       "      <td>0.188115</td>\n",
       "    </tr>\n",
       "    <tr>\n",
       "      <th>21</th>\n",
       "      <td>22</td>\n",
       "      <td>0.932476</td>\n",
       "      <td>0.744361</td>\n",
       "      <td>0.188115</td>\n",
       "    </tr>\n",
       "    <tr>\n",
       "      <th>22</th>\n",
       "      <td>23</td>\n",
       "      <td>0.932476</td>\n",
       "      <td>0.744361</td>\n",
       "      <td>0.188115</td>\n",
       "    </tr>\n",
       "    <tr>\n",
       "      <th>23</th>\n",
       "      <td>24</td>\n",
       "      <td>0.932476</td>\n",
       "      <td>0.744361</td>\n",
       "      <td>0.188115</td>\n",
       "    </tr>\n",
       "  </tbody>\n",
       "</table>\n",
       "</div>"
      ],
      "text/plain": [
       "    max_depth  train_accuracy  validate_accuracy  difference\n",
       "0           1        0.779743           0.774436    0.005307\n",
       "1           2        0.790997           0.759398    0.031598\n",
       "2           3        0.803859           0.781955    0.021904\n",
       "3           4        0.819936           0.812030    0.007906\n",
       "4           5        0.827974           0.774436    0.053538\n",
       "5           6        0.845659           0.819549    0.026110\n",
       "6           7        0.858521           0.834586    0.023934\n",
       "7           8        0.872990           0.804511    0.068479\n",
       "8           9        0.889068           0.766917    0.122150\n",
       "9          10        0.898714           0.781955    0.116759\n",
       "10         11        0.911576           0.744361    0.167215\n",
       "11         12        0.921222           0.751880    0.169342\n",
       "12         13        0.927653           0.759398    0.168254\n",
       "13         14        0.930868           0.751880    0.178988\n",
       "14         15        0.932476           0.751880    0.180596\n",
       "15         16        0.932476           0.751880    0.180596\n",
       "16         17        0.932476           0.744361    0.188115\n",
       "17         18        0.932476           0.751880    0.180596\n",
       "18         19        0.932476           0.744361    0.188115\n",
       "19         20        0.932476           0.744361    0.188115\n",
       "20         21        0.932476           0.744361    0.188115\n",
       "21         22        0.932476           0.744361    0.188115\n",
       "22         23        0.932476           0.744361    0.188115\n",
       "23         24        0.932476           0.744361    0.188115"
      ]
     },
     "execution_count": 53,
     "metadata": {},
     "output_type": "execute_result"
    }
   ],
   "source": [
    "## for-loop to look at differences in tree depths\n",
    "\n",
    "metrics = []\n",
    "\n",
    "for i in range(1,25):\n",
    "    \n",
    "    tree = DecisionTreeClassifier(max_depth = i, random_state = 23) ### make\n",
    "    tree = tree.fit(X_train, y_train)  ## fit\n",
    "    in_sample_accuracy = tree.score(X_train, y_train)\n",
    "        # in-sample (train), out-of-sample (validate comparison ; could also be the 'test data')\n",
    "    out_of_sample_accuracy = tree.score(X_val, y_val)\n",
    "    \n",
    "    output = { 'max_depth' : i, \n",
    "              \"train_accuracy\" : in_sample_accuracy, \n",
    "              \"validate_accuracy\" : out_of_sample_accuracy}\n",
    "    \n",
    "    metrics.append(output)\n",
    "    \n",
    "df = pd.DataFrame(metrics)\n",
    "df['difference'] = df.train_accuracy - df.validate_accuracy \n",
    "        # calculating difference between training and validation accuracy\n",
    "    \n",
    "df\n",
    "\n",
    "# the differences of 17, 18 percent between training and validating accuracy means that the model is overfit"
   ]
  },
  {
   "cell_type": "code",
   "execution_count": null,
   "id": "23574dba",
   "metadata": {},
   "outputs": [],
   "source": []
  },
  {
   "cell_type": "code",
   "execution_count": 54,
   "id": "52bbf432",
   "metadata": {},
   "outputs": [
    {
     "data": {
      "image/png": "[encoded data removed]",
      "text/plain": [
       "<Figure size 1200x600 with 1 Axes>"
      ]
     },
     "metadata": {},
     "output_type": "display_data"
    }
   ],
   "source": [
    "## visualise on a graph : plot validate and accuracy scores\n",
    "\n",
    "plt.figure(figsize = (12, 6))\n",
    "\n",
    "plt.plot(df.max_depth, df.train_accuracy, marker = 'o', label = 'Train')\n",
    "plt.plot(df.max_depth, df.validate_accuracy, marker = 'x', label = 'Validate')\n",
    "\n",
    "plt.legend()\n",
    "plt.show()"
   ]
  },
  {
   "cell_type": "code",
   "execution_count": null,
   "id": "453913fc",
   "metadata": {},
   "outputs": [],
   "source": []
  },
  {
   "cell_type": "markdown",
   "id": "1011f211",
   "metadata": {},
   "source": [
    "### Run through steps 2-4 using a different max_depth value."
   ]
  },
  {
   "cell_type": "code",
   "execution_count": null,
   "id": "37e5a51c",
   "metadata": {},
   "outputs": [],
   "source": []
  },
  {
   "cell_type": "code",
   "execution_count": 55,
   "id": "3d41277e",
   "metadata": {
    "scrolled": true
   },
   "outputs": [
    {
     "data": {
      "text/html": [
       "<style>#sk-container-id-2 {color: black;background-color: white;}#sk-container-id-2 pre{padding: 0;}#sk-container-id-2 div.sk-toggleable {background-color: white;}#sk-container-id-2 label.sk-toggleable__label {cursor: pointer;display: block;width: 100%;margin-bottom: 0;padding: 0.3em;box-sizing: border-box;text-align: center;}#sk-container-id-2 label.sk-toggleable__label-arrow:before {content: \"▸\";float: left;margin-right: 0.25em;color: #696969;}#sk-container-id-2 label.sk-toggleable__label-arrow:hover:before {color: black;}#sk-container-id-2 div.sk-estimator:hover label.sk-toggleable__label-arrow:before {color: black;}#sk-container-id-2 div.sk-toggleable__content {max-height: 0;max-width: 0;overflow: hidden;text-align: left;background-color: #f0f8ff;}#sk-container-id-2 div.sk-toggleable__content pre {margin: 0.2em;color: black;border-radius: 0.25em;background-color: #f0f8ff;}#sk-container-id-2 input.sk-toggleable__control:checked~div.sk-toggleable__content {max-height: 200px;max-width: 100%;overflow: auto;}#sk-container-id-2 input.sk-toggleable__control:checked~label.sk-toggleable__label-arrow:before {content: \"▾\";}#sk-container-id-2 div.sk-estimator input.sk-toggleable__control:checked~label.sk-toggleable__label {background-color: #d4ebff;}#sk-container-id-2 div.sk-label input.sk-toggleable__control:checked~label.sk-toggleable__label {background-color: #d4ebff;}#sk-container-id-2 input.sk-hidden--visually {border: 0;clip: rect(1px 1px 1px 1px);clip: rect(1px, 1px, 1px, 1px);height: 1px;margin: -1px;overflow: hidden;padding: 0;position: absolute;width: 1px;}#sk-container-id-2 div.sk-estimator {font-family: monospace;background-color: #f0f8ff;border: 1px dotted black;border-radius: 0.25em;box-sizing: border-box;margin-bottom: 0.5em;}#sk-container-id-2 div.sk-estimator:hover {background-color: #d4ebff;}#sk-container-id-2 div.sk-parallel-item::after {content: \"\";width: 100%;border-bottom: 1px solid gray;flex-grow: 1;}#sk-container-id-2 div.sk-label:hover label.sk-toggleable__label {background-color: #d4ebff;}#sk-container-id-2 div.sk-serial::before {content: \"\";position: absolute;border-left: 1px solid gray;box-sizing: border-box;top: 0;bottom: 0;left: 50%;z-index: 0;}#sk-container-id-2 div.sk-serial {display: flex;flex-direction: column;align-items: center;background-color: white;padding-right: 0.2em;padding-left: 0.2em;position: relative;}#sk-container-id-2 div.sk-item {position: relative;z-index: 1;}#sk-container-id-2 div.sk-parallel {display: flex;align-items: stretch;justify-content: center;background-color: white;position: relative;}#sk-container-id-2 div.sk-item::before, #sk-container-id-2 div.sk-parallel-item::before {content: \"\";position: absolute;border-left: 1px solid gray;box-sizing: border-box;top: 0;bottom: 0;left: 50%;z-index: -1;}#sk-container-id-2 div.sk-parallel-item {display: flex;flex-direction: column;z-index: 1;position: relative;background-color: white;}#sk-container-id-2 div.sk-parallel-item:first-child::after {align-self: flex-end;width: 50%;}#sk-container-id-2 div.sk-parallel-item:last-child::after {align-self: flex-start;width: 50%;}#sk-container-id-2 div.sk-parallel-item:only-child::after {width: 0;}#sk-container-id-2 div.sk-dashed-wrapped {border: 1px dashed gray;margin: 0 0.4em 0.5em 0.4em;box-sizing: border-box;padding-bottom: 0.4em;background-color: white;}#sk-container-id-2 div.sk-label label {font-family: monospace;font-weight: bold;display: inline-block;line-height: 1.2em;}#sk-container-id-2 div.sk-label-container {text-align: center;}#sk-container-id-2 div.sk-container {/* jupyter's `normalize.less` sets `[hidden] { display: none; }` but bootstrap.min.css set `[hidden] { display: none !important; }` so we also need the `!important` here to be able to override the default hidden behavior on the sphinx rendered scikit-learn.org. See: https://github.com/scikit-learn/scikit-learn/issues/21755 */display: inline-block !important;position: relative;}#sk-container-id-2 div.sk-text-repr-fallback {display: none;}</style><div id=\"sk-container-id-2\" class=\"sk-top-container\"><div class=\"sk-text-repr-fallback\"><pre>DecisionTreeClassifier(max_depth=50, random_state=23)</pre><b>In a Jupyter environment, please rerun this cell to show the HTML representation or trust the notebook. <br />On GitHub, the HTML representation is unable to render, please try loading this page with nbviewer.org.</b></div><div class=\"sk-container\" hidden><div class=\"sk-item\"><div class=\"sk-estimator sk-toggleable\"><input class=\"sk-toggleable__control sk-hidden--visually\" id=\"sk-estimator-id-2\" type=\"checkbox\" checked><label for=\"sk-estimator-id-2\" class=\"sk-toggleable__label sk-toggleable__label-arrow\">DecisionTreeClassifier</label><div class=\"sk-toggleable__content\"><pre>DecisionTreeClassifier(max_depth=50, random_state=23)</pre></div></div></div></div></div>"
      ],
      "text/plain": [
       "DecisionTreeClassifier(max_depth=50, random_state=23)"
      ]
     },
     "execution_count": 55,
     "metadata": {},
     "output_type": "execute_result"
    }
   ],
   "source": [
    "# resetting max_depth to 50 nodes\n",
    "\n",
    "seed = 23\n",
    "\n",
    "clf50 = DecisionTreeClassifier(max_depth = 50, random_state = seed)\n",
    "\n",
    "\n",
    "clf50.fit(X_train, y_train)"
   ]
  },
  {
   "cell_type": "code",
   "execution_count": 56,
   "id": "8830f8fa",
   "metadata": {},
   "outputs": [
    {
     "data": {
      "text/plain": [
       "0.932475884244373"
      ]
     },
     "execution_count": 56,
     "metadata": {},
     "output_type": "execute_result"
    }
   ],
   "source": [
    "clf50.score(X_train, y_train)"
   ]
  },
  {
   "cell_type": "code",
   "execution_count": 57,
   "id": "35c3958c",
   "metadata": {},
   "outputs": [],
   "source": [
    "val_predictions50 = clf50.predict(X_val)\n",
    "\n",
    "#VALIDATION STEP\n",
    "\n",
    "# predicted on X_Val, true values are on y_val"
   ]
  },
  {
   "cell_type": "code",
   "execution_count": 58,
   "id": "8004d197",
   "metadata": {},
   "outputs": [
    {
     "name": "stdout",
     "output_type": "stream",
     "text": [
      "              precision    recall  f1-score   support\n",
      "\n",
      "           0       0.81      0.84      0.83        82\n",
      "           1       0.73      0.69      0.71        51\n",
      "\n",
      "    accuracy                           0.78       133\n",
      "   macro avg       0.77      0.76      0.77       133\n",
      "weighted avg       0.78      0.78      0.78       133\n",
      "\n"
     ]
    }
   ],
   "source": [
    "\n",
    "## classification report for depth of 50 :\n",
    "\n",
    "print(classification_report(y_val, val_predictions))\n",
    "\n",
    "# precision model works best for validation data, at 73pc."
   ]
  },
  {
   "cell_type": "code",
   "execution_count": 59,
   "id": "6c1dbcf1",
   "metadata": {},
   "outputs": [
    {
     "data": {
      "text/plain": [
       "0.835820895522388"
      ]
     },
     "execution_count": 59,
     "metadata": {},
     "output_type": "execute_result"
    }
   ],
   "source": [
    "# Model Score\n",
    "\n",
    "clf50.score(X_test, y_test)\n",
    "\n",
    "# cf model score of 0.8283582089552238 for a depth or 3"
   ]
  },
  {
   "cell_type": "code",
   "execution_count": 64,
   "id": "56126b7a",
   "metadata": {},
   "outputs": [
    {
     "data": {
      "text/plain": [
       "array([[376,   8],\n",
       "       [ 34, 204]])"
      ]
     },
     "execution_count": 64,
     "metadata": {},
     "output_type": "execute_result"
    }
   ],
   "source": [
    "# confusion matrix\n",
    "\n",
    "y_preds50 = pd.DataFrame({\n",
    "    'y_act': y_train,\n",
    "    'baseline': 0,\n",
    "    'model_1': clf50.predict(X_train)\n",
    "})\n",
    "\n",
    "confu50 = confusion_matrix(y_preds50.y_act, y_preds50.model_1)\n",
    "\n",
    "confu50"
   ]
  },
  {
   "cell_type": "code",
   "execution_count": 65,
   "id": "f1108ec3",
   "metadata": {},
   "outputs": [
    {
     "data": {
      "text/plain": [
       "(376, 8, 34, 204)"
      ]
     },
     "execution_count": 65,
     "metadata": {},
     "output_type": "execute_result"
    }
   ],
   "source": [
    "# confusion matrix\n",
    "\n",
    "TN50, FP50, FN50, TP50 = confu50.ravel()\n",
    "TN50, FP50, FN50, TP50\n",
    "\n",
    "\n",
    "## cf (340, 44, 78, 160) for a depth of 3"
   ]
  },
  {
   "cell_type": "code",
   "execution_count": null,
   "id": "45cd9421",
   "metadata": {},
   "outputs": [],
   "source": []
  },
  {
   "cell_type": "code",
   "execution_count": 66,
   "id": "fe90e223",
   "metadata": {},
   "outputs": [
    {
     "data": {
      "text/plain": [
       "0.932475884244373"
      ]
     },
     "execution_count": 66,
     "metadata": {},
     "output_type": "execute_result"
    }
   ],
   "source": [
    "# Accuracy\n",
    "\n",
    "(TP50 + TN50) / (TP50 + FP50 + TN50 + FN50)\n",
    "\n",
    "# cf accuracy rate of 0.8038585209003215 for a depth of 3"
   ]
  },
  {
   "cell_type": "code",
   "execution_count": 72,
   "id": "9b4750f8",
   "metadata": {},
   "outputs": [
    {
     "data": {
      "text/plain": [
       "0.932475884244373"
      ]
     },
     "execution_count": 72,
     "metadata": {},
     "output_type": "execute_result"
    }
   ],
   "source": [
    "# Accuracy\n",
    "\n",
    "sklearn.metrics.accuracy_score(y_preds50.y_act, y_preds50.model_1)"
   ]
  },
  {
   "cell_type": "code",
   "execution_count": null,
   "id": "34017811",
   "metadata": {},
   "outputs": [],
   "source": [
    "# sensitivity / true positive rate / recall\n",
    "\n",
    "TPR_50 = TP50 / (TP50 + FN50) \n",
    "TPR_50"
   ]
  },
  {
   "cell_type": "code",
   "execution_count": null,
   "id": "f8e2f2ec",
   "metadata": {},
   "outputs": [],
   "source": [
    "# sensitivity / true positive rate / recall\n",
    "\n",
    "sklearn.metrics.recall_score(y_preds.y_act, y_preds.model_1, average = None)\n",
    "\n",
    "# cf sensitivity / recall rate of array([0.88541667, 0.67226891]) for a depth of 3"
   ]
  },
  {
   "cell_type": "code",
   "execution_count": null,
   "id": "df23421a",
   "metadata": {},
   "outputs": [],
   "source": [
    "# false negative rate\n",
    "\n",
    "FN50 / (TP50 + FN50)"
   ]
  },
  {
   "cell_type": "code",
   "execution_count": null,
   "id": "63a3d431",
   "metadata": {},
   "outputs": [],
   "source": [
    "# precision / PPV\n",
    "\n",
    "PPV_50 = TP50 / (TP50 + FP50)\n",
    "PPV_50"
   ]
  },
  {
   "cell_type": "code",
   "execution_count": null,
   "id": "6233bb5b",
   "metadata": {},
   "outputs": [],
   "source": [
    "# precision / PPV\n",
    "\n",
    "sklearn.metrics.precision_score(y_preds.y_act, y_preds.model_1, average = None)\n",
    "\n",
    "# cf precision of array([0.81339713, 0.78431373]) for a depth of 3"
   ]
  },
  {
   "cell_type": "code",
   "execution_count": null,
   "id": "4b4596ca",
   "metadata": {},
   "outputs": [],
   "source": [
    "# f1 score\n",
    "\n",
    "f1_50 = 2 * (PPV_50 * TPR_50) / (PPV_50 + TPR_50)\n",
    "f1_50"
   ]
  },
  {
   "cell_type": "code",
   "execution_count": null,
   "id": "2a61a6f2",
   "metadata": {},
   "outputs": [],
   "source": [
    "# f1 score\n",
    "\n",
    "sklearn.metrics.f1_score(y_preds.y_act, y_preds.model_1, average = None)\n",
    "\n",
    "# cf f1 score of array([0.8478803, 0.7239819]) for a depth of 3"
   ]
  },
  {
   "cell_type": "code",
   "execution_count": null,
   "id": "8888f64f",
   "metadata": {},
   "outputs": [],
   "source": [
    "# support\n",
    "\n",
    "support_pos50 = TP50 + FN50\n",
    "support_neg50 = FP50 + TN50\n",
    "\n",
    "support_pos50, support_neg50"
   ]
  },
  {
   "cell_type": "code",
   "execution_count": null,
   "id": "691f5974",
   "metadata": {},
   "outputs": [],
   "source": [
    "# support\n",
    "\n",
    "sklearn.metrics.precision_recall_fscore_support(y_preds.y_act, y_preds.model_1, average = None)\n",
    "\n",
    "# cf array of (array([0.81339713, 0.78431373]),\n",
    "             # array([0.88541667, 0.67226891]),\n",
    "             # array([0.8478803, 0.7239819]),\n",
    "             # array([384, 238])) \n",
    "# for a depth of 3"
   ]
  },
  {
   "cell_type": "code",
   "execution_count": null,
   "id": "dde881bf",
   "metadata": {},
   "outputs": [],
   "source": [
    "## NVP / negative predicted value\n",
    "\n",
    "TN50 / (TN50 + FN50)\n",
    "\n",
    "# cf NVP of .81339 for a depth of 3"
   ]
  },
  {
   "cell_type": "code",
   "execution_count": null,
   "id": "01cf0940",
   "metadata": {},
   "outputs": [],
   "source": []
  },
  {
   "cell_type": "markdown",
   "id": "5fae4741",
   "metadata": {},
   "source": [
    "### 6 / Which model performs better on your in-sample data (i.e, the training set) ?"
   ]
  },
  {
   "cell_type": "markdown",
   "id": "6e6c444e",
   "metadata": {},
   "source": [
    "The precision model, at 96pc."
   ]
  },
  {
   "cell_type": "code",
   "execution_count": null,
   "id": "34bd68ce",
   "metadata": {},
   "outputs": [],
   "source": []
  },
  {
   "cell_type": "markdown",
   "id": "b29e179d",
   "metadata": {},
   "source": [
    "### 7 / Which model performs best on your out-of-sample data, the validate set ?"
   ]
  },
  {
   "cell_type": "code",
   "execution_count": 73,
   "id": "574e35b6",
   "metadata": {},
   "outputs": [
    {
     "name": "stdout",
     "output_type": "stream",
     "text": [
      "Accuracy of Decision Tree Classifier on validate set : 0.74\n"
     ]
    }
   ],
   "source": [
    "print('Accuracy of Decision Tree Classifier on validate set : {:.2f}'\n",
    "     .format(clf50.score(X_val, y_val)))"
   ]
  },
  {
   "cell_type": "code",
   "execution_count": 74,
   "id": "e7284ef0",
   "metadata": {},
   "outputs": [
    {
     "name": "stdout",
     "output_type": "stream",
     "text": [
      "              precision    recall  f1-score   support\n",
      "\n",
      "           0       0.77      0.83      0.80        82\n",
      "           1       0.69      0.61      0.65        51\n",
      "\n",
      "    accuracy                           0.74       133\n",
      "   macro avg       0.73      0.72      0.72       133\n",
      "weighted avg       0.74      0.74      0.74       133\n",
      "\n"
     ]
    }
   ],
   "source": [
    "# Produce y_predictions that come from the X_validate\n",
    "\n",
    "\n",
    "val_predictions = clf50.predict(X_val)\n",
    "\n",
    "\n",
    "# Compare actual 'y' values (from validate) to predicted y_values from the model run on X_validate\n",
    "\n",
    "print(classification_report(y_val, val_predictions))\n",
    "\n",
    "# val_predictions = y_pred\n",
    "\n",
    "# it would appear that the precision model is most suited, at 73pc."
   ]
  }
 ],
 "metadata": {
  "kernelspec": {
   "display_name": "Python 3 (ipykernel)",
   "language": "python",
   "name": "python3"
  },
  "language_info": {
   "codemirror_mode": {
    "name": "ipython",
    "version": 3
   },
   "file_extension": ".py",
   "mimetype": "text/x-python",
   "name": "python",
   "nbconvert_exporter": "python",
   "pygments_lexer": "ipython3",
   "version": "3.9.13"
  }
 },
 "nbformat": 4,
 "nbformat_minor": 5
}
