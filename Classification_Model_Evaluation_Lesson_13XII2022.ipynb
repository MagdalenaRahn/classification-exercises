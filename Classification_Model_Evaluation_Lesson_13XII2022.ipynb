{
 "cells": [
  {
   "cell_type": "code",
   "execution_count": 8,
   "id": "3f300778",
   "metadata": {},
   "outputs": [],
   "source": [
    "import pandas as pd\n",
    "import numpy as np\n",
    "\n",
    "from env import host, username, password, sql_connexion\n",
    "\n",
    "import seaborn as sns\n",
    "import scipy\n",
    "\n",
    "from sklearn import metrics\n",
    "\n",
    "import warnings\n",
    "warnings.filterwarnings(\"ignore\")"
   ]
  },
  {
   "cell_type": "code",
   "execution_count": null,
   "id": "857a0fee",
   "metadata": {},
   "outputs": [],
   "source": []
  },
  {
   "cell_type": "code",
   "execution_count": null,
   "id": "6eb0116a",
   "metadata": {},
   "outputs": [],
   "source": []
  },
  {
   "cell_type": "markdown",
   "id": "34ef5dd7",
   "metadata": {},
   "source": [
    "- Accuracy = (TP + TN) / (TP + FP + TN + FN)  \n",
    "- Precision / PPV = TP / (TP + FP)  \n",
    "- NVP / negative predicted value = TN / (TN + FN)\n",
    "- Specificity = TN / (FP + TN)\n",
    "- Recall / Sensitivity : TP / (TP + FN)"
   ]
  },
  {
   "cell_type": "code",
   "execution_count": null,
   "id": "d2220d8b",
   "metadata": {},
   "outputs": [],
   "source": []
  },
  {
   "cell_type": "code",
   "execution_count": null,
   "id": "1bfc0332",
   "metadata": {},
   "outputs": [],
   "source": []
  },
  {
   "cell_type": "code",
   "execution_count": 52,
   "id": "5e5d860c",
   "metadata": {},
   "outputs": [
    {
     "data": {
      "text/html": [
       "<div>\n",
       "<style scoped>\n",
       "    .dataframe tbody tr th:only-of-type {\n",
       "        vertical-align: middle;\n",
       "    }\n",
       "\n",
       "    .dataframe tbody tr th {\n",
       "        vertical-align: top;\n",
       "    }\n",
       "\n",
       "    .dataframe thead th {\n",
       "        text-align: right;\n",
       "    }\n",
       "</style>\n",
       "<table border=\"1\" class=\"dataframe\">\n",
       "  <thead>\n",
       "    <tr style=\"text-align: right;\">\n",
       "      <th></th>\n",
       "      <th>actual</th>\n",
       "      <th>prediction</th>\n",
       "    </tr>\n",
       "  </thead>\n",
       "  <tbody>\n",
       "    <tr>\n",
       "      <th>0</th>\n",
       "      <td>yes</td>\n",
       "      <td>yes</td>\n",
       "    </tr>\n",
       "    <tr>\n",
       "      <th>1</th>\n",
       "      <td>no</td>\n",
       "      <td>no</td>\n",
       "    </tr>\n",
       "    <tr>\n",
       "      <th>2</th>\n",
       "      <td>no</td>\n",
       "      <td>yes</td>\n",
       "    </tr>\n",
       "    <tr>\n",
       "      <th>3</th>\n",
       "      <td>yes</td>\n",
       "      <td>yes</td>\n",
       "    </tr>\n",
       "    <tr>\n",
       "      <th>4</th>\n",
       "      <td>yes</td>\n",
       "      <td>yes</td>\n",
       "    </tr>\n",
       "    <tr>\n",
       "      <th>5</th>\n",
       "      <td>yes</td>\n",
       "      <td>yes</td>\n",
       "    </tr>\n",
       "    <tr>\n",
       "      <th>6</th>\n",
       "      <td>no</td>\n",
       "      <td>no</td>\n",
       "    </tr>\n",
       "    <tr>\n",
       "      <th>7</th>\n",
       "      <td>yes</td>\n",
       "      <td>no</td>\n",
       "    </tr>\n",
       "    <tr>\n",
       "      <th>8</th>\n",
       "      <td>yes</td>\n",
       "      <td>yes</td>\n",
       "    </tr>\n",
       "    <tr>\n",
       "      <th>9</th>\n",
       "      <td>yes</td>\n",
       "      <td>no</td>\n",
       "    </tr>\n",
       "    <tr>\n",
       "      <th>10</th>\n",
       "      <td>no</td>\n",
       "      <td>yes</td>\n",
       "    </tr>\n",
       "    <tr>\n",
       "      <th>11</th>\n",
       "      <td>yes</td>\n",
       "      <td>yes</td>\n",
       "    </tr>\n",
       "    <tr>\n",
       "      <th>12</th>\n",
       "      <td>yes</td>\n",
       "      <td>yes</td>\n",
       "    </tr>\n",
       "  </tbody>\n",
       "</table>\n",
       "</div>"
      ],
      "text/plain": [
       "   actual prediction\n",
       "0     yes        yes\n",
       "1      no         no\n",
       "2      no        yes\n",
       "3     yes        yes\n",
       "4     yes        yes\n",
       "5     yes        yes\n",
       "6      no         no\n",
       "7     yes         no\n",
       "8     yes        yes\n",
       "9     yes         no\n",
       "10     no        yes\n",
       "11    yes        yes\n",
       "12    yes        yes"
      ]
     },
     "execution_count": 52,
     "metadata": {},
     "output_type": "execute_result"
    }
   ],
   "source": [
    "glasses = pd.DataFrame({\n",
    "    'actual': ['yes', 'no', 'no', 'yes', 'yes', 'yes', 'no', 'yes', 'yes', 'yes', 'no', 'yes', 'yes'],\n",
    "    'prediction': ['yes', 'no', 'yes', 'yes', 'yes', 'yes', 'no', 'no', 'yes', 'no', 'yes', 'yes', 'yes']\n",
    "})\n",
    "glasses"
   ]
  },
  {
   "cell_type": "markdown",
   "id": "66e00580",
   "metadata": {},
   "source": [
    "### Confusion Matrix\n",
    "  \n",
    "A table of prediction vs actual."
   ]
  },
  {
   "cell_type": "code",
   "execution_count": 53,
   "id": "6635f20f",
   "metadata": {},
   "outputs": [
    {
     "data": {
      "text/html": [
       "<div>\n",
       "<style scoped>\n",
       "    .dataframe tbody tr th:only-of-type {\n",
       "        vertical-align: middle;\n",
       "    }\n",
       "\n",
       "    .dataframe tbody tr th {\n",
       "        vertical-align: top;\n",
       "    }\n",
       "\n",
       "    .dataframe thead th {\n",
       "        text-align: right;\n",
       "    }\n",
       "</style>\n",
       "<table border=\"1\" class=\"dataframe\">\n",
       "  <thead>\n",
       "    <tr style=\"text-align: right;\">\n",
       "      <th>prediction</th>\n",
       "      <th>no</th>\n",
       "      <th>yes</th>\n",
       "    </tr>\n",
       "    <tr>\n",
       "      <th>actual</th>\n",
       "      <th></th>\n",
       "      <th></th>\n",
       "    </tr>\n",
       "  </thead>\n",
       "  <tbody>\n",
       "    <tr>\n",
       "      <th>no</th>\n",
       "      <td>2</td>\n",
       "      <td>2</td>\n",
       "    </tr>\n",
       "    <tr>\n",
       "      <th>yes</th>\n",
       "      <td>2</td>\n",
       "      <td>7</td>\n",
       "    </tr>\n",
       "  </tbody>\n",
       "</table>\n",
       "</div>"
      ],
      "text/plain": [
       "prediction  no  yes\n",
       "actual             \n",
       "no           2    2\n",
       "yes          2    7"
      ]
     },
     "execution_count": 53,
     "metadata": {},
     "output_type": "execute_result"
    }
   ],
   "source": [
    "pd.crosstab(glasses['actual'], glasses['prediction'])"
   ]
  },
  {
   "cell_type": "code",
   "execution_count": 54,
   "id": "c7120331",
   "metadata": {},
   "outputs": [
    {
     "data": {
      "text/plain": [
       "array([[2, 2],\n",
       "       [2, 7]])"
      ]
     },
     "execution_count": 54,
     "metadata": {},
     "output_type": "execute_result"
    }
   ],
   "source": [
    "# from sklearn, get an array format of the crosstab table\n",
    "\n",
    "sklearn.metrics.confusion_matrix(glasses['actual'], glasses['prediction'])"
   ]
  },
  {
   "cell_type": "code",
   "execution_count": null,
   "id": "b4b14ff9",
   "metadata": {},
   "outputs": [],
   "source": []
  },
  {
   "cell_type": "markdown",
   "id": "bdf4fa64",
   "metadata": {},
   "source": [
    "### Baseline  \n",
    "\n",
    "All supervised machine-learning projects need a baseline to be determined, based on our data.  \n",
    "\n"
   ]
  },
  {
   "cell_type": "code",
   "execution_count": 55,
   "id": "c72316da",
   "metadata": {},
   "outputs": [
    {
     "data": {
      "text/plain": [
       "yes    9\n",
       "no     4\n",
       "Name: actual, dtype: int64"
      ]
     },
     "execution_count": 55,
     "metadata": {},
     "output_type": "execute_result"
    }
   ],
   "source": [
    "glasses['actual'].value_counts()\n",
    "\n",
    "# returns total nº yes / total nº no in confusion matrix"
   ]
  },
  {
   "cell_type": "code",
   "execution_count": 67,
   "id": "5dd9f2c6",
   "metadata": {},
   "outputs": [
    {
     "data": {
      "text/html": [
       "<div>\n",
       "<style scoped>\n",
       "    .dataframe tbody tr th:only-of-type {\n",
       "        vertical-align: middle;\n",
       "    }\n",
       "\n",
       "    .dataframe tbody tr th {\n",
       "        vertical-align: top;\n",
       "    }\n",
       "\n",
       "    .dataframe thead th {\n",
       "        text-align: right;\n",
       "    }\n",
       "</style>\n",
       "<table border=\"1\" class=\"dataframe\">\n",
       "  <thead>\n",
       "    <tr style=\"text-align: right;\">\n",
       "      <th></th>\n",
       "      <th>actual</th>\n",
       "      <th>prediction</th>\n",
       "      <th>baseline</th>\n",
       "    </tr>\n",
       "  </thead>\n",
       "  <tbody>\n",
       "    <tr>\n",
       "      <th>0</th>\n",
       "      <td>yes</td>\n",
       "      <td>yes</td>\n",
       "      <td>yes</td>\n",
       "    </tr>\n",
       "    <tr>\n",
       "      <th>1</th>\n",
       "      <td>no</td>\n",
       "      <td>no</td>\n",
       "      <td>yes</td>\n",
       "    </tr>\n",
       "    <tr>\n",
       "      <th>2</th>\n",
       "      <td>no</td>\n",
       "      <td>yes</td>\n",
       "      <td>yes</td>\n",
       "    </tr>\n",
       "    <tr>\n",
       "      <th>3</th>\n",
       "      <td>yes</td>\n",
       "      <td>yes</td>\n",
       "      <td>yes</td>\n",
       "    </tr>\n",
       "    <tr>\n",
       "      <th>4</th>\n",
       "      <td>yes</td>\n",
       "      <td>yes</td>\n",
       "      <td>yes</td>\n",
       "    </tr>\n",
       "    <tr>\n",
       "      <th>5</th>\n",
       "      <td>yes</td>\n",
       "      <td>yes</td>\n",
       "      <td>yes</td>\n",
       "    </tr>\n",
       "    <tr>\n",
       "      <th>6</th>\n",
       "      <td>no</td>\n",
       "      <td>no</td>\n",
       "      <td>yes</td>\n",
       "    </tr>\n",
       "    <tr>\n",
       "      <th>7</th>\n",
       "      <td>yes</td>\n",
       "      <td>no</td>\n",
       "      <td>yes</td>\n",
       "    </tr>\n",
       "    <tr>\n",
       "      <th>8</th>\n",
       "      <td>yes</td>\n",
       "      <td>yes</td>\n",
       "      <td>yes</td>\n",
       "    </tr>\n",
       "    <tr>\n",
       "      <th>9</th>\n",
       "      <td>yes</td>\n",
       "      <td>no</td>\n",
       "      <td>yes</td>\n",
       "    </tr>\n",
       "    <tr>\n",
       "      <th>10</th>\n",
       "      <td>no</td>\n",
       "      <td>yes</td>\n",
       "      <td>yes</td>\n",
       "    </tr>\n",
       "    <tr>\n",
       "      <th>11</th>\n",
       "      <td>yes</td>\n",
       "      <td>yes</td>\n",
       "      <td>yes</td>\n",
       "    </tr>\n",
       "    <tr>\n",
       "      <th>12</th>\n",
       "      <td>yes</td>\n",
       "      <td>yes</td>\n",
       "      <td>yes</td>\n",
       "    </tr>\n",
       "  </tbody>\n",
       "</table>\n",
       "</div>"
      ],
      "text/plain": [
       "   actual prediction baseline\n",
       "0     yes        yes      yes\n",
       "1      no         no      yes\n",
       "2      no        yes      yes\n",
       "3     yes        yes      yes\n",
       "4     yes        yes      yes\n",
       "5     yes        yes      yes\n",
       "6      no         no      yes\n",
       "7     yes         no      yes\n",
       "8     yes        yes      yes\n",
       "9     yes         no      yes\n",
       "10     no        yes      yes\n",
       "11    yes        yes      yes\n",
       "12    yes        yes      yes"
      ]
     },
     "execution_count": 67,
     "metadata": {},
     "output_type": "execute_result"
    }
   ],
   "source": [
    "glasses['baseline'] = 'yes'\n",
    "glasses\n",
    "\n",
    "# talk about pc increase over the baseline, but the baseline can be \n",
    "# established (somewhat) according to one's determining\n",
    "\n",
    "# choosing 'yes' bc it's the most numerous category in total values."
   ]
  },
  {
   "cell_type": "code",
   "execution_count": null,
   "id": "8c5969d7",
   "metadata": {},
   "outputs": [],
   "source": []
  },
  {
   "cell_type": "markdown",
   "id": "74939938",
   "metadata": {},
   "source": [
    "### Accuracy  \n",
    "\n",
    "- Out of all of our guesses, how many times we get it correct.  \n",
    "( How many times did I guess correctly over how many times did I guess in total ?  )\n",
    "\n",
    "-  (TP + TN) / (TP + FP + TN + FN) "
   ]
  },
  {
   "cell_type": "code",
   "execution_count": 68,
   "id": "c9746a34",
   "metadata": {},
   "outputs": [
    {
     "data": {
      "text/plain": [
       "0      True\n",
       "1     False\n",
       "2     False\n",
       "3      True\n",
       "4      True\n",
       "5      True\n",
       "6     False\n",
       "7      True\n",
       "8      True\n",
       "9      True\n",
       "10    False\n",
       "11     True\n",
       "12     True\n",
       "dtype: bool"
      ]
     },
     "execution_count": 68,
     "metadata": {},
     "output_type": "execute_result"
    }
   ],
   "source": [
    "# calculate using 'glasses' df.\n",
    "\n",
    "glasses['baseline'] == glasses['actual']\n",
    "\n",
    "# Boolean baseline (T = 1, F = 0)"
   ]
  },
  {
   "cell_type": "code",
   "execution_count": 69,
   "id": "d99e9bfe",
   "metadata": {},
   "outputs": [],
   "source": [
    "baseline_accuracy = (glasses['baseline'] == glasses['actual']).mean()\n",
    "\n",
    "# my baseline is relatively high : 69.23pc of guessing correctly"
   ]
  },
  {
   "cell_type": "code",
   "execution_count": 70,
   "id": "0d41d1b3",
   "metadata": {},
   "outputs": [
    {
     "data": {
      "text/plain": [
       "69.23076923076923"
      ]
     },
     "execution_count": 70,
     "metadata": {},
     "output_type": "execute_result"
    }
   ],
   "source": [
    "baseline_accuracy * 100"
   ]
  },
  {
   "cell_type": "code",
   "execution_count": 71,
   "id": "d07f95e8",
   "metadata": {},
   "outputs": [
    {
     "data": {
      "text/plain": [
       "0.6923076923076923"
      ]
     },
     "execution_count": 71,
     "metadata": {},
     "output_type": "execute_result"
    }
   ],
   "source": [
    "(glasses['prediction'] == glasses['actual']).mean()\n",
    "\n",
    "# a 69pc accuracy in model prediction"
   ]
  },
  {
   "cell_type": "code",
   "execution_count": 26,
   "id": "2e0ec9e0",
   "metadata": {},
   "outputs": [],
   "source": [
    "glasses = glasses.drop(columns = 'base')"
   ]
  },
  {
   "cell_type": "markdown",
   "id": "6d8d6304",
   "metadata": {},
   "source": [
    "### Precision  \n",
    "\n",
    "Of all the times that I guess the positive case, how many times do I guess correctly ?\n",
    "\n",
    "- Precision / PPV  =  TP / (TP + FP)  \n",
    "- Precision is based on the positive case, but I'm the one who determines which is the positive case.\n",
    "\n",
    "Every time that the model makes a FP prediction, it harms business. This is why precision is important."
   ]
  },
  {
   "cell_type": "code",
   "execution_count": 72,
   "id": "78c30967",
   "metadata": {},
   "outputs": [
    {
     "data": {
      "text/plain": [
       "0      True\n",
       "1     False\n",
       "2      True\n",
       "3      True\n",
       "4      True\n",
       "5      True\n",
       "6     False\n",
       "7     False\n",
       "8      True\n",
       "9     False\n",
       "10     True\n",
       "11     True\n",
       "12     True\n",
       "Name: prediction, dtype: bool"
      ]
     },
     "execution_count": 72,
     "metadata": {},
     "output_type": "execute_result"
    }
   ],
   "source": [
    "# make a subset : all the element where we predicted CORRECTLY\n",
    "# Baseline = 0\n",
    "\n",
    "subset = glasses['prediction'] == 'yes'\n",
    "subset\n",
    "\n",
    "# Boolean series : Make a Boolean mask"
   ]
  },
  {
   "cell_type": "code",
   "execution_count": 73,
   "id": "c153bee5",
   "metadata": {},
   "outputs": [
    {
     "data": {
      "text/html": [
       "<div>\n",
       "<style scoped>\n",
       "    .dataframe tbody tr th:only-of-type {\n",
       "        vertical-align: middle;\n",
       "    }\n",
       "\n",
       "    .dataframe tbody tr th {\n",
       "        vertical-align: top;\n",
       "    }\n",
       "\n",
       "    .dataframe thead th {\n",
       "        text-align: right;\n",
       "    }\n",
       "</style>\n",
       "<table border=\"1\" class=\"dataframe\">\n",
       "  <thead>\n",
       "    <tr style=\"text-align: right;\">\n",
       "      <th></th>\n",
       "      <th>actual</th>\n",
       "      <th>prediction</th>\n",
       "      <th>baseline</th>\n",
       "    </tr>\n",
       "  </thead>\n",
       "  <tbody>\n",
       "    <tr>\n",
       "      <th>0</th>\n",
       "      <td>yes</td>\n",
       "      <td>yes</td>\n",
       "      <td>yes</td>\n",
       "    </tr>\n",
       "    <tr>\n",
       "      <th>2</th>\n",
       "      <td>no</td>\n",
       "      <td>yes</td>\n",
       "      <td>yes</td>\n",
       "    </tr>\n",
       "    <tr>\n",
       "      <th>3</th>\n",
       "      <td>yes</td>\n",
       "      <td>yes</td>\n",
       "      <td>yes</td>\n",
       "    </tr>\n",
       "    <tr>\n",
       "      <th>4</th>\n",
       "      <td>yes</td>\n",
       "      <td>yes</td>\n",
       "      <td>yes</td>\n",
       "    </tr>\n",
       "    <tr>\n",
       "      <th>5</th>\n",
       "      <td>yes</td>\n",
       "      <td>yes</td>\n",
       "      <td>yes</td>\n",
       "    </tr>\n",
       "    <tr>\n",
       "      <th>8</th>\n",
       "      <td>yes</td>\n",
       "      <td>yes</td>\n",
       "      <td>yes</td>\n",
       "    </tr>\n",
       "    <tr>\n",
       "      <th>10</th>\n",
       "      <td>no</td>\n",
       "      <td>yes</td>\n",
       "      <td>yes</td>\n",
       "    </tr>\n",
       "    <tr>\n",
       "      <th>11</th>\n",
       "      <td>yes</td>\n",
       "      <td>yes</td>\n",
       "      <td>yes</td>\n",
       "    </tr>\n",
       "    <tr>\n",
       "      <th>12</th>\n",
       "      <td>yes</td>\n",
       "      <td>yes</td>\n",
       "      <td>yes</td>\n",
       "    </tr>\n",
       "  </tbody>\n",
       "</table>\n",
       "</div>"
      ],
      "text/plain": [
       "   actual prediction baseline\n",
       "0     yes        yes      yes\n",
       "2      no        yes      yes\n",
       "3     yes        yes      yes\n",
       "4     yes        yes      yes\n",
       "5     yes        yes      yes\n",
       "8     yes        yes      yes\n",
       "10     no        yes      yes\n",
       "11    yes        yes      yes\n",
       "12    yes        yes      yes"
      ]
     },
     "execution_count": 73,
     "metadata": {},
     "output_type": "execute_result"
    }
   ],
   "source": [
    "# Boolean series : Make a Boolean mask\n",
    "\n",
    "precision_df = glasses[subset]\n",
    "precision_df"
   ]
  },
  {
   "cell_type": "code",
   "execution_count": 74,
   "id": "abcd5da1",
   "metadata": {},
   "outputs": [
    {
     "data": {
      "text/plain": [
       "0.7777777777777778"
      ]
     },
     "execution_count": 74,
     "metadata": {},
     "output_type": "execute_result"
    }
   ],
   "source": [
    "(precision_df['prediction'] == precision_df['actual']).mean()\n",
    "\n",
    "## this means that we predicted correctly 78pc of the times."
   ]
  },
  {
   "cell_type": "code",
   "execution_count": null,
   "id": "adb62eea",
   "metadata": {},
   "outputs": [],
   "source": []
  },
  {
   "cell_type": "markdown",
   "id": "3d2fc305",
   "metadata": {},
   "source": [
    "### Recall\n",
    "\n",
    "- Recall / Sensitivity : TP / (TP + FN)  \n",
    "    \n",
    "Of all actual positive cases, how many did I correctly identify ?  \n",
    "FN is included bc, even though I guessed incorrectly, it was a positive case.\n",
    "\n",
    "- Example : Caputure all possible positive events of hacking at a bank.\n",
    "    - But, we could start to get more false positives (and your account gets locked when you forget your password)."
   ]
  },
  {
   "cell_type": "code",
   "execution_count": 75,
   "id": "779e7639",
   "metadata": {},
   "outputs": [
    {
     "data": {
      "text/plain": [
       "0      True\n",
       "1     False\n",
       "2     False\n",
       "3      True\n",
       "4      True\n",
       "5      True\n",
       "6     False\n",
       "7      True\n",
       "8      True\n",
       "9      True\n",
       "10    False\n",
       "11     True\n",
       "12     True\n",
       "Name: actual, dtype: bool"
      ]
     },
     "execution_count": 75,
     "metadata": {},
     "output_type": "execute_result"
    }
   ],
   "source": [
    "recall_subset = glasses['actual'] == 'yes'\n",
    "\n",
    "recall_subset"
   ]
  },
  {
   "cell_type": "code",
   "execution_count": 76,
   "id": "a1e12936",
   "metadata": {},
   "outputs": [
    {
     "data": {
      "text/html": [
       "<div>\n",
       "<style scoped>\n",
       "    .dataframe tbody tr th:only-of-type {\n",
       "        vertical-align: middle;\n",
       "    }\n",
       "\n",
       "    .dataframe tbody tr th {\n",
       "        vertical-align: top;\n",
       "    }\n",
       "\n",
       "    .dataframe thead th {\n",
       "        text-align: right;\n",
       "    }\n",
       "</style>\n",
       "<table border=\"1\" class=\"dataframe\">\n",
       "  <thead>\n",
       "    <tr style=\"text-align: right;\">\n",
       "      <th></th>\n",
       "      <th>actual</th>\n",
       "      <th>prediction</th>\n",
       "      <th>baseline</th>\n",
       "    </tr>\n",
       "  </thead>\n",
       "  <tbody>\n",
       "    <tr>\n",
       "      <th>0</th>\n",
       "      <td>yes</td>\n",
       "      <td>yes</td>\n",
       "      <td>yes</td>\n",
       "    </tr>\n",
       "    <tr>\n",
       "      <th>3</th>\n",
       "      <td>yes</td>\n",
       "      <td>yes</td>\n",
       "      <td>yes</td>\n",
       "    </tr>\n",
       "    <tr>\n",
       "      <th>4</th>\n",
       "      <td>yes</td>\n",
       "      <td>yes</td>\n",
       "      <td>yes</td>\n",
       "    </tr>\n",
       "    <tr>\n",
       "      <th>5</th>\n",
       "      <td>yes</td>\n",
       "      <td>yes</td>\n",
       "      <td>yes</td>\n",
       "    </tr>\n",
       "    <tr>\n",
       "      <th>7</th>\n",
       "      <td>yes</td>\n",
       "      <td>no</td>\n",
       "      <td>yes</td>\n",
       "    </tr>\n",
       "    <tr>\n",
       "      <th>8</th>\n",
       "      <td>yes</td>\n",
       "      <td>yes</td>\n",
       "      <td>yes</td>\n",
       "    </tr>\n",
       "    <tr>\n",
       "      <th>9</th>\n",
       "      <td>yes</td>\n",
       "      <td>no</td>\n",
       "      <td>yes</td>\n",
       "    </tr>\n",
       "    <tr>\n",
       "      <th>11</th>\n",
       "      <td>yes</td>\n",
       "      <td>yes</td>\n",
       "      <td>yes</td>\n",
       "    </tr>\n",
       "    <tr>\n",
       "      <th>12</th>\n",
       "      <td>yes</td>\n",
       "      <td>yes</td>\n",
       "      <td>yes</td>\n",
       "    </tr>\n",
       "  </tbody>\n",
       "</table>\n",
       "</div>"
      ],
      "text/plain": [
       "   actual prediction baseline\n",
       "0     yes        yes      yes\n",
       "3     yes        yes      yes\n",
       "4     yes        yes      yes\n",
       "5     yes        yes      yes\n",
       "7     yes         no      yes\n",
       "8     yes        yes      yes\n",
       "9     yes         no      yes\n",
       "11    yes        yes      yes\n",
       "12    yes        yes      yes"
      ]
     },
     "execution_count": 76,
     "metadata": {},
     "output_type": "execute_result"
    }
   ],
   "source": [
    "## mask it with Boolean masking\n",
    "\n",
    "recall_df = glasses[recall_subset]\n",
    "recall_df"
   ]
  },
  {
   "cell_type": "code",
   "execution_count": 77,
   "id": "ab0cb3c9",
   "metadata": {},
   "outputs": [
    {
     "data": {
      "text/plain": [
       "0      True\n",
       "3      True\n",
       "4      True\n",
       "5      True\n",
       "7     False\n",
       "8      True\n",
       "9     False\n",
       "11     True\n",
       "12     True\n",
       "dtype: bool"
      ]
     },
     "execution_count": 77,
     "metadata": {},
     "output_type": "execute_result"
    }
   ],
   "source": [
    "recall_df['prediction' ] == recall_df['actual']"
   ]
  },
  {
   "cell_type": "code",
   "execution_count": 78,
   "id": "d616c1ee",
   "metadata": {},
   "outputs": [
    {
     "data": {
      "text/plain": [
       "0.7777777777777778"
      ]
     },
     "execution_count": 78,
     "metadata": {},
     "output_type": "execute_result"
    }
   ],
   "source": [
    "(recall_df['prediction' ] == recall_df['actual']).mean()\n",
    "\n",
    "# based on the actual values being 'yes' (cf Precision, which was the predicted values being 'yes')"
   ]
  },
  {
   "cell_type": "code",
   "execution_count": null,
   "id": "0a5e3111",
   "metadata": {},
   "outputs": [],
   "source": []
  },
  {
   "cell_type": "markdown",
   "id": "405ef0f1",
   "metadata": {},
   "source": [
    "### Other Metrics\n",
    "\n",
    "- Misclassification Rate : The rate of being inaccurate : 1 - accuracy.    \n",
    "- Sensitivity : Detection of the positive class (aka, Recall). How well able to detect the positive case. Be careful of increased FPs.  \n",
    "- Specificity : Correct detection of the negative class (ie, Recall for the negative class). \n",
    "- False Positive Rate : Rate at which model produces FPs.\n",
    "- F1 Score : The harmonic mean of Precision & Recall.  \n",
    "- AUC-ROC : Area under the receiver operating characteristic curve : Increase in rate of TP guesses also increases FP predictions."
   ]
  },
  {
   "cell_type": "code",
   "execution_count": null,
   "id": "b97863e5",
   "metadata": {},
   "outputs": [],
   "source": []
  },
  {
   "cell_type": "markdown",
   "id": "26fde44c",
   "metadata": {},
   "source": [
    "### Multiclass Classification\n",
    "\n"
   ]
  },
  {
   "cell_type": "code",
   "execution_count": 79,
   "id": "58d4a8c0",
   "metadata": {},
   "outputs": [
    {
     "data": {
      "text/plain": [
       "'              precision    recall  f1-score   support\\n\\n          no       0.50      0.50      0.50         4\\n         yes       0.78      0.78      0.78         9\\n\\n    accuracy                           0.69        13\\n   macro avg       0.64      0.64      0.64        13\\nweighted avg       0.69      0.69      0.69        13\\n'"
      ]
     },
     "execution_count": 79,
     "metadata": {},
     "output_type": "execute_result"
    }
   ],
   "source": [
    "sklearn.metrics.classification_report(glasses['actual'], glasses['prediction'])"
   ]
  },
  {
   "cell_type": "code",
   "execution_count": 80,
   "id": "147470f5",
   "metadata": {},
   "outputs": [
    {
     "name": "stdout",
     "output_type": "stream",
     "text": [
      "              precision    recall  f1-score   support\n",
      "\n",
      "          no       0.50      0.50      0.50         4\n",
      "         yes       0.78      0.78      0.78         9\n",
      "\n",
      "    accuracy                           0.69        13\n",
      "   macro avg       0.64      0.64      0.64        13\n",
      "weighted avg       0.69      0.69      0.69        13\n",
      "\n"
     ]
    }
   ],
   "source": [
    "print(sklearn.metrics.classification_report(glasses['actual'], glasses['prediction']))\n",
    "\n",
    "# two different ways of average : \n",
    "# macro  (average of 0.50 & 0.78), \n",
    "# weighted (skewed toward the most prevalent class in the classification, here, 'yes')"
   ]
  }
 ],
 "metadata": {
  "kernelspec": {
   "display_name": "Python 3 (ipykernel)",
   "language": "python",
   "name": "python3"
  },
  "language_info": {
   "codemirror_mode": {
    "name": "ipython",
    "version": 3
   },
   "file_extension": ".py",
   "mimetype": "text/x-python",
   "name": "python",
   "nbconvert_exporter": "python",
   "pygments_lexer": "ipython3",
   "version": "3.9.13"
  }
 },
 "nbformat": 4,
 "nbformat_minor": 5
}
