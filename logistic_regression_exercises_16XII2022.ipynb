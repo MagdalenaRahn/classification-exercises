{
 "cells": [
  {
   "cell_type": "markdown",
   "id": "908bee78",
   "metadata": {},
   "source": [
    "<h1 style=\"background-color:Tomato;\">Logistic Regression Exercises`"
   ]
  },
  {
   "cell_type": "code",
   "execution_count": 35,
   "id": "0aaace79",
   "metadata": {},
   "outputs": [],
   "source": [
    "import numpy as np\n",
    "import pandas as pd\n",
    "import matplotlib.pyplot as plt\n",
    "import seaborn as sns\n",
    "import sklearn\n",
    "from sklearn.model_selection import train_test_split\n",
    "from sklearn.tree import DecisionTreeClassifier, plot_tree\n",
    "from sklearn.metrics import classification_report, confusion_matrix, plot_confusion_matrix\n",
    "from sklearn.ensemble import RandomForestClassifier\n",
    "from sklearn.linear_model import LogisticRegression\n",
    "\n",
    "import env\n",
    "import acquire\n",
    "\n",
    "import warnings\n",
    "warnings.filterwarnings(\"ignore\")"
   ]
  },
  {
   "cell_type": "markdown",
   "id": "f431c13e",
   "metadata": {},
   "source": [
    "\n",
    "Use the Titanic dataset."
   ]
  },
  {
   "cell_type": "code",
   "execution_count": 36,
   "id": "fcc48a64",
   "metadata": {},
   "outputs": [],
   "source": [
    "tati = pd.read_csv('titanic.csv')"
   ]
  },
  {
   "cell_type": "code",
   "execution_count": 37,
   "id": "8c89df37",
   "metadata": {},
   "outputs": [],
   "source": [
    "    tati = pd.read_csv('titanic.csv')\n",
    "    \n",
    "    to_drop = ['deck', 'Unnamed: 0',  'embarked', 'passenger_id', 'class']\n",
    "    # indicating which unnecessary or superfluous columns to drop\n",
    "\n",
    "    tati.drop(columns = to_drop, inplace = True)\n",
    "    # dropping unnecessary or superfluous columns \n",
    "\n",
    "    tati = tati.dropna()\n",
    "    #  drop rows with nulls\n",
    "\n",
    "\n",
    "    # creating dummies in order to help machine learning\n",
    "    tatdum = pd.get_dummies(tati[['embark_town', 'sex']], drop_first = True)\n",
    "\n",
    "    # now that we have the DF and the dummies, use concatenation to join the two :\n",
    "    pd.concat([tati, tatdum], axis = 1)\n",
    "\n",
    "    # assigning it a variable for permanence\n",
    "    tati = pd.concat([tati, tatdum], axis = 1)\n",
    "    tati.head()\n",
    "\n",
    "    # dropping columns for machine learning purposes (don't do this for exploration purposes)\n",
    "    tati = tati.drop(columns = ['embark_town', 'sex'], axis = 1)\n",
    "    tati.columns\n",
    "\n",
    "    # setting the 'survived' column to Boolean T / F\n",
    "    tati['survived'] = np.where(tati['survived'] == True, 1, 0)"
   ]
  },
  {
   "cell_type": "code",
   "execution_count": 38,
   "id": "bbb9511e",
   "metadata": {},
   "outputs": [
    {
     "name": "stdout",
     "output_type": "stream",
     "text": [
      "<class 'pandas.core.frame.DataFrame'>\n",
      "Int64Index: 712 entries, 0 to 890\n",
      "Data columns (total 10 columns):\n",
      " #   Column                   Non-Null Count  Dtype  \n",
      "---  ------                   --------------  -----  \n",
      " 0   survived                 712 non-null    int64  \n",
      " 1   pclass                   712 non-null    int64  \n",
      " 2   age                      712 non-null    float64\n",
      " 3   sibsp                    712 non-null    int64  \n",
      " 4   parch                    712 non-null    int64  \n",
      " 5   fare                     712 non-null    float64\n",
      " 6   alone                    712 non-null    int64  \n",
      " 7   embark_town_Queenstown   712 non-null    uint8  \n",
      " 8   embark_town_Southampton  712 non-null    uint8  \n",
      " 9   sex_male                 712 non-null    uint8  \n",
      "dtypes: float64(2), int64(5), uint8(3)\n",
      "memory usage: 46.6 KB\n"
     ]
    }
   ],
   "source": [
    "tati.info()  \n"
   ]
  },
  {
   "cell_type": "code",
   "execution_count": null,
   "id": "e9823d10",
   "metadata": {},
   "outputs": [],
   "source": []
  },
  {
   "cell_type": "code",
   "execution_count": null,
   "id": "5825094e",
   "metadata": {},
   "outputs": [],
   "source": []
  },
  {
   "cell_type": "code",
   "execution_count": 39,
   "id": "d4bf4300",
   "metadata": {},
   "outputs": [],
   "source": [
    "# split data before getting baseline"
   ]
  },
  {
   "cell_type": "code",
   "execution_count": 40,
   "id": "943d9d0d",
   "metadata": {},
   "outputs": [],
   "source": [
    "def train_val_test(df, target, seed = 23):\n",
    "    \n",
    "    train, val_test = train_test_split(df, train_size = 0.7, \n",
    "                                       random_state = seed, \n",
    "                                       stratify = df[target])\n",
    "    \n",
    "    val, test = train_test_split(val_test, train_size = 0.5, \n",
    "                                 random_state = seed, \n",
    "                                 stratify = val_test[target])\n",
    "    \n",
    "    return train, val, test\n",
    "\n",
    "## function to train, validate, test data"
   ]
  },
  {
   "cell_type": "code",
   "execution_count": 41,
   "id": "fdcd1000",
   "metadata": {},
   "outputs": [
    {
     "data": {
      "text/plain": [
       "((498, 10), (107, 10), (107, 10))"
      ]
     },
     "execution_count": 41,
     "metadata": {},
     "output_type": "execute_result"
    }
   ],
   "source": [
    "train, val, test  = train_val_test(tati, 'survived')\n",
    "\n",
    "train.shape, val.shape, test.shape\n",
    "\n",
    "# returning the data shapes / sizes to be trained, validated, tested"
   ]
  },
  {
   "cell_type": "code",
   "execution_count": 42,
   "id": "1cd08bdc",
   "metadata": {},
   "outputs": [],
   "source": [
    "# split train, val, test into X_train, X_val, X_test (feature DF, exludes var 'survived') and y-train, etc\n",
    "\n",
    "# y_train is only our target\n",
    "\n",
    "# X_train is everything except for 'survived'\n",
    "\n",
    "X_train = train.drop(columns = ['survived'])\n",
    "y_train = train['survived']\n",
    "\n",
    "\n",
    "X_val = val.drop(columns = ['survived'])\n",
    "y_val = val['survived']\n",
    "\n",
    "\n",
    "X_test = test.drop(columns = ['survived'])\n",
    "y_test = test['survived']"
   ]
  },
  {
   "cell_type": "code",
   "execution_count": 43,
   "id": "80f55431",
   "metadata": {},
   "outputs": [
    {
     "name": "stdout",
     "output_type": "stream",
     "text": [
      "The baseline survival accuracy rate is 0.5963855421686747.\n"
     ]
    }
   ],
   "source": [
    "# baseline for survival is to die (ie, ['survived'] == '0').\n",
    "# compute baseline based on y_train (a series)\n",
    "\n",
    "bline_pred = y_train.mode() # most common value = 0\n",
    "\n",
    "set_baseline_prediction = y_train == 0\n",
    "\n",
    "# take mean of set_baseline_prediction and that is the accuracy\n",
    "bline = set_baseline_prediction.mean()\n",
    "# Boolean baseline (T = 1, F = 0)\n",
    "\n",
    "print(f\"The baseline survival accuracy rate is {bline}.\")"
   ]
  },
  {
   "cell_type": "markdown",
   "id": "4073178c",
   "metadata": {},
   "source": [
    "**<p style=\"background-color:Tomato;\"> 1 / Create a model with only age, fare and pclass. Does this model perform better than your baseline ?**"
   ]
  },
  {
   "cell_type": "code",
   "execution_count": 91,
   "id": "fedd5c8e",
   "metadata": {},
   "outputs": [],
   "source": [
    "# set a variable equal to the logistic regression object \n",
    "# set using default values\n",
    "\n",
    "seed = 23\n",
    "\n",
    "logit_afp = LogisticRegression(C = 1, random_state = seed,\n",
    "                              intercept_scaling = 1,\n",
    "                              solver = 'liblinear')"
   ]
  },
  {
   "cell_type": "code",
   "execution_count": 92,
   "id": "0409adbe",
   "metadata": {},
   "outputs": [
    {
     "data": {
      "text/html": [
       "<style>#sk-container-id-7 {color: black;background-color: white;}#sk-container-id-7 pre{padding: 0;}#sk-container-id-7 div.sk-toggleable {background-color: white;}#sk-container-id-7 label.sk-toggleable__label {cursor: pointer;display: block;width: 100%;margin-bottom: 0;padding: 0.3em;box-sizing: border-box;text-align: center;}#sk-container-id-7 label.sk-toggleable__label-arrow:before {content: \"▸\";float: left;margin-right: 0.25em;color: #696969;}#sk-container-id-7 label.sk-toggleable__label-arrow:hover:before {color: black;}#sk-container-id-7 div.sk-estimator:hover label.sk-toggleable__label-arrow:before {color: black;}#sk-container-id-7 div.sk-toggleable__content {max-height: 0;max-width: 0;overflow: hidden;text-align: left;background-color: #f0f8ff;}#sk-container-id-7 div.sk-toggleable__content pre {margin: 0.2em;color: black;border-radius: 0.25em;background-color: #f0f8ff;}#sk-container-id-7 input.sk-toggleable__control:checked~div.sk-toggleable__content {max-height: 200px;max-width: 100%;overflow: auto;}#sk-container-id-7 input.sk-toggleable__control:checked~label.sk-toggleable__label-arrow:before {content: \"▾\";}#sk-container-id-7 div.sk-estimator input.sk-toggleable__control:checked~label.sk-toggleable__label {background-color: #d4ebff;}#sk-container-id-7 div.sk-label input.sk-toggleable__control:checked~label.sk-toggleable__label {background-color: #d4ebff;}#sk-container-id-7 input.sk-hidden--visually {border: 0;clip: rect(1px 1px 1px 1px);clip: rect(1px, 1px, 1px, 1px);height: 1px;margin: -1px;overflow: hidden;padding: 0;position: absolute;width: 1px;}#sk-container-id-7 div.sk-estimator {font-family: monospace;background-color: #f0f8ff;border: 1px dotted black;border-radius: 0.25em;box-sizing: border-box;margin-bottom: 0.5em;}#sk-container-id-7 div.sk-estimator:hover {background-color: #d4ebff;}#sk-container-id-7 div.sk-parallel-item::after {content: \"\";width: 100%;border-bottom: 1px solid gray;flex-grow: 1;}#sk-container-id-7 div.sk-label:hover label.sk-toggleable__label {background-color: #d4ebff;}#sk-container-id-7 div.sk-serial::before {content: \"\";position: absolute;border-left: 1px solid gray;box-sizing: border-box;top: 0;bottom: 0;left: 50%;z-index: 0;}#sk-container-id-7 div.sk-serial {display: flex;flex-direction: column;align-items: center;background-color: white;padding-right: 0.2em;padding-left: 0.2em;position: relative;}#sk-container-id-7 div.sk-item {position: relative;z-index: 1;}#sk-container-id-7 div.sk-parallel {display: flex;align-items: stretch;justify-content: center;background-color: white;position: relative;}#sk-container-id-7 div.sk-item::before, #sk-container-id-7 div.sk-parallel-item::before {content: \"\";position: absolute;border-left: 1px solid gray;box-sizing: border-box;top: 0;bottom: 0;left: 50%;z-index: -1;}#sk-container-id-7 div.sk-parallel-item {display: flex;flex-direction: column;z-index: 1;position: relative;background-color: white;}#sk-container-id-7 div.sk-parallel-item:first-child::after {align-self: flex-end;width: 50%;}#sk-container-id-7 div.sk-parallel-item:last-child::after {align-self: flex-start;width: 50%;}#sk-container-id-7 div.sk-parallel-item:only-child::after {width: 0;}#sk-container-id-7 div.sk-dashed-wrapped {border: 1px dashed gray;margin: 0 0.4em 0.5em 0.4em;box-sizing: border-box;padding-bottom: 0.4em;background-color: white;}#sk-container-id-7 div.sk-label label {font-family: monospace;font-weight: bold;display: inline-block;line-height: 1.2em;}#sk-container-id-7 div.sk-label-container {text-align: center;}#sk-container-id-7 div.sk-container {/* jupyter's `normalize.less` sets `[hidden] { display: none; }` but bootstrap.min.css set `[hidden] { display: none !important; }` so we also need the `!important` here to be able to override the default hidden behavior on the sphinx rendered scikit-learn.org. See: https://github.com/scikit-learn/scikit-learn/issues/21755 */display: inline-block !important;position: relative;}#sk-container-id-7 div.sk-text-repr-fallback {display: none;}</style><div id=\"sk-container-id-7\" class=\"sk-top-container\"><div class=\"sk-text-repr-fallback\"><pre>LogisticRegression(random_state=23)</pre><b>In a Jupyter environment, please rerun this cell to show the HTML representation or trust the notebook. <br />On GitHub, the HTML representation is unable to render, please try loading this page with nbviewer.org.</b></div><div class=\"sk-container\" hidden><div class=\"sk-item\"><div class=\"sk-estimator sk-toggleable\"><input class=\"sk-toggleable__control sk-hidden--visually\" id=\"sk-estimator-id-7\" type=\"checkbox\" checked><label for=\"sk-estimator-id-7\" class=\"sk-toggleable__label sk-toggleable__label-arrow\">LogisticRegression</label><div class=\"sk-toggleable__content\"><pre>LogisticRegression(random_state=23)</pre></div></div></div></div></div>"
      ],
      "text/plain": [
       "LogisticRegression(random_state=23)"
      ]
     },
     "execution_count": 92,
     "metadata": {},
     "output_type": "execute_result"
    }
   ],
   "source": [
    "# fit the objet to the train\n",
    "\n",
    "logit_afp.fit(X_train[['age', 'pclass','fare']], y_train)\n",
    "\n",
    "# selsecting columns from X_train to examine"
   ]
  },
  {
   "cell_type": "code",
   "execution_count": 93,
   "id": "27437740",
   "metadata": {},
   "outputs": [
    {
     "data": {
      "text/plain": [
       "array([0, 1])"
      ]
     },
     "execution_count": 93,
     "metadata": {},
     "output_type": "execute_result"
    }
   ],
   "source": [
    "logit_afp.classes_\n",
    "\n",
    "# the underscores_ indicate that it's an attribute"
   ]
  },
  {
   "cell_type": "code",
   "execution_count": 94,
   "id": "b7e528ee",
   "metadata": {},
   "outputs": [
    {
     "data": {
      "text/plain": [
       "array([[-0.05033246, -1.19434412,  0.00439945]])"
      ]
     },
     "execution_count": 94,
     "metadata": {},
     "output_type": "execute_result"
    }
   ],
   "source": [
    "logit_afp.coef_\n",
    "\n",
    "# coefficients are being returned in a list of a list."
   ]
  },
  {
   "cell_type": "code",
   "execution_count": 95,
   "id": "436be12b",
   "metadata": {},
   "outputs": [
    {
     "data": {
      "text/plain": [
       "array([-0.05033246, -1.19434412,  0.00439945])"
      ]
     },
     "execution_count": 95,
     "metadata": {},
     "output_type": "execute_result"
    }
   ],
   "source": [
    "logit_afp.coef_[0]"
   ]
  },
  {
   "cell_type": "code",
   "execution_count": 96,
   "id": "95125264",
   "metadata": {},
   "outputs": [
    {
     "data": {
      "text/plain": [
       "3"
      ]
     },
     "execution_count": 96,
     "metadata": {},
     "output_type": "execute_result"
    }
   ],
   "source": [
    "len(logit_afp.coef_[0])"
   ]
  },
  {
   "cell_type": "code",
   "execution_count": 97,
   "id": "7df4f9b9",
   "metadata": {},
   "outputs": [
    {
     "data": {
      "text/plain": [
       "9"
      ]
     },
     "execution_count": 97,
     "metadata": {},
     "output_type": "execute_result"
    }
   ],
   "source": [
    "len(X_train.columns)"
   ]
  },
  {
   "cell_type": "code",
   "execution_count": 98,
   "id": "c2ee5a47",
   "metadata": {},
   "outputs": [
    {
     "data": {
      "text/html": [
       "<div>\n",
       "<style scoped>\n",
       "    .dataframe tbody tr th:only-of-type {\n",
       "        vertical-align: middle;\n",
       "    }\n",
       "\n",
       "    .dataframe tbody tr th {\n",
       "        vertical-align: top;\n",
       "    }\n",
       "\n",
       "    .dataframe thead th {\n",
       "        text-align: right;\n",
       "    }\n",
       "</style>\n",
       "<table border=\"1\" class=\"dataframe\">\n",
       "  <thead>\n",
       "    <tr style=\"text-align: right;\">\n",
       "      <th></th>\n",
       "      <th>columns</th>\n",
       "      <th>coefficient</th>\n",
       "    </tr>\n",
       "  </thead>\n",
       "  <tbody>\n",
       "    <tr>\n",
       "      <th>0</th>\n",
       "      <td>age</td>\n",
       "      <td>-0.050332</td>\n",
       "    </tr>\n",
       "    <tr>\n",
       "      <th>1</th>\n",
       "      <td>pclass</td>\n",
       "      <td>-1.194344</td>\n",
       "    </tr>\n",
       "    <tr>\n",
       "      <th>2</th>\n",
       "      <td>fare</td>\n",
       "      <td>0.004399</td>\n",
       "    </tr>\n",
       "  </tbody>\n",
       "</table>\n",
       "</div>"
      ],
      "text/plain": [
       "  columns  coefficient\n",
       "0     age    -0.050332\n",
       "1  pclass    -1.194344\n",
       "2    fare     0.004399"
      ]
     },
     "execution_count": 98,
     "metadata": {},
     "output_type": "execute_result"
    }
   ],
   "source": [
    "# let's create a DF and 配 the features\n",
    "\n",
    "pd.DataFrame({'columns' : X_train[['age', 'pclass','fare']].columns,\n",
    "             'coefficient' : logit_afp.coef_[0]})\n",
    "\n",
    "# 'columns' : X_train[[...]].columns.tolist() returns the same results\n",
    "\n",
    "# the coefficient can be translated to the importance / weight of the feature. \n",
    "# the larger the coefficient, the more important the feature"
   ]
  },
  {
   "cell_type": "code",
   "execution_count": 99,
   "id": "06523a66",
   "metadata": {},
   "outputs": [
    {
     "data": {
      "text/plain": [
       "array([3.54943514])"
      ]
     },
     "execution_count": 99,
     "metadata": {},
     "output_type": "execute_result"
    }
   ],
   "source": [
    "# this is the y intercept on the graph\n",
    "logit_afp.intercept_\n",
    "\n",
    "\n",
    "# the 'coefficient' above are, in theory, the x-axis datapoints (??)"
   ]
  },
  {
   "cell_type": "code",
   "execution_count": null,
   "id": "c80f913b",
   "metadata": {},
   "outputs": [],
   "source": []
  },
  {
   "cell_type": "code",
   "execution_count": 100,
   "id": "2c9a8121",
   "metadata": {},
   "outputs": [
    {
     "data": {
      "text/plain": [
       "0.7188755020080321"
      ]
     },
     "execution_count": 100,
     "metadata": {},
     "output_type": "execute_result"
    }
   ],
   "source": [
    "# scoring the model for [['age', 'pclass','fare']]\n",
    "\n",
    "logit_afp.score(X_train[['age', 'pclass','fare']], y_train)\n",
    "\n",
    "# Makes predictions on the X_train set against the y_train reality."
   ]
  },
  {
   "cell_type": "code",
   "execution_count": 65,
   "id": "67c80e60",
   "metadata": {},
   "outputs": [
    {
     "data": {
      "text/plain": [
       "0.7009345794392523"
      ]
     },
     "execution_count": 65,
     "metadata": {},
     "output_type": "execute_result"
    }
   ],
   "source": [
    "# validation accuracy score\n",
    "\n",
    "logit_afp.score(X_val[['age', 'pclass','fare']], y_val)"
   ]
  },
  {
   "cell_type": "markdown",
   "id": "43da374f",
   "metadata": {},
   "source": [
    "**Observation :**  \n",
    "    The training accuracy of 71.89pc and the validation accuracy of 70.93pc are both better than the baseline of 59.63pc."
   ]
  },
  {
   "cell_type": "code",
   "execution_count": null,
   "id": "7ad42a5b",
   "metadata": {},
   "outputs": [],
   "source": []
  },
  {
   "cell_type": "code",
   "execution_count": 61,
   "id": "69ab070d",
   "metadata": {},
   "outputs": [],
   "source": [
    "#establishing y_predictions on X_train\n",
    "\n",
    "y_pred = logit_afp.predict(X_train[['age', 'pclass','fare']])\n",
    "\n",
    "# Makes predictions on the X_train set against the y_train reality."
   ]
  },
  {
   "cell_type": "code",
   "execution_count": 62,
   "id": "9865b704",
   "metadata": {},
   "outputs": [
    {
     "data": {
      "text/plain": [
       "array([[248,  91],\n",
       "       [ 49, 110]])"
      ]
     },
     "execution_count": 62,
     "metadata": {},
     "output_type": "execute_result"
    }
   ],
   "source": [
    "# returning the confusion matrix as an array\n",
    "\n",
    "confusion_matrix(y_pred, y_train)\n"
   ]
  },
  {
   "cell_type": "code",
   "execution_count": 63,
   "id": "98cb643b",
   "metadata": {},
   "outputs": [
    {
     "data": {
      "text/plain": [
       "(248, 49, 91, 110)"
      ]
     },
     "execution_count": 63,
     "metadata": {},
     "output_type": "execute_result"
    }
   ],
   "source": [
    "# assigning confusion matrix values to appropriate variables\n",
    "\n",
    "TN, FP, FN, TP = confusion_matrix(y_train, y_pred).ravel()\n",
    "\n",
    "TN, FP, FN, TP"
   ]
  },
  {
   "cell_type": "code",
   "execution_count": null,
   "id": "2403f5b6",
   "metadata": {},
   "outputs": [],
   "source": []
  },
  {
   "cell_type": "code",
   "execution_count": 76,
   "id": "6f4b65ef",
   "metadata": {},
   "outputs": [
    {
     "name": "stdout",
     "output_type": "stream",
     "text": [
      "Classification Report for survival based on age, fare & pclass.\n",
      "\n",
      "              precision    recall  f1-score   support\n",
      "\n",
      "           0       0.73      0.84      0.78       297\n",
      "           1       0.69      0.55      0.61       201\n",
      "\n",
      "    accuracy                           0.72       498\n",
      "   macro avg       0.71      0.69      0.70       498\n",
      "weighted avg       0.72      0.72      0.71       498\n",
      "\n",
      "-.-.-.-.-.-\n",
      "The baseline accuracy for non-survival in all cases on the Titanic is 0.5964.\n"
     ]
    }
   ],
   "source": [
    "print(f'Classification Report for survival based on age, fare & pclass.')\n",
    "print()\n",
    "print(classification_report(y_train, y_pred))\n",
    "print('-.-.-.-.-.-')\n",
    "print(f'The baseline accuracy for non-survival in all cases on the Titanic is {round(bline, 4)}.')\n"
   ]
  },
  {
   "cell_type": "markdown",
   "id": "fd419469",
   "metadata": {},
   "source": [
    "**TAKEAWAY :**  \n",
    "    THE MODEL BASED SOLELY ON AGE, PCLASS AND FARE INDICATES A HIGHER RATE OF SURVIVAL THAN THE BASELINE IN ALL CASES."
   ]
  },
  {
   "cell_type": "code",
   "execution_count": null,
   "id": "e772540e",
   "metadata": {},
   "outputs": [],
   "source": []
  },
  {
   "cell_type": "markdown",
   "id": "bbf21404",
   "metadata": {},
   "source": [
    "**<p style=\"background-color:Tomato;\">2 / Include sex in your model as well. Note that you'll need to encode or create a dummy variable of this feature before including it in a model.**"
   ]
  },
  {
   "cell_type": "code",
   "execution_count": 77,
   "id": "0b34338f",
   "metadata": {},
   "outputs": [],
   "source": [
    "# logistic regression model comprising age, fare, pclass, sex_male\n",
    "\n",
    "logit_afps = LogisticRegression(random_state = seed)"
   ]
  },
  {
   "cell_type": "code",
   "execution_count": 80,
   "id": "819ac2ff",
   "metadata": {},
   "outputs": [
    {
     "data": {
      "text/html": [
       "<style>#sk-container-id-3 {color: black;background-color: white;}#sk-container-id-3 pre{padding: 0;}#sk-container-id-3 div.sk-toggleable {background-color: white;}#sk-container-id-3 label.sk-toggleable__label {cursor: pointer;display: block;width: 100%;margin-bottom: 0;padding: 0.3em;box-sizing: border-box;text-align: center;}#sk-container-id-3 label.sk-toggleable__label-arrow:before {content: \"▸\";float: left;margin-right: 0.25em;color: #696969;}#sk-container-id-3 label.sk-toggleable__label-arrow:hover:before {color: black;}#sk-container-id-3 div.sk-estimator:hover label.sk-toggleable__label-arrow:before {color: black;}#sk-container-id-3 div.sk-toggleable__content {max-height: 0;max-width: 0;overflow: hidden;text-align: left;background-color: #f0f8ff;}#sk-container-id-3 div.sk-toggleable__content pre {margin: 0.2em;color: black;border-radius: 0.25em;background-color: #f0f8ff;}#sk-container-id-3 input.sk-toggleable__control:checked~div.sk-toggleable__content {max-height: 200px;max-width: 100%;overflow: auto;}#sk-container-id-3 input.sk-toggleable__control:checked~label.sk-toggleable__label-arrow:before {content: \"▾\";}#sk-container-id-3 div.sk-estimator input.sk-toggleable__control:checked~label.sk-toggleable__label {background-color: #d4ebff;}#sk-container-id-3 div.sk-label input.sk-toggleable__control:checked~label.sk-toggleable__label {background-color: #d4ebff;}#sk-container-id-3 input.sk-hidden--visually {border: 0;clip: rect(1px 1px 1px 1px);clip: rect(1px, 1px, 1px, 1px);height: 1px;margin: -1px;overflow: hidden;padding: 0;position: absolute;width: 1px;}#sk-container-id-3 div.sk-estimator {font-family: monospace;background-color: #f0f8ff;border: 1px dotted black;border-radius: 0.25em;box-sizing: border-box;margin-bottom: 0.5em;}#sk-container-id-3 div.sk-estimator:hover {background-color: #d4ebff;}#sk-container-id-3 div.sk-parallel-item::after {content: \"\";width: 100%;border-bottom: 1px solid gray;flex-grow: 1;}#sk-container-id-3 div.sk-label:hover label.sk-toggleable__label {background-color: #d4ebff;}#sk-container-id-3 div.sk-serial::before {content: \"\";position: absolute;border-left: 1px solid gray;box-sizing: border-box;top: 0;bottom: 0;left: 50%;z-index: 0;}#sk-container-id-3 div.sk-serial {display: flex;flex-direction: column;align-items: center;background-color: white;padding-right: 0.2em;padding-left: 0.2em;position: relative;}#sk-container-id-3 div.sk-item {position: relative;z-index: 1;}#sk-container-id-3 div.sk-parallel {display: flex;align-items: stretch;justify-content: center;background-color: white;position: relative;}#sk-container-id-3 div.sk-item::before, #sk-container-id-3 div.sk-parallel-item::before {content: \"\";position: absolute;border-left: 1px solid gray;box-sizing: border-box;top: 0;bottom: 0;left: 50%;z-index: -1;}#sk-container-id-3 div.sk-parallel-item {display: flex;flex-direction: column;z-index: 1;position: relative;background-color: white;}#sk-container-id-3 div.sk-parallel-item:first-child::after {align-self: flex-end;width: 50%;}#sk-container-id-3 div.sk-parallel-item:last-child::after {align-self: flex-start;width: 50%;}#sk-container-id-3 div.sk-parallel-item:only-child::after {width: 0;}#sk-container-id-3 div.sk-dashed-wrapped {border: 1px dashed gray;margin: 0 0.4em 0.5em 0.4em;box-sizing: border-box;padding-bottom: 0.4em;background-color: white;}#sk-container-id-3 div.sk-label label {font-family: monospace;font-weight: bold;display: inline-block;line-height: 1.2em;}#sk-container-id-3 div.sk-label-container {text-align: center;}#sk-container-id-3 div.sk-container {/* jupyter's `normalize.less` sets `[hidden] { display: none; }` but bootstrap.min.css set `[hidden] { display: none !important; }` so we also need the `!important` here to be able to override the default hidden behavior on the sphinx rendered scikit-learn.org. See: https://github.com/scikit-learn/scikit-learn/issues/21755 */display: inline-block !important;position: relative;}#sk-container-id-3 div.sk-text-repr-fallback {display: none;}</style><div id=\"sk-container-id-3\" class=\"sk-top-container\"><div class=\"sk-text-repr-fallback\"><pre>LogisticRegression(random_state=23)</pre><b>In a Jupyter environment, please rerun this cell to show the HTML representation or trust the notebook. <br />On GitHub, the HTML representation is unable to render, please try loading this page with nbviewer.org.</b></div><div class=\"sk-container\" hidden><div class=\"sk-item\"><div class=\"sk-estimator sk-toggleable\"><input class=\"sk-toggleable__control sk-hidden--visually\" id=\"sk-estimator-id-3\" type=\"checkbox\" checked><label for=\"sk-estimator-id-3\" class=\"sk-toggleable__label sk-toggleable__label-arrow\">LogisticRegression</label><div class=\"sk-toggleable__content\"><pre>LogisticRegression(random_state=23)</pre></div></div></div></div></div>"
      ],
      "text/plain": [
       "LogisticRegression(random_state=23)"
      ]
     },
     "execution_count": 80,
     "metadata": {},
     "output_type": "execute_result"
    }
   ],
   "source": [
    "# fit the objet to the train\n",
    "\n",
    "logit_afps.fit(X_train[['age', 'pclass','fare', 'sex_male']], y_train)\n",
    "\n",
    "# selsecting columns from X_train to examine"
   ]
  },
  {
   "cell_type": "code",
   "execution_count": 85,
   "id": "3970ca70",
   "metadata": {},
   "outputs": [
    {
     "data": {
      "text/html": [
       "<div>\n",
       "<style scoped>\n",
       "    .dataframe tbody tr th:only-of-type {\n",
       "        vertical-align: middle;\n",
       "    }\n",
       "\n",
       "    .dataframe tbody tr th {\n",
       "        vertical-align: top;\n",
       "    }\n",
       "\n",
       "    .dataframe thead th {\n",
       "        text-align: right;\n",
       "    }\n",
       "</style>\n",
       "<table border=\"1\" class=\"dataframe\">\n",
       "  <thead>\n",
       "    <tr style=\"text-align: right;\">\n",
       "      <th></th>\n",
       "      <th>columns</th>\n",
       "      <th>coefficient</th>\n",
       "    </tr>\n",
       "  </thead>\n",
       "  <tbody>\n",
       "    <tr>\n",
       "      <th>0</th>\n",
       "      <td>age</td>\n",
       "      <td>-0.045091</td>\n",
       "    </tr>\n",
       "    <tr>\n",
       "      <th>1</th>\n",
       "      <td>pclass</td>\n",
       "      <td>-1.425580</td>\n",
       "    </tr>\n",
       "    <tr>\n",
       "      <th>2</th>\n",
       "      <td>fare</td>\n",
       "      <td>-0.000709</td>\n",
       "    </tr>\n",
       "    <tr>\n",
       "      <th>3</th>\n",
       "      <td>sex_male</td>\n",
       "      <td>-2.508688</td>\n",
       "    </tr>\n",
       "  </tbody>\n",
       "</table>\n",
       "</div>"
      ],
      "text/plain": [
       "    columns  coefficient\n",
       "0       age    -0.045091\n",
       "1    pclass    -1.425580\n",
       "2      fare    -0.000709\n",
       "3  sex_male    -2.508688"
      ]
     },
     "execution_count": 85,
     "metadata": {},
     "output_type": "execute_result"
    }
   ],
   "source": [
    "# create a DF to pair the features\n",
    "\n",
    "afps = pd.DataFrame({'columns' : X_train[['age', 'pclass','fare', 'sex_male']].columns,\n",
    "             'coefficient' : logit_afps.coef_[0]})\n",
    "afps"
   ]
  },
  {
   "cell_type": "code",
   "execution_count": 86,
   "id": "4b9d1105",
   "metadata": {},
   "outputs": [
    {
     "data": {
      "text/plain": [
       "array([5.53501253])"
      ]
     },
     "execution_count": 86,
     "metadata": {},
     "output_type": "execute_result"
    }
   ],
   "source": [
    "# this is the y intercept on the graph\n",
    "logit_afps.intercept_\n"
   ]
  },
  {
   "cell_type": "code",
   "execution_count": 101,
   "id": "41f03209",
   "metadata": {},
   "outputs": [
    {
     "data": {
      "text/plain": [
       "0.8313253012048193"
      ]
     },
     "execution_count": 101,
     "metadata": {},
     "output_type": "execute_result"
    }
   ],
   "source": [
    "# scoring the model for [['age', 'pclass','fare','sex_male']]\n",
    "\n",
    "logit_afps.score(X_train[['age', 'pclass', 'fare', 'sex_male']], y_train)\n",
    "\n",
    "# train accuracy of 83.13pc"
   ]
  },
  {
   "cell_type": "code",
   "execution_count": 102,
   "id": "5b526a0b",
   "metadata": {},
   "outputs": [
    {
     "data": {
      "text/plain": [
       "0.794392523364486"
      ]
     },
     "execution_count": 102,
     "metadata": {},
     "output_type": "execute_result"
    }
   ],
   "source": [
    "# validation accuracy score\n",
    "\n",
    "logit_afps.score(X_val[['age', 'pclass','fare', 'sex_male']], y_val)\n",
    "\n",
    "# validation accuracy of 79.44pc"
   ]
  },
  {
   "cell_type": "markdown",
   "id": "20940829",
   "metadata": {},
   "source": [
    "**Observation :**  \n",
    "    The training accuracy of 83.13pc and the validation accuracy of 79.44pc are both better than the baseline of 59.63pc, and better than the model that was solely based on 'age', 'pclass', 'fare' (and excluded the currently included 'sex_male')."
   ]
  },
  {
   "cell_type": "code",
   "execution_count": null,
   "id": "6043bd47",
   "metadata": {},
   "outputs": [],
   "source": []
  },
  {
   "cell_type": "code",
   "execution_count": 104,
   "id": "24315776",
   "metadata": {},
   "outputs": [],
   "source": [
    "#establishing y_predictions on X_train\n",
    "\n",
    "y_pred_afps = logit_afps.predict(X_train[['age', 'pclass','fare', 'sex_male']])"
   ]
  },
  {
   "cell_type": "code",
   "execution_count": 105,
   "id": "77ac67be",
   "metadata": {},
   "outputs": [
    {
     "data": {
      "text/plain": [
       "array([[258,  45],\n",
       "       [ 39, 156]])"
      ]
     },
     "execution_count": 105,
     "metadata": {},
     "output_type": "execute_result"
    }
   ],
   "source": [
    "# returning the confusion matrix as an array\n",
    "\n",
    "confusion_matrix(y_pred_afps, y_train)\n"
   ]
  },
  {
   "cell_type": "code",
   "execution_count": 106,
   "id": "f8e4417a",
   "metadata": {},
   "outputs": [
    {
     "data": {
      "text/plain": [
       "array([[ 10, -46],\n",
       "       [-10,  46]])"
      ]
     },
     "execution_count": 106,
     "metadata": {},
     "output_type": "execute_result"
    }
   ],
   "source": [
    "confusion_matrix(y_pred_afps, y_train) - confusion_matrix(y_pred, y_train)\n",
    "\n",
    "# curious about the differences when including 'sex_male' (first equasion)"
   ]
  },
  {
   "cell_type": "code",
   "execution_count": 107,
   "id": "4430d594",
   "metadata": {},
   "outputs": [
    {
     "data": {
      "text/plain": [
       "(258, 39, 45, 156)"
      ]
     },
     "execution_count": 107,
     "metadata": {},
     "output_type": "execute_result"
    }
   ],
   "source": [
    "# assigning confusion matrix values to appropriate variables\n",
    "\n",
    "TN_afps, FP_afps, FN_afps, TP_afps = confusion_matrix(y_train, y_pred_afps).ravel()\n",
    "\n",
    "TN_afps, FP_afps, FN_afps, TP_afps"
   ]
  },
  {
   "cell_type": "code",
   "execution_count": 108,
   "id": "7a206307",
   "metadata": {},
   "outputs": [
    {
     "name": "stdout",
     "output_type": "stream",
     "text": [
      "Classification Report for survival based on age, fare, pclass and the sex_male dummy variable.\n",
      "\n",
      "              precision    recall  f1-score   support\n",
      "\n",
      "           0       0.85      0.87      0.86       297\n",
      "           1       0.80      0.78      0.79       201\n",
      "\n",
      "    accuracy                           0.83       498\n",
      "   macro avg       0.83      0.82      0.82       498\n",
      "weighted avg       0.83      0.83      0.83       498\n",
      "\n",
      "-.-.-.-.-.-\n",
      "The baseline accuracy for non-survival in all cases on the Titanic is 0.5964.\n"
     ]
    }
   ],
   "source": [
    "print(f'Classification Report for survival based on age, fare, pclass and the sex_male dummy variable.')\n",
    "print()\n",
    "print(classification_report(y_train, y_pred_afps))\n",
    "print('-.-.-.-.-.-')\n",
    "print(f'The baseline accuracy for non-survival in all cases on the Titanic is {round(bline, 4)}.')\n"
   ]
  },
  {
   "cell_type": "markdown",
   "id": "118acc70",
   "metadata": {},
   "source": [
    "**TAKEAWAY :**  \n",
    "    INCLUDING THE 'sex_male' COLUMN INCREASED THE LIKELIHOOD OF ACCURACY IN PREDICTION."
   ]
  },
  {
   "cell_type": "code",
   "execution_count": null,
   "id": "2dab4c73",
   "metadata": {},
   "outputs": [],
   "source": []
  },
  {
   "cell_type": "code",
   "execution_count": null,
   "id": "fa93d03e",
   "metadata": {},
   "outputs": [],
   "source": []
  },
  {
   "cell_type": "code",
   "execution_count": 115,
   "id": "624c672f",
   "metadata": {},
   "outputs": [
    {
     "data": {
      "text/plain": [
       "array([[0.74203195, 0.25796805],\n",
       "       [0.78698146, 0.21301854],\n",
       "       [0.75172319, 0.24827681],\n",
       "       [0.74197931, 0.25802069],\n",
       "       [0.76073067, 0.23926933],\n",
       "       [0.75153495, 0.24846505],\n",
       "       [0.81092294, 0.18907706],\n",
       "       [0.34101526, 0.65898474],\n",
       "       [0.71157916, 0.28842084],\n",
       "       [0.82630996, 0.17369004],\n",
       "       [0.4867013 , 0.5132987 ],\n",
       "       [0.57054466, 0.42945534],\n",
       "       [0.73492344, 0.26507656],\n",
       "       [0.73217626, 0.26782374],\n",
       "       [0.74201788, 0.25798212],\n",
       "       [0.25057002, 0.74942998],\n",
       "       [0.38464009, 0.61535991],\n",
       "       [0.88166261, 0.11833739],\n",
       "       [0.70178658, 0.29821342],\n",
       "       [0.2834477 , 0.7165523 ],\n",
       "       [0.83941339, 0.16058661],\n",
       "       [0.85913727, 0.14086273],\n",
       "       [0.71205296, 0.28794704],\n",
       "       [0.59409499, 0.40590501],\n",
       "       [0.77039803, 0.22960197],\n",
       "       [0.8183875 , 0.1816125 ],\n",
       "       [0.89805639, 0.10194361],\n",
       "       [0.23604838, 0.76395162],\n",
       "       [0.9559102 , 0.0440898 ],\n",
       "       [0.47891315, 0.52108685],\n",
       "       [0.7785388 , 0.2214612 ],\n",
       "       [0.25160501, 0.74839499],\n",
       "       [0.29828382, 0.70171618],\n",
       "       [0.91369644, 0.08630356],\n",
       "       [0.7787252 , 0.2212748 ],\n",
       "       [0.32824857, 0.67175143],\n",
       "       [0.12712757, 0.87287243],\n",
       "       [0.82632575, 0.17367425],\n",
       "       [0.72237199, 0.27762801],\n",
       "       [0.50570953, 0.49429047],\n",
       "       [0.76327966, 0.23672034],\n",
       "       [0.69102044, 0.30897956],\n",
       "       [0.22694022, 0.77305978],\n",
       "       [0.23604838, 0.76395162],\n",
       "       [0.26285746, 0.73714254],\n",
       "       [0.62445492, 0.37554508],\n",
       "       [0.78707364, 0.21292636],\n",
       "       [0.78447007, 0.21552993],\n",
       "       [0.74176515, 0.25823485],\n",
       "       [0.4794781 , 0.5205219 ],\n",
       "       [0.62993021, 0.37006979],\n",
       "       [0.81930929, 0.18069071],\n",
       "       [0.18028668, 0.81971332],\n",
       "       [0.76899428, 0.23100572],\n",
       "       [0.90577814, 0.09422186],\n",
       "       [0.7758233 , 0.2241767 ],\n",
       "       [0.71230474, 0.28769526],\n",
       "       [0.76961891, 0.23038109],\n",
       "       [0.78709517, 0.21290483],\n",
       "       [0.12054653, 0.87945347],\n",
       "       [0.83334177, 0.16665823],\n",
       "       [0.91796407, 0.08203593],\n",
       "       [0.56960877, 0.43039123],\n",
       "       [0.3690223 , 0.6309777 ],\n",
       "       [0.74026651, 0.25973349],\n",
       "       [0.74197577, 0.25802423],\n",
       "       [0.60050614, 0.39949386],\n",
       "       [0.23994221, 0.76005779],\n",
       "       [0.75021821, 0.24978179],\n",
       "       [0.50463266, 0.49536734],\n",
       "       [0.21193035, 0.78806965],\n",
       "       [0.50153204, 0.49846796],\n",
       "       [0.81187516, 0.18812484],\n",
       "       [0.52431437, 0.47568563],\n",
       "       [0.70148584, 0.29851416],\n",
       "       [0.78709517, 0.21290483],\n",
       "       [0.43496476, 0.56503524],\n",
       "       [0.75194548, 0.24805452],\n",
       "       [0.77917971, 0.22082029],\n",
       "       [0.07203582, 0.92796418],\n",
       "       [0.25451554, 0.74548446],\n",
       "       [0.52439954, 0.47560046],\n",
       "       [0.42337486, 0.57662514],\n",
       "       [0.79311553, 0.20688447],\n",
       "       [0.26562322, 0.73437678],\n",
       "       [0.8918183 , 0.1081817 ],\n",
       "       [0.88472599, 0.11527401],\n",
       "       [0.16271941, 0.83728059],\n",
       "       [0.21721116, 0.78278884],\n",
       "       [0.88237437, 0.11762563],\n",
       "       [0.80345667, 0.19654333],\n",
       "       [0.76347833, 0.23652167],\n",
       "       [0.50431691, 0.49568309],\n",
       "       [0.8816662 , 0.1183338 ],\n",
       "       [0.54635318, 0.45364682],\n",
       "       [0.28338532, 0.71661468],\n",
       "       [0.85433516, 0.14566484],\n",
       "       [0.58582223, 0.41417777],\n",
       "       [0.73047262, 0.26952738],\n",
       "       [0.87143102, 0.12856898],\n",
       "       [0.54996606, 0.45003394],\n",
       "       [0.19887448, 0.80112552],\n",
       "       [0.58306254, 0.41693746],\n",
       "       [0.05748167, 0.94251833],\n",
       "       [0.23533448, 0.76466552],\n",
       "       [0.71013163, 0.28986837],\n",
       "       [0.55263458, 0.44736542]])"
      ]
     },
     "execution_count": 115,
     "metadata": {},
     "output_type": "execute_result"
    }
   ],
   "source": [
    "# look at options to predict probability, instead of just T / F\n",
    "\n",
    "# certainty for each option : [['age', 'pclass','fare']]\n",
    "\n",
    "probability_array_afp = logit_afp.predict_proba(X_val[['age', 'pclass','fare']])\n",
    "probability_array_afp\n",
    "\n",
    "# each row its own list\n",
    "# each row adds up to 1 (F prob / T prob)"
   ]
  },
  {
   "cell_type": "code",
   "execution_count": 116,
   "id": "f4cf9e80",
   "metadata": {},
   "outputs": [
    {
     "data": {
      "text/plain": [
       "array([0.25796805, 0.21301854, 0.24827681, 0.25802069, 0.23926933])"
      ]
     },
     "execution_count": 116,
     "metadata": {},
     "output_type": "execute_result"
    }
   ],
   "source": [
    "## write a list comprehension to allow for graphing \n",
    "\n",
    "probability_T_afp = np.array([row[1] for row in probability_array_afp])\n",
    "probability_T_afp[:5]"
   ]
  },
  {
   "cell_type": "code",
   "execution_count": 118,
   "id": "57b671a0",
   "metadata": {},
   "outputs": [],
   "source": [
    "graph_afp = pd.DataFrame({'probability_True': probability_T_afp,\n",
    "             'actual_label' : y_val})"
   ]
  },
  {
   "cell_type": "code",
   "execution_count": 120,
   "id": "49ff343e",
   "metadata": {},
   "outputs": [
    {
     "data": {
      "text/plain": [
       "<seaborn.axisgrid.FacetGrid at 0x12d5b86d0>"
      ]
     },
     "execution_count": 120,
     "metadata": {},
     "output_type": "execute_result"
    },
    {
     "data": {
      "image/png": "[encoded data removed]",
      "text/plain": [
       "<Figure size 594.861x500 with 1 Axes>"
      ]
     },
     "metadata": {},
     "output_type": "display_data"
    }
   ],
   "source": [
    "sns.relplot(data = graph_afp, x = 'probability_True', y = 'probability_True', hue = 'actual_label')"
   ]
  },
  {
   "cell_type": "code",
   "execution_count": 133,
   "id": "db36fd24",
   "metadata": {},
   "outputs": [
    {
     "data": {
      "text/plain": [
       "array([0.09949869, 0.0810261 , 0.09554394, 0.09949472, 0.09169814])"
      ]
     },
     "execution_count": 133,
     "metadata": {},
     "output_type": "execute_result"
    }
   ],
   "source": [
    "# certainty for each option : [['age', 'pclass','fare', 'sex_male']]\n",
    "\n",
    "probability_array_afps = logit_afps.predict_proba(X_val[['age', 'pclass','fare', 'sex_male']])\n",
    "probability_array_afps\n",
    "## write a list comprehension to allow for graphing \n",
    "\n",
    "probability_T_afps = np.array([row[1] for row in probability_array_afps])\n",
    "probability_T_afps[:5]"
   ]
  },
  {
   "cell_type": "code",
   "execution_count": 134,
   "id": "eb398ef7",
   "metadata": {},
   "outputs": [],
   "source": [
    "graph_afps = pd.DataFrame({'probability_True.': probability_T_afps,\n",
    "             'actual_label' : y_val})"
   ]
  },
  {
   "cell_type": "code",
   "execution_count": 135,
   "id": "5cb8a3e4",
   "metadata": {},
   "outputs": [
    {
     "data": {
      "text/plain": [
       "<seaborn.axisgrid.FacetGrid at 0x12d9eed00>"
      ]
     },
     "execution_count": 135,
     "metadata": {},
     "output_type": "execute_result"
    }
   ],
   "source": [
    "sns.relplot(data = graph_afps, x = 'probability_True.', y = 'probability_True.', hue = 'actual_label')"
   ]
  }
 ],
 "metadata": {
  "kernelspec": {
   "display_name": "Python 3 (ipykernel)",
   "language": "python",
   "name": "python3"
  },
  "language_info": {
   "codemirror_mode": {
    "name": "ipython",
    "version": 3
   },
   "file_extension": ".py",
   "mimetype": "text/x-python",
   "name": "python",
   "nbconvert_exporter": "python",
   "pygments_lexer": "ipython3",
   "version": "3.9.13"
  }
 },
 "nbformat": 4,
 "nbformat_minor": 5
}
